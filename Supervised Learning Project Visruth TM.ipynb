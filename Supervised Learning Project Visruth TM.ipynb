{
 "cells": [
  {
   "cell_type": "markdown",
   "metadata": {},
   "source": [
    "# Part 1"
   ]
  },
  {
   "cell_type": "code",
   "execution_count": 1,
   "metadata": {},
   "outputs": [],
   "source": [
    "import numpy as np   \n",
    "import pandas as pd    \n",
    "import matplotlib.pyplot as plt \n",
    "%matplotlib inline \n",
    "import seaborn as sns"
   ]
  },
  {
   "cell_type": "code",
   "execution_count": 2,
   "metadata": {},
   "outputs": [],
   "source": [
    "#loading CSV Files\n",
    "normal =pd.read_csv(\"Part1+-+Normal.csv\")\n",
    "typeh =pd.read_csv(\"Part1+-+Type_H.csv\")\n",
    "types =pd.read_csv(\"Part1+-+Type_S.csv\")"
   ]
  },
  {
   "cell_type": "markdown",
   "metadata": {},
   "source": [
    "Print shape"
   ]
  },
  {
   "cell_type": "code",
   "execution_count": 3,
   "metadata": {},
   "outputs": [
    {
     "data": {
      "text/plain": [
       "(100, 7)"
      ]
     },
     "execution_count": 3,
     "metadata": {},
     "output_type": "execute_result"
    }
   ],
   "source": [
    "normal.shape"
   ]
  },
  {
   "cell_type": "code",
   "execution_count": 4,
   "metadata": {},
   "outputs": [
    {
     "data": {
      "text/plain": [
       "(60, 7)"
      ]
     },
     "execution_count": 4,
     "metadata": {},
     "output_type": "execute_result"
    }
   ],
   "source": [
    "typeh.shape"
   ]
  },
  {
   "cell_type": "code",
   "execution_count": 5,
   "metadata": {},
   "outputs": [
    {
     "data": {
      "text/plain": [
       "(150, 7)"
      ]
     },
     "execution_count": 5,
     "metadata": {},
     "output_type": "execute_result"
    }
   ],
   "source": [
    "types.shape"
   ]
  },
  {
   "cell_type": "markdown",
   "metadata": {},
   "source": [
    "Print columns (head)"
   ]
  },
  {
   "cell_type": "code",
   "execution_count": 6,
   "metadata": {},
   "outputs": [
    {
     "name": "stdout",
     "output_type": "stream",
     "text": [
      "Index(['P_incidence', 'P_tilt', 'L_angle', 'S_slope', 'P_radius', 'S_Degree',\n",
      "       'Class'],\n",
      "      dtype='object')\n",
      "Index(['P_incidence', 'P_tilt', 'L_angle', 'S_slope', 'P_radius', 'S_Degree',\n",
      "       'Class'],\n",
      "      dtype='object')\n",
      "Index(['P_incidence', 'P_tilt', 'L_angle', 'S_slope', 'P_radius', 'S_Degree',\n",
      "       'Class'],\n",
      "      dtype='object')\n"
     ]
    },
    {
     "data": {
      "text/plain": [
       "(None, '\\n', None, '\\n', None)"
      ]
     },
     "execution_count": 6,
     "metadata": {},
     "output_type": "execute_result"
    }
   ],
   "source": [
    "print(normal.columns),\"\\n\" ,print(types.columns),\"\\n\" ,print(typeh.columns)"
   ]
  },
  {
   "cell_type": "code",
   "execution_count": 7,
   "metadata": {},
   "outputs": [
    {
     "data": {
      "text/html": [
       "<div>\n",
       "<style scoped>\n",
       "    .dataframe tbody tr th:only-of-type {\n",
       "        vertical-align: middle;\n",
       "    }\n",
       "\n",
       "    .dataframe tbody tr th {\n",
       "        vertical-align: top;\n",
       "    }\n",
       "\n",
       "    .dataframe thead th {\n",
       "        text-align: right;\n",
       "    }\n",
       "</style>\n",
       "<table border=\"1\" class=\"dataframe\">\n",
       "  <thead>\n",
       "    <tr style=\"text-align: right;\">\n",
       "      <th></th>\n",
       "      <th>P_incidence</th>\n",
       "      <th>P_tilt</th>\n",
       "      <th>L_angle</th>\n",
       "      <th>S_slope</th>\n",
       "      <th>P_radius</th>\n",
       "      <th>S_Degree</th>\n",
       "      <th>Class</th>\n",
       "    </tr>\n",
       "  </thead>\n",
       "  <tbody>\n",
       "    <tr>\n",
       "      <th>0</th>\n",
       "      <td>38.505273</td>\n",
       "      <td>16.964297</td>\n",
       "      <td>35.112814</td>\n",
       "      <td>21.540976</td>\n",
       "      <td>127.632875</td>\n",
       "      <td>7.986683</td>\n",
       "      <td>Normal</td>\n",
       "    </tr>\n",
       "    <tr>\n",
       "      <th>1</th>\n",
       "      <td>54.920858</td>\n",
       "      <td>18.968430</td>\n",
       "      <td>51.601455</td>\n",
       "      <td>35.952428</td>\n",
       "      <td>125.846646</td>\n",
       "      <td>2.001642</td>\n",
       "      <td>Normal</td>\n",
       "    </tr>\n",
       "    <tr>\n",
       "      <th>2</th>\n",
       "      <td>44.362490</td>\n",
       "      <td>8.945435</td>\n",
       "      <td>46.902096</td>\n",
       "      <td>35.417055</td>\n",
       "      <td>129.220682</td>\n",
       "      <td>4.994195</td>\n",
       "      <td>Normal</td>\n",
       "    </tr>\n",
       "    <tr>\n",
       "      <th>3</th>\n",
       "      <td>48.318931</td>\n",
       "      <td>17.452121</td>\n",
       "      <td>48.000000</td>\n",
       "      <td>30.866809</td>\n",
       "      <td>128.980308</td>\n",
       "      <td>-0.910941</td>\n",
       "      <td>Normal</td>\n",
       "    </tr>\n",
       "    <tr>\n",
       "      <th>4</th>\n",
       "      <td>45.701789</td>\n",
       "      <td>10.659859</td>\n",
       "      <td>42.577846</td>\n",
       "      <td>35.041929</td>\n",
       "      <td>130.178314</td>\n",
       "      <td>-3.388910</td>\n",
       "      <td>Normal</td>\n",
       "    </tr>\n",
       "  </tbody>\n",
       "</table>\n",
       "</div>"
      ],
      "text/plain": [
       "   P_incidence     P_tilt    L_angle    S_slope    P_radius  S_Degree   Class\n",
       "0    38.505273  16.964297  35.112814  21.540976  127.632875  7.986683  Normal\n",
       "1    54.920858  18.968430  51.601455  35.952428  125.846646  2.001642  Normal\n",
       "2    44.362490   8.945435  46.902096  35.417055  129.220682  4.994195  Normal\n",
       "3    48.318931  17.452121  48.000000  30.866809  128.980308 -0.910941  Normal\n",
       "4    45.701789  10.659859  42.577846  35.041929  130.178314 -3.388910  Normal"
      ]
     },
     "execution_count": 7,
     "metadata": {},
     "output_type": "execute_result"
    }
   ],
   "source": [
    "normal.head()"
   ]
  },
  {
   "cell_type": "code",
   "execution_count": 8,
   "metadata": {},
   "outputs": [
    {
     "data": {
      "text/html": [
       "<div>\n",
       "<style scoped>\n",
       "    .dataframe tbody tr th:only-of-type {\n",
       "        vertical-align: middle;\n",
       "    }\n",
       "\n",
       "    .dataframe tbody tr th {\n",
       "        vertical-align: top;\n",
       "    }\n",
       "\n",
       "    .dataframe thead th {\n",
       "        text-align: right;\n",
       "    }\n",
       "</style>\n",
       "<table border=\"1\" class=\"dataframe\">\n",
       "  <thead>\n",
       "    <tr style=\"text-align: right;\">\n",
       "      <th></th>\n",
       "      <th>P_incidence</th>\n",
       "      <th>P_tilt</th>\n",
       "      <th>L_angle</th>\n",
       "      <th>S_slope</th>\n",
       "      <th>P_radius</th>\n",
       "      <th>S_Degree</th>\n",
       "      <th>Class</th>\n",
       "    </tr>\n",
       "  </thead>\n",
       "  <tbody>\n",
       "    <tr>\n",
       "      <th>0</th>\n",
       "      <td>63.027818</td>\n",
       "      <td>22.552586</td>\n",
       "      <td>39.609117</td>\n",
       "      <td>40.475232</td>\n",
       "      <td>98.672917</td>\n",
       "      <td>-0.254400</td>\n",
       "      <td>Type_H</td>\n",
       "    </tr>\n",
       "    <tr>\n",
       "      <th>1</th>\n",
       "      <td>39.056951</td>\n",
       "      <td>10.060991</td>\n",
       "      <td>25.015378</td>\n",
       "      <td>28.995960</td>\n",
       "      <td>114.405425</td>\n",
       "      <td>4.564259</td>\n",
       "      <td>Type_H</td>\n",
       "    </tr>\n",
       "    <tr>\n",
       "      <th>2</th>\n",
       "      <td>68.832021</td>\n",
       "      <td>22.218482</td>\n",
       "      <td>50.092194</td>\n",
       "      <td>46.613539</td>\n",
       "      <td>105.985135</td>\n",
       "      <td>-3.530317</td>\n",
       "      <td>Type_H</td>\n",
       "    </tr>\n",
       "    <tr>\n",
       "      <th>3</th>\n",
       "      <td>69.297008</td>\n",
       "      <td>24.652878</td>\n",
       "      <td>44.311238</td>\n",
       "      <td>44.644130</td>\n",
       "      <td>101.868495</td>\n",
       "      <td>11.211523</td>\n",
       "      <td>Type_H</td>\n",
       "    </tr>\n",
       "    <tr>\n",
       "      <th>4</th>\n",
       "      <td>49.712859</td>\n",
       "      <td>9.652075</td>\n",
       "      <td>28.317406</td>\n",
       "      <td>40.060784</td>\n",
       "      <td>108.168725</td>\n",
       "      <td>7.918501</td>\n",
       "      <td>Type_H</td>\n",
       "    </tr>\n",
       "  </tbody>\n",
       "</table>\n",
       "</div>"
      ],
      "text/plain": [
       "   P_incidence     P_tilt    L_angle    S_slope    P_radius   S_Degree   Class\n",
       "0    63.027818  22.552586  39.609117  40.475232   98.672917  -0.254400  Type_H\n",
       "1    39.056951  10.060991  25.015378  28.995960  114.405425   4.564259  Type_H\n",
       "2    68.832021  22.218482  50.092194  46.613539  105.985135  -3.530317  Type_H\n",
       "3    69.297008  24.652878  44.311238  44.644130  101.868495  11.211523  Type_H\n",
       "4    49.712859   9.652075  28.317406  40.060784  108.168725   7.918501  Type_H"
      ]
     },
     "execution_count": 8,
     "metadata": {},
     "output_type": "execute_result"
    }
   ],
   "source": [
    "typeh.head()"
   ]
  },
  {
   "cell_type": "code",
   "execution_count": 9,
   "metadata": {},
   "outputs": [
    {
     "data": {
      "text/html": [
       "<div>\n",
       "<style scoped>\n",
       "    .dataframe tbody tr th:only-of-type {\n",
       "        vertical-align: middle;\n",
       "    }\n",
       "\n",
       "    .dataframe tbody tr th {\n",
       "        vertical-align: top;\n",
       "    }\n",
       "\n",
       "    .dataframe thead th {\n",
       "        text-align: right;\n",
       "    }\n",
       "</style>\n",
       "<table border=\"1\" class=\"dataframe\">\n",
       "  <thead>\n",
       "    <tr style=\"text-align: right;\">\n",
       "      <th></th>\n",
       "      <th>P_incidence</th>\n",
       "      <th>P_tilt</th>\n",
       "      <th>L_angle</th>\n",
       "      <th>S_slope</th>\n",
       "      <th>P_radius</th>\n",
       "      <th>S_Degree</th>\n",
       "      <th>Class</th>\n",
       "    </tr>\n",
       "  </thead>\n",
       "  <tbody>\n",
       "    <tr>\n",
       "      <th>0</th>\n",
       "      <td>74.377678</td>\n",
       "      <td>32.053104</td>\n",
       "      <td>78.772013</td>\n",
       "      <td>42.324573</td>\n",
       "      <td>143.560690</td>\n",
       "      <td>56.125906</td>\n",
       "      <td>Type_S</td>\n",
       "    </tr>\n",
       "    <tr>\n",
       "      <th>1</th>\n",
       "      <td>89.680567</td>\n",
       "      <td>32.704435</td>\n",
       "      <td>83.130732</td>\n",
       "      <td>56.976132</td>\n",
       "      <td>129.955476</td>\n",
       "      <td>92.027277</td>\n",
       "      <td>Type_S</td>\n",
       "    </tr>\n",
       "    <tr>\n",
       "      <th>2</th>\n",
       "      <td>44.529051</td>\n",
       "      <td>9.433234</td>\n",
       "      <td>52.000000</td>\n",
       "      <td>35.095817</td>\n",
       "      <td>134.711772</td>\n",
       "      <td>29.106575</td>\n",
       "      <td>Type_S</td>\n",
       "    </tr>\n",
       "    <tr>\n",
       "      <th>3</th>\n",
       "      <td>77.690577</td>\n",
       "      <td>21.380645</td>\n",
       "      <td>64.429442</td>\n",
       "      <td>56.309932</td>\n",
       "      <td>114.818751</td>\n",
       "      <td>26.931841</td>\n",
       "      <td>Type_S</td>\n",
       "    </tr>\n",
       "    <tr>\n",
       "      <th>4</th>\n",
       "      <td>76.147212</td>\n",
       "      <td>21.936186</td>\n",
       "      <td>82.961502</td>\n",
       "      <td>54.211027</td>\n",
       "      <td>123.932010</td>\n",
       "      <td>10.431972</td>\n",
       "      <td>Type_S</td>\n",
       "    </tr>\n",
       "  </tbody>\n",
       "</table>\n",
       "</div>"
      ],
      "text/plain": [
       "   P_incidence     P_tilt    L_angle    S_slope    P_radius   S_Degree   Class\n",
       "0    74.377678  32.053104  78.772013  42.324573  143.560690  56.125906  Type_S\n",
       "1    89.680567  32.704435  83.130732  56.976132  129.955476  92.027277  Type_S\n",
       "2    44.529051   9.433234  52.000000  35.095817  134.711772  29.106575  Type_S\n",
       "3    77.690577  21.380645  64.429442  56.309932  114.818751  26.931841  Type_S\n",
       "4    76.147212  21.936186  82.961502  54.211027  123.932010  10.431972  Type_S"
      ]
     },
     "execution_count": 9,
     "metadata": {},
     "output_type": "execute_result"
    }
   ],
   "source": [
    "types.head()"
   ]
  },
  {
   "cell_type": "markdown",
   "metadata": {},
   "source": [
    "Compare column names"
   ]
  },
  {
   "cell_type": "code",
   "execution_count": 10,
   "metadata": {},
   "outputs": [
    {
     "data": {
      "text/plain": [
       "array([ True,  True,  True,  True,  True,  True,  True])"
      ]
     },
     "execution_count": 10,
     "metadata": {},
     "output_type": "execute_result"
    }
   ],
   "source": [
    "normal.columns == typeh.columns"
   ]
  },
  {
   "cell_type": "code",
   "execution_count": 11,
   "metadata": {},
   "outputs": [
    {
     "data": {
      "text/plain": [
       "array([ True,  True,  True,  True,  True,  True,  True])"
      ]
     },
     "execution_count": 11,
     "metadata": {},
     "output_type": "execute_result"
    }
   ],
   "source": [
    "normal.columns == types.columns"
   ]
  },
  {
   "cell_type": "code",
   "execution_count": 12,
   "metadata": {},
   "outputs": [
    {
     "data": {
      "text/plain": [
       "array([ True,  True,  True,  True,  True,  True,  True])"
      ]
     },
     "execution_count": 12,
     "metadata": {},
     "output_type": "execute_result"
    }
   ],
   "source": [
    "typeh.columns== types.columns"
   ]
  },
  {
   "cell_type": "code",
   "execution_count": 13,
   "metadata": {},
   "outputs": [
    {
     "data": {
      "text/plain": [
       "P_incidence    True\n",
       "P_tilt         True\n",
       "L_angle        True\n",
       "S_slope        True\n",
       "P_radius       True\n",
       "S_Degree       True\n",
       "Class          True\n",
       "dtype: bool"
      ]
     },
     "execution_count": 13,
     "metadata": {},
     "output_type": "execute_result"
    }
   ],
   "source": [
    "normal.dtypes == typeh.dtypes"
   ]
  },
  {
   "cell_type": "code",
   "execution_count": 14,
   "metadata": {},
   "outputs": [
    {
     "data": {
      "text/plain": [
       "P_incidence    True\n",
       "P_tilt         True\n",
       "L_angle        True\n",
       "S_slope        True\n",
       "P_radius       True\n",
       "S_Degree       True\n",
       "Class          True\n",
       "dtype: bool"
      ]
     },
     "execution_count": 14,
     "metadata": {},
     "output_type": "execute_result"
    }
   ],
   "source": [
    "normal.dtypes == types.dtypes"
   ]
  },
  {
   "cell_type": "code",
   "execution_count": 15,
   "metadata": {},
   "outputs": [
    {
     "data": {
      "text/plain": [
       "P_incidence    True\n",
       "P_tilt         True\n",
       "L_angle        True\n",
       "S_slope        True\n",
       "P_radius       True\n",
       "S_Degree       True\n",
       "Class          True\n",
       "dtype: bool"
      ]
     },
     "execution_count": 15,
     "metadata": {},
     "output_type": "execute_result"
    }
   ],
   "source": [
    "typeh.dtypes== types.dtypes"
   ]
  },
  {
   "cell_type": "markdown",
   "metadata": {},
   "source": [
    "#The column names, order and type are same in all data sets."
   ]
  },
  {
   "cell_type": "markdown",
   "metadata": {},
   "source": [
    "Print data types"
   ]
  },
  {
   "cell_type": "code",
   "execution_count": 16,
   "metadata": {},
   "outputs": [
    {
     "data": {
      "text/plain": [
       "P_incidence    float64\n",
       "P_tilt         float64\n",
       "L_angle        float64\n",
       "S_slope        float64\n",
       "P_radius       float64\n",
       "S_Degree       float64\n",
       "Class           object\n",
       "dtype: object"
      ]
     },
     "execution_count": 16,
     "metadata": {},
     "output_type": "execute_result"
    }
   ],
   "source": [
    "normal.dtypes"
   ]
  },
  {
   "cell_type": "code",
   "execution_count": 17,
   "metadata": {},
   "outputs": [
    {
     "data": {
      "text/plain": [
       "P_incidence    float64\n",
       "P_tilt         float64\n",
       "L_angle        float64\n",
       "S_slope        float64\n",
       "P_radius       float64\n",
       "S_Degree       float64\n",
       "Class           object\n",
       "dtype: object"
      ]
     },
     "execution_count": 17,
     "metadata": {},
     "output_type": "execute_result"
    }
   ],
   "source": [
    "typeh.dtypes"
   ]
  },
  {
   "cell_type": "code",
   "execution_count": 18,
   "metadata": {},
   "outputs": [
    {
     "data": {
      "text/plain": [
       "P_incidence    float64\n",
       "P_tilt         float64\n",
       "L_angle        float64\n",
       "S_slope        float64\n",
       "P_radius       float64\n",
       "S_Degree       float64\n",
       "Class           object\n",
       "dtype: object"
      ]
     },
     "execution_count": 18,
     "metadata": {},
     "output_type": "execute_result"
    }
   ],
   "source": [
    "types.dtypes"
   ]
  },
  {
   "cell_type": "markdown",
   "metadata": {},
   "source": [
    "All columns are float type except the column Class, the column class is an object type.\n",
    "   The above statement is same for all 3 data frames."
   ]
  },
  {
   "cell_type": "markdown",
   "metadata": {},
   "source": [
    "Class’ variable’s distribution and categories"
   ]
  },
  {
   "cell_type": "code",
   "execution_count": 19,
   "metadata": {},
   "outputs": [
    {
     "data": {
      "text/plain": [
       "Normal    73\n",
       "Nrmal     27\n",
       "Name: Class, dtype: int64"
      ]
     },
     "execution_count": 19,
     "metadata": {},
     "output_type": "execute_result"
    }
   ],
   "source": [
    "normal['Class'].value_counts()"
   ]
  },
  {
   "cell_type": "code",
   "execution_count": 20,
   "metadata": {},
   "outputs": [
    {
     "data": {
      "text/plain": [
       "Type_H    37\n",
       "type_h    23\n",
       "Name: Class, dtype: int64"
      ]
     },
     "execution_count": 20,
     "metadata": {},
     "output_type": "execute_result"
    }
   ],
   "source": [
    "typeh['Class']. value_counts()"
   ]
  },
  {
   "cell_type": "code",
   "execution_count": 21,
   "metadata": {},
   "outputs": [
    {
     "data": {
      "text/plain": [
       "Type_S    133\n",
       "tp_s       17\n",
       "Name: Class, dtype: int64"
      ]
     },
     "execution_count": 21,
     "metadata": {},
     "output_type": "execute_result"
    }
   ],
   "source": [
    "types['Class']. value_counts()"
   ]
  },
  {
   "cell_type": "markdown",
   "metadata": {},
   "source": [
    "Unify Variations"
   ]
  },
  {
   "cell_type": "code",
   "execution_count": 22,
   "metadata": {},
   "outputs": [
    {
     "data": {
      "text/plain": [
       "Normal    100\n",
       "Name: Class, dtype: int64"
      ]
     },
     "execution_count": 22,
     "metadata": {},
     "output_type": "execute_result"
    }
   ],
   "source": [
    "normal['Class']=normal['Class'].replace({'Nrmal': 'Normal'})\n",
    "normal['Class'].value_counts()"
   ]
  },
  {
   "cell_type": "code",
   "execution_count": 23,
   "metadata": {},
   "outputs": [
    {
     "data": {
      "text/plain": [
       "Type_H    60\n",
       "Name: Class, dtype: int64"
      ]
     },
     "execution_count": 23,
     "metadata": {},
     "output_type": "execute_result"
    }
   ],
   "source": [
    "typeh['Class']=typeh['Class'].replace({'type_h': 'Type_H'})\n",
    "typeh['Class'].value_counts()"
   ]
  },
  {
   "cell_type": "code",
   "execution_count": 24,
   "metadata": {},
   "outputs": [
    {
     "data": {
      "text/plain": [
       "Type_S    150\n",
       "Name: Class, dtype: int64"
      ]
     },
     "execution_count": 24,
     "metadata": {},
     "output_type": "execute_result"
    }
   ],
   "source": [
    "types['Class']=types['Class'].replace({'tp_s': 'Type_S'})\n",
    "types['Class'].value_counts()"
   ]
  },
  {
   "cell_type": "markdown",
   "metadata": {},
   "source": [
    "Combine all the 3 DataFrames to form a single DataFrame"
   ]
  },
  {
   "cell_type": "code",
   "execution_count": 25,
   "metadata": {},
   "outputs": [
    {
     "data": {
      "text/html": [
       "<div>\n",
       "<style scoped>\n",
       "    .dataframe tbody tr th:only-of-type {\n",
       "        vertical-align: middle;\n",
       "    }\n",
       "\n",
       "    .dataframe tbody tr th {\n",
       "        vertical-align: top;\n",
       "    }\n",
       "\n",
       "    .dataframe thead th {\n",
       "        text-align: right;\n",
       "    }\n",
       "</style>\n",
       "<table border=\"1\" class=\"dataframe\">\n",
       "  <thead>\n",
       "    <tr style=\"text-align: right;\">\n",
       "      <th></th>\n",
       "      <th>P_incidence</th>\n",
       "      <th>P_tilt</th>\n",
       "      <th>L_angle</th>\n",
       "      <th>S_slope</th>\n",
       "      <th>P_radius</th>\n",
       "      <th>S_Degree</th>\n",
       "      <th>Class</th>\n",
       "    </tr>\n",
       "  </thead>\n",
       "  <tbody>\n",
       "    <tr>\n",
       "      <th>0</th>\n",
       "      <td>38.505273</td>\n",
       "      <td>16.964297</td>\n",
       "      <td>35.112814</td>\n",
       "      <td>21.540976</td>\n",
       "      <td>127.632875</td>\n",
       "      <td>7.986683</td>\n",
       "      <td>Normal</td>\n",
       "    </tr>\n",
       "    <tr>\n",
       "      <th>1</th>\n",
       "      <td>54.920858</td>\n",
       "      <td>18.968430</td>\n",
       "      <td>51.601455</td>\n",
       "      <td>35.952428</td>\n",
       "      <td>125.846646</td>\n",
       "      <td>2.001642</td>\n",
       "      <td>Normal</td>\n",
       "    </tr>\n",
       "    <tr>\n",
       "      <th>2</th>\n",
       "      <td>44.362490</td>\n",
       "      <td>8.945435</td>\n",
       "      <td>46.902096</td>\n",
       "      <td>35.417055</td>\n",
       "      <td>129.220682</td>\n",
       "      <td>4.994195</td>\n",
       "      <td>Normal</td>\n",
       "    </tr>\n",
       "    <tr>\n",
       "      <th>3</th>\n",
       "      <td>48.318931</td>\n",
       "      <td>17.452121</td>\n",
       "      <td>48.000000</td>\n",
       "      <td>30.866809</td>\n",
       "      <td>128.980308</td>\n",
       "      <td>-0.910941</td>\n",
       "      <td>Normal</td>\n",
       "    </tr>\n",
       "    <tr>\n",
       "      <th>4</th>\n",
       "      <td>45.701789</td>\n",
       "      <td>10.659859</td>\n",
       "      <td>42.577846</td>\n",
       "      <td>35.041929</td>\n",
       "      <td>130.178314</td>\n",
       "      <td>-3.388910</td>\n",
       "      <td>Normal</td>\n",
       "    </tr>\n",
       "    <tr>\n",
       "      <th>...</th>\n",
       "      <td>...</td>\n",
       "      <td>...</td>\n",
       "      <td>...</td>\n",
       "      <td>...</td>\n",
       "      <td>...</td>\n",
       "      <td>...</td>\n",
       "      <td>...</td>\n",
       "    </tr>\n",
       "    <tr>\n",
       "      <th>305</th>\n",
       "      <td>80.111572</td>\n",
       "      <td>33.942432</td>\n",
       "      <td>85.101608</td>\n",
       "      <td>46.169139</td>\n",
       "      <td>125.593624</td>\n",
       "      <td>100.292107</td>\n",
       "      <td>Type_S</td>\n",
       "    </tr>\n",
       "    <tr>\n",
       "      <th>306</th>\n",
       "      <td>95.480229</td>\n",
       "      <td>46.550053</td>\n",
       "      <td>59.000000</td>\n",
       "      <td>48.930176</td>\n",
       "      <td>96.683903</td>\n",
       "      <td>77.283072</td>\n",
       "      <td>Type_S</td>\n",
       "    </tr>\n",
       "    <tr>\n",
       "      <th>307</th>\n",
       "      <td>74.094731</td>\n",
       "      <td>18.823727</td>\n",
       "      <td>76.032156</td>\n",
       "      <td>55.271004</td>\n",
       "      <td>128.405731</td>\n",
       "      <td>73.388216</td>\n",
       "      <td>Type_S</td>\n",
       "    </tr>\n",
       "    <tr>\n",
       "      <th>308</th>\n",
       "      <td>87.679087</td>\n",
       "      <td>20.365613</td>\n",
       "      <td>93.822416</td>\n",
       "      <td>67.313473</td>\n",
       "      <td>120.944829</td>\n",
       "      <td>76.730629</td>\n",
       "      <td>Type_S</td>\n",
       "    </tr>\n",
       "    <tr>\n",
       "      <th>309</th>\n",
       "      <td>48.259920</td>\n",
       "      <td>16.417462</td>\n",
       "      <td>36.329137</td>\n",
       "      <td>31.842457</td>\n",
       "      <td>94.882336</td>\n",
       "      <td>28.343799</td>\n",
       "      <td>Type_S</td>\n",
       "    </tr>\n",
       "  </tbody>\n",
       "</table>\n",
       "<p>310 rows × 7 columns</p>\n",
       "</div>"
      ],
      "text/plain": [
       "     P_incidence     P_tilt    L_angle    S_slope    P_radius    S_Degree  \\\n",
       "0      38.505273  16.964297  35.112814  21.540976  127.632875    7.986683   \n",
       "1      54.920858  18.968430  51.601455  35.952428  125.846646    2.001642   \n",
       "2      44.362490   8.945435  46.902096  35.417055  129.220682    4.994195   \n",
       "3      48.318931  17.452121  48.000000  30.866809  128.980308   -0.910941   \n",
       "4      45.701789  10.659859  42.577846  35.041929  130.178314   -3.388910   \n",
       "..           ...        ...        ...        ...         ...         ...   \n",
       "305    80.111572  33.942432  85.101608  46.169139  125.593624  100.292107   \n",
       "306    95.480229  46.550053  59.000000  48.930176   96.683903   77.283072   \n",
       "307    74.094731  18.823727  76.032156  55.271004  128.405731   73.388216   \n",
       "308    87.679087  20.365613  93.822416  67.313473  120.944829   76.730629   \n",
       "309    48.259920  16.417462  36.329137  31.842457   94.882336   28.343799   \n",
       "\n",
       "      Class  \n",
       "0    Normal  \n",
       "1    Normal  \n",
       "2    Normal  \n",
       "3    Normal  \n",
       "4    Normal  \n",
       "..      ...  \n",
       "305  Type_S  \n",
       "306  Type_S  \n",
       "307  Type_S  \n",
       "308  Type_S  \n",
       "309  Type_S  \n",
       "\n",
       "[310 rows x 7 columns]"
      ]
     },
     "execution_count": 25,
     "metadata": {},
     "output_type": "execute_result"
    }
   ],
   "source": [
    "ndf = pd.concat([normal,typeh,types],ignore_index=True)\n",
    "ndf"
   ]
  },
  {
   "cell_type": "code",
   "execution_count": 26,
   "metadata": {},
   "outputs": [
    {
     "name": "stdout",
     "output_type": "stream",
     "text": [
      "<class 'pandas.core.frame.DataFrame'>\n",
      "RangeIndex: 310 entries, 0 to 309\n",
      "Data columns (total 7 columns):\n",
      " #   Column       Non-Null Count  Dtype  \n",
      "---  ------       --------------  -----  \n",
      " 0   P_incidence  310 non-null    float64\n",
      " 1   P_tilt       310 non-null    float64\n",
      " 2   L_angle      310 non-null    float64\n",
      " 3   S_slope      310 non-null    float64\n",
      " 4   P_radius     310 non-null    float64\n",
      " 5   S_Degree     310 non-null    float64\n",
      " 6   Class        310 non-null    object \n",
      "dtypes: float64(6), object(1)\n",
      "memory usage: 17.1+ KB\n"
     ]
    }
   ],
   "source": [
    "ndf.info()"
   ]
  },
  {
   "cell_type": "code",
   "execution_count": 27,
   "metadata": {},
   "outputs": [
    {
     "data": {
      "text/plain": [
       "(310, 7)"
      ]
     },
     "execution_count": 27,
     "metadata": {},
     "output_type": "execute_result"
    }
   ],
   "source": [
    "ndf.shape"
   ]
  },
  {
   "cell_type": "code",
   "execution_count": 28,
   "metadata": {},
   "outputs": [
    {
     "data": {
      "text/html": [
       "<div>\n",
       "<style scoped>\n",
       "    .dataframe tbody tr th:only-of-type {\n",
       "        vertical-align: middle;\n",
       "    }\n",
       "\n",
       "    .dataframe tbody tr th {\n",
       "        vertical-align: top;\n",
       "    }\n",
       "\n",
       "    .dataframe thead th {\n",
       "        text-align: right;\n",
       "    }\n",
       "</style>\n",
       "<table border=\"1\" class=\"dataframe\">\n",
       "  <thead>\n",
       "    <tr style=\"text-align: right;\">\n",
       "      <th></th>\n",
       "      <th>P_incidence</th>\n",
       "      <th>P_tilt</th>\n",
       "      <th>L_angle</th>\n",
       "      <th>S_slope</th>\n",
       "      <th>P_radius</th>\n",
       "      <th>S_Degree</th>\n",
       "      <th>Class</th>\n",
       "    </tr>\n",
       "  </thead>\n",
       "  <tbody>\n",
       "    <tr>\n",
       "      <th>76</th>\n",
       "      <td>61.734875</td>\n",
       "      <td>17.114312</td>\n",
       "      <td>46.900000</td>\n",
       "      <td>44.620563</td>\n",
       "      <td>120.920200</td>\n",
       "      <td>3.087726</td>\n",
       "      <td>Normal</td>\n",
       "    </tr>\n",
       "    <tr>\n",
       "      <th>142</th>\n",
       "      <td>53.854798</td>\n",
       "      <td>19.230643</td>\n",
       "      <td>32.779060</td>\n",
       "      <td>34.624155</td>\n",
       "      <td>121.670915</td>\n",
       "      <td>5.329843</td>\n",
       "      <td>Type_H</td>\n",
       "    </tr>\n",
       "    <tr>\n",
       "      <th>201</th>\n",
       "      <td>79.938570</td>\n",
       "      <td>18.774071</td>\n",
       "      <td>63.311835</td>\n",
       "      <td>61.164499</td>\n",
       "      <td>114.787107</td>\n",
       "      <td>38.538741</td>\n",
       "      <td>Type_S</td>\n",
       "    </tr>\n",
       "    <tr>\n",
       "      <th>252</th>\n",
       "      <td>63.404481</td>\n",
       "      <td>14.115327</td>\n",
       "      <td>48.136806</td>\n",
       "      <td>49.289153</td>\n",
       "      <td>111.916007</td>\n",
       "      <td>31.784495</td>\n",
       "      <td>Type_S</td>\n",
       "    </tr>\n",
       "    <tr>\n",
       "      <th>288</th>\n",
       "      <td>85.680950</td>\n",
       "      <td>38.650035</td>\n",
       "      <td>82.680977</td>\n",
       "      <td>47.030914</td>\n",
       "      <td>120.840707</td>\n",
       "      <td>61.959034</td>\n",
       "      <td>Type_S</td>\n",
       "    </tr>\n",
       "  </tbody>\n",
       "</table>\n",
       "</div>"
      ],
      "text/plain": [
       "     P_incidence     P_tilt    L_angle    S_slope    P_radius   S_Degree  \\\n",
       "76     61.734875  17.114312  46.900000  44.620563  120.920200   3.087726   \n",
       "142    53.854798  19.230643  32.779060  34.624155  121.670915   5.329843   \n",
       "201    79.938570  18.774071  63.311835  61.164499  114.787107  38.538741   \n",
       "252    63.404481  14.115327  48.136806  49.289153  111.916007  31.784495   \n",
       "288    85.680950  38.650035  82.680977  47.030914  120.840707  61.959034   \n",
       "\n",
       "      Class  \n",
       "76   Normal  \n",
       "142  Type_H  \n",
       "201  Type_S  \n",
       "252  Type_S  \n",
       "288  Type_S  "
      ]
     },
     "execution_count": 28,
     "metadata": {},
     "output_type": "execute_result"
    }
   ],
   "source": [
    "#print 5 random samples\n",
    "ndf.sample(n=5,replace=True)"
   ]
  },
  {
   "cell_type": "code",
   "execution_count": 29,
   "metadata": {},
   "outputs": [
    {
     "data": {
      "text/plain": [
       "P_incidence    0\n",
       "P_tilt         0\n",
       "L_angle        0\n",
       "S_slope        0\n",
       "P_radius       0\n",
       "S_Degree       0\n",
       "Class          0\n",
       "dtype: int64"
      ]
     },
     "execution_count": 29,
     "metadata": {},
     "output_type": "execute_result"
    }
   ],
   "source": [
    "#total null values \n",
    "ndf. isnull(). sum() "
   ]
  },
  {
   "cell_type": "code",
   "execution_count": 30,
   "metadata": {},
   "outputs": [
    {
     "data": {
      "text/plain": [
       "P_incidence    0.0\n",
       "P_tilt         0.0\n",
       "L_angle        0.0\n",
       "S_slope        0.0\n",
       "P_radius       0.0\n",
       "S_Degree       0.0\n",
       "Class          0.0\n",
       "dtype: float64"
      ]
     },
     "execution_count": 30,
     "metadata": {},
     "output_type": "execute_result"
    }
   ],
   "source": [
    "#total % null values \n",
    "ndf. isnull(). sum()* 100 / len(ndf)"
   ]
  },
  {
   "cell_type": "code",
   "execution_count": 31,
   "metadata": {},
   "outputs": [
    {
     "data": {
      "text/html": [
       "<div>\n",
       "<style scoped>\n",
       "    .dataframe tbody tr th:only-of-type {\n",
       "        vertical-align: middle;\n",
       "    }\n",
       "\n",
       "    .dataframe tbody tr th {\n",
       "        vertical-align: top;\n",
       "    }\n",
       "\n",
       "    .dataframe thead th {\n",
       "        text-align: right;\n",
       "    }\n",
       "</style>\n",
       "<table border=\"1\" class=\"dataframe\">\n",
       "  <thead>\n",
       "    <tr style=\"text-align: right;\">\n",
       "      <th></th>\n",
       "      <th>count</th>\n",
       "      <th>mean</th>\n",
       "      <th>std</th>\n",
       "      <th>min</th>\n",
       "      <th>25%</th>\n",
       "      <th>50%</th>\n",
       "      <th>75%</th>\n",
       "      <th>max</th>\n",
       "    </tr>\n",
       "  </thead>\n",
       "  <tbody>\n",
       "    <tr>\n",
       "      <th>P_incidence</th>\n",
       "      <td>310.0</td>\n",
       "      <td>60.496653</td>\n",
       "      <td>17.236520</td>\n",
       "      <td>26.147921</td>\n",
       "      <td>46.430294</td>\n",
       "      <td>58.691038</td>\n",
       "      <td>72.877696</td>\n",
       "      <td>129.834041</td>\n",
       "    </tr>\n",
       "    <tr>\n",
       "      <th>P_tilt</th>\n",
       "      <td>310.0</td>\n",
       "      <td>17.542822</td>\n",
       "      <td>10.008330</td>\n",
       "      <td>-6.554948</td>\n",
       "      <td>10.667069</td>\n",
       "      <td>16.357689</td>\n",
       "      <td>22.120395</td>\n",
       "      <td>49.431864</td>\n",
       "    </tr>\n",
       "    <tr>\n",
       "      <th>L_angle</th>\n",
       "      <td>310.0</td>\n",
       "      <td>51.930930</td>\n",
       "      <td>18.554064</td>\n",
       "      <td>14.000000</td>\n",
       "      <td>37.000000</td>\n",
       "      <td>49.562398</td>\n",
       "      <td>63.000000</td>\n",
       "      <td>125.742385</td>\n",
       "    </tr>\n",
       "    <tr>\n",
       "      <th>S_slope</th>\n",
       "      <td>310.0</td>\n",
       "      <td>42.953831</td>\n",
       "      <td>13.423102</td>\n",
       "      <td>13.366931</td>\n",
       "      <td>33.347122</td>\n",
       "      <td>42.404912</td>\n",
       "      <td>52.695888</td>\n",
       "      <td>121.429566</td>\n",
       "    </tr>\n",
       "    <tr>\n",
       "      <th>P_radius</th>\n",
       "      <td>310.0</td>\n",
       "      <td>117.920655</td>\n",
       "      <td>13.317377</td>\n",
       "      <td>70.082575</td>\n",
       "      <td>110.709196</td>\n",
       "      <td>118.268178</td>\n",
       "      <td>125.467674</td>\n",
       "      <td>163.071041</td>\n",
       "    </tr>\n",
       "    <tr>\n",
       "      <th>S_Degree</th>\n",
       "      <td>310.0</td>\n",
       "      <td>26.296694</td>\n",
       "      <td>37.559027</td>\n",
       "      <td>-11.058179</td>\n",
       "      <td>1.603727</td>\n",
       "      <td>11.767934</td>\n",
       "      <td>41.287352</td>\n",
       "      <td>418.543082</td>\n",
       "    </tr>\n",
       "  </tbody>\n",
       "</table>\n",
       "</div>"
      ],
      "text/plain": [
       "             count        mean        std        min         25%         50%  \\\n",
       "P_incidence  310.0   60.496653  17.236520  26.147921   46.430294   58.691038   \n",
       "P_tilt       310.0   17.542822  10.008330  -6.554948   10.667069   16.357689   \n",
       "L_angle      310.0   51.930930  18.554064  14.000000   37.000000   49.562398   \n",
       "S_slope      310.0   42.953831  13.423102  13.366931   33.347122   42.404912   \n",
       "P_radius     310.0  117.920655  13.317377  70.082575  110.709196  118.268178   \n",
       "S_Degree     310.0   26.296694  37.559027 -11.058179    1.603727   11.767934   \n",
       "\n",
       "                    75%         max  \n",
       "P_incidence   72.877696  129.834041  \n",
       "P_tilt        22.120395   49.431864  \n",
       "L_angle       63.000000  125.742385  \n",
       "S_slope       52.695888  121.429566  \n",
       "P_radius     125.467674  163.071041  \n",
       "S_Degree      41.287352  418.543082  "
      ]
     },
     "execution_count": 31,
     "metadata": {},
     "output_type": "execute_result"
    }
   ],
   "source": [
    "#5 point summary of the new data frame\n",
    "ndf.describe().T"
   ]
  },
  {
   "cell_type": "code",
   "execution_count": 32,
   "metadata": {},
   "outputs": [
    {
     "data": {
      "image/png": "[encoded data removed]",
      "text/plain": [
       "<Figure size 504x288 with 1 Axes>"
      ]
     },
     "metadata": {
      "needs_background": "light"
     },
     "output_type": "display_data"
    },
    {
     "data": {
      "image/png": "[encoded data removed]",
      "text/plain": [
       "<Figure size 504x288 with 1 Axes>"
      ]
     },
     "metadata": {
      "needs_background": "light"
     },
     "output_type": "display_data"
    },
    {
     "data": {
      "image/png": "[encoded data removed]",
      "text/plain": [
       "<Figure size 504x288 with 1 Axes>"
      ]
     },
     "metadata": {
      "needs_background": "light"
     },
     "output_type": "display_data"
    },
    {
     "data": {
      "image/png": "[encoded data removed]",
      "text/plain": [
       "<Figure size 504x288 with 1 Axes>"
      ]
     },
     "metadata": {
      "needs_background": "light"
     },
     "output_type": "display_data"
    },
    {
     "data": {
      "image/png": "[encoded data removed]",
      "text/plain": [
       "<Figure size 504x288 with 1 Axes>"
      ]
     },
     "metadata": {
      "needs_background": "light"
     },
     "output_type": "display_data"
    },
    {
     "data": {
      "image/png": "[encoded data removed]",
      "text/plain": [
       "<Figure size 504x288 with 1 Axes>"
      ]
     },
     "metadata": {
      "needs_background": "light"
     },
     "output_type": "display_data"
    }
   ],
   "source": [
    "#5 point summary of the new data frame - visualization\n",
    "a= ndf.drop([\"Class\"], axis=1).columns\n",
    "for i in a:\n",
    "    plt.figure(figsize=(7,4))\n",
    "    sns.boxplot(data=ndf,x=i,orient='h');"
   ]
  },
  {
   "cell_type": "code",
   "execution_count": 33,
   "metadata": {},
   "outputs": [
    {
     "data": {
      "image/png": "[encoded data removed]",
      "text/plain": [
       "<Figure size 432x288 with 2 Axes>"
      ]
     },
     "metadata": {
      "needs_background": "light"
     },
     "output_type": "display_data"
    }
   ],
   "source": [
    "#heatmap\n",
    "sns.heatmap(data=ndf[['P_incidence','P_tilt','L_angle','S_slope','P_radius','S_Degree','Class']].corr(),annot =True,cmap='Greens');"
   ]
  },
  {
   "cell_type": "markdown",
   "metadata": {},
   "source": [
    "# Share insights on correlation\n",
    "1. high positive correlation between S_slope and P_incidence.\n",
    "2. very low negative correlation between P_radius and P_incidence.\n",
    "3. low negative correlation between P_radius and S_slope.\n",
    "4. Positive but no significant correclation between P_tilt and S_slope.\n",
    "5. Negative but no significant correclation between P_radius and S_Degree."
   ]
  },
  {
   "cell_type": "code",
   "execution_count": 34,
   "metadata": {},
   "outputs": [
    {
     "data": {
      "image/png": "[encoded data removed]",
      "text/plain": [
       "<Figure size 1152.73x1080 with 27 Axes>"
      ]
     },
     "metadata": {
      "needs_background": "light"
     },
     "output_type": "display_data"
    }
   ],
   "source": [
    "#pairplot\n",
    "sns.pairplot(data=ndf, vars=['P_incidence','P_tilt','L_angle','S_slope','P_radius','S_Degree'],hue='Class',corner = True);"
   ]
  },
  {
   "cell_type": "code",
   "execution_count": 35,
   "metadata": {},
   "outputs": [
    {
     "name": "stdout",
     "output_type": "stream",
     "text": [
      "Correlation coefficient is 0.815\n"
     ]
    },
    {
     "data": {
      "image/png": "[encoded data removed]",
      "text/plain": [
       "<Figure size 432x432 with 3 Axes>"
      ]
     },
     "metadata": {
      "needs_background": "light"
     },
     "output_type": "display_data"
    }
   ],
   "source": [
    "#joint plot\n",
    "sns.jointplot(data=ndf,x='S_slope',y='P_incidence',kind=\"reg\");\n",
    "print(\"Correlation coefficient is {}\".format(round((ndf.corr().loc['P_incidence', 'S_slope']),3)))"
   ]
  },
  {
   "cell_type": "markdown",
   "metadata": {},
   "source": [
    "Found a strong positive correlation between P_incidence and S_slope"
   ]
  },
  {
   "cell_type": "code",
   "execution_count": 36,
   "metadata": {},
   "outputs": [
    {
     "data": {
      "image/png": "[encoded data removed]",
      "text/plain": [
       "<Figure size 1440x720 with 1 Axes>"
      ]
     },
     "metadata": {
      "needs_background": "light"
     },
     "output_type": "display_data"
    }
   ],
   "source": [
    "#data = ['P_incidence','P_tilt','L_angle','S_slope','P_radius','S_Degree']\n",
    "plt.figure(figsize=(20,10))\n",
    "sns.boxplot(data=ndf);"
   ]
  },
  {
   "cell_type": "markdown",
   "metadata": {},
   "source": [
    "# Insights of the boxplot\n",
    "\n",
    "1. S_Degree is the tallest box. observations are widely distributed in this box.\n",
    "2. P_tilt is shortest box. observations are closely distributed in this box.\n",
    "3. S_Degree box is positive skewed.\n",
    "4. S_Degree has the farthest oulier."
   ]
  },
  {
   "cell_type": "code",
   "execution_count": 37,
   "metadata": {},
   "outputs": [
    {
     "data": {
      "text/html": [
       "<div>\n",
       "<style scoped>\n",
       "    .dataframe tbody tr th:only-of-type {\n",
       "        vertical-align: middle;\n",
       "    }\n",
       "\n",
       "    .dataframe tbody tr th {\n",
       "        vertical-align: top;\n",
       "    }\n",
       "\n",
       "    .dataframe thead th {\n",
       "        text-align: right;\n",
       "    }\n",
       "</style>\n",
       "<table border=\"1\" class=\"dataframe\">\n",
       "  <thead>\n",
       "    <tr style=\"text-align: right;\">\n",
       "      <th></th>\n",
       "      <th>P_incidence</th>\n",
       "      <th>P_tilt</th>\n",
       "      <th>L_angle</th>\n",
       "      <th>S_slope</th>\n",
       "      <th>P_radius</th>\n",
       "      <th>S_Degree</th>\n",
       "      <th>Class</th>\n",
       "    </tr>\n",
       "  </thead>\n",
       "  <tbody>\n",
       "    <tr>\n",
       "      <th>305</th>\n",
       "      <td>80.111572</td>\n",
       "      <td>33.942432</td>\n",
       "      <td>85.101608</td>\n",
       "      <td>46.169139</td>\n",
       "      <td>125.593624</td>\n",
       "      <td>100.292107</td>\n",
       "      <td>Type_S</td>\n",
       "    </tr>\n",
       "    <tr>\n",
       "      <th>306</th>\n",
       "      <td>95.480229</td>\n",
       "      <td>46.550053</td>\n",
       "      <td>59.000000</td>\n",
       "      <td>48.930176</td>\n",
       "      <td>96.683903</td>\n",
       "      <td>77.283072</td>\n",
       "      <td>Type_S</td>\n",
       "    </tr>\n",
       "    <tr>\n",
       "      <th>307</th>\n",
       "      <td>74.094731</td>\n",
       "      <td>18.823727</td>\n",
       "      <td>76.032156</td>\n",
       "      <td>55.271004</td>\n",
       "      <td>128.405731</td>\n",
       "      <td>73.388216</td>\n",
       "      <td>Type_S</td>\n",
       "    </tr>\n",
       "    <tr>\n",
       "      <th>308</th>\n",
       "      <td>87.679087</td>\n",
       "      <td>20.365613</td>\n",
       "      <td>93.822416</td>\n",
       "      <td>67.313473</td>\n",
       "      <td>120.944829</td>\n",
       "      <td>76.730629</td>\n",
       "      <td>Type_S</td>\n",
       "    </tr>\n",
       "    <tr>\n",
       "      <th>309</th>\n",
       "      <td>48.259920</td>\n",
       "      <td>16.417462</td>\n",
       "      <td>36.329137</td>\n",
       "      <td>31.842457</td>\n",
       "      <td>94.882336</td>\n",
       "      <td>28.343799</td>\n",
       "      <td>Type_S</td>\n",
       "    </tr>\n",
       "  </tbody>\n",
       "</table>\n",
       "</div>"
      ],
      "text/plain": [
       "     P_incidence     P_tilt    L_angle    S_slope    P_radius    S_Degree  \\\n",
       "305    80.111572  33.942432  85.101608  46.169139  125.593624  100.292107   \n",
       "306    95.480229  46.550053  59.000000  48.930176   96.683903   77.283072   \n",
       "307    74.094731  18.823727  76.032156  55.271004  128.405731   73.388216   \n",
       "308    87.679087  20.365613  93.822416  67.313473  120.944829   76.730629   \n",
       "309    48.259920  16.417462  36.329137  31.842457   94.882336   28.343799   \n",
       "\n",
       "      Class  \n",
       "305  Type_S  \n",
       "306  Type_S  \n",
       "307  Type_S  \n",
       "308  Type_S  \n",
       "309  Type_S  "
      ]
     },
     "execution_count": 37,
     "metadata": {},
     "output_type": "execute_result"
    }
   ],
   "source": [
    "ndf.tail()"
   ]
  },
  {
   "cell_type": "code",
   "execution_count": 38,
   "metadata": {},
   "outputs": [],
   "source": [
    "from sklearn.model_selection import train_test_split\n",
    "from sklearn.neighbors import KNeighborsClassifier\n",
    "from sklearn.preprocessing import StandardScaler"
   ]
  },
  {
   "cell_type": "code",
   "execution_count": 39,
   "metadata": {},
   "outputs": [],
   "source": [
    "# the independed variable.\n",
    "X = ndf.drop([\"Class\"], axis=1)\n",
    "# the dependent variable\n",
    "y = ndf[[\"Class\"]]\n",
    "y_=y.values.reshape((y.shape[0],))"
   ]
  },
  {
   "cell_type": "code",
   "execution_count": 40,
   "metadata": {},
   "outputs": [],
   "source": [
    "#Split data into train and test with 80:20 proportion\n",
    "X_train, X_test, y_train, y_test = train_test_split(X, y_,stratify=y, test_size=0.2, random_state=9)"
   ]
  },
  {
   "cell_type": "code",
   "execution_count": 41,
   "metadata": {},
   "outputs": [],
   "source": [
    "# Apply Z-score normalization separately to training and testing sets\n",
    "scaler = StandardScaler()\n",
    "X_train_scaled = scaler.fit_transform(X_train)\n",
    "X_test_scaled = scaler.transform(X_test)\n",
    "\n",
    "X_train=X_train_scaled\n",
    "X_test=X_test_scaled"
   ]
  },
  {
   "cell_type": "code",
   "execution_count": 42,
   "metadata": {},
   "outputs": [],
   "source": [
    "#Build KNN Model\n",
    "KNN = KNeighborsClassifier(n_neighbors= 5)"
   ]
  },
  {
   "cell_type": "code",
   "execution_count": 43,
   "metadata": {},
   "outputs": [
    {
     "data": {
      "text/plain": [
       "KNeighborsClassifier()"
      ]
     },
     "execution_count": 43,
     "metadata": {},
     "output_type": "execute_result"
    }
   ],
   "source": [
    "# Call Nearest Neighbour algorithm\n",
    "KNN.fit(X_train, y_train)"
   ]
  },
  {
   "cell_type": "code",
   "execution_count": 44,
   "metadata": {},
   "outputs": [
    {
     "name": "stdout",
     "output_type": "stream",
     "text": [
      "Accuracy of Training data: 0.8790322580645161\n",
      "Accuracy of Test data: 0.7258064516129032\n"
     ]
    }
   ],
   "source": [
    "predicted_labels = KNN.predict(X_test)\n",
    "print('Accuracy of Training data:',KNN.score(X_train, y_train) )\n",
    "print('Accuracy of Test data:',KNN.score(X_test, y_test) )"
   ]
  },
  {
   "cell_type": "markdown",
   "metadata": {},
   "source": [
    "Accuracy of training set is more than accuracy of testing set."
   ]
  },
  {
   "cell_type": "code",
   "execution_count": 45,
   "metadata": {},
   "outputs": [
    {
     "name": "stdout",
     "output_type": "stream",
     "text": [
      "Confusion Matrix\n"
     ]
    },
    {
     "data": {
      "image/png": "[encoded data removed]",
      "text/plain": [
       "<Figure size 504x360 with 2 Axes>"
      ]
     },
     "metadata": {
      "needs_background": "light"
     },
     "output_type": "display_data"
    }
   ],
   "source": [
    "from sklearn import metrics\n",
    "\n",
    "print(\"Confusion Matrix\")\n",
    "cm=metrics.confusion_matrix(y_test, predicted_labels, labels=[\"Normal\",\"Type_H\",\"Type_S\"])\n",
    "\n",
    "ndf_cm = pd.DataFrame(cm, index = [i for i in [\"Normal\",\"Type_H\",\"Type_S\"]],columns = [i for i in [\"Predicted_Normal\",\"Predicted_Type_H\",\"Predicted_Type_S\"]])\n",
    "plt.figure(figsize = (7,5))\n",
    "sns.heatmap(ndf_cm, annot=True);\n"
   ]
  },
  {
   "cell_type": "code",
   "execution_count": 46,
   "metadata": {},
   "outputs": [
    {
     "name": "stdout",
     "output_type": "stream",
     "text": [
      "              precision    recall  f1-score   support\n",
      "\n",
      "      Normal       0.57      0.65      0.60        20\n",
      "      Type_H       0.50      0.50      0.50        12\n",
      "      Type_S       0.96      0.87      0.91        30\n",
      "\n",
      "    accuracy                           0.73        62\n",
      "   macro avg       0.68      0.67      0.67        62\n",
      "weighted avg       0.75      0.73      0.73        62\n",
      "\n"
     ]
    }
   ],
   "source": [
    "from sklearn.metrics import classification_report\n",
    "print(classification_report(y_test, predicted_labels))"
   ]
  },
  {
   "cell_type": "markdown",
   "metadata": {},
   "source": [
    "Choosing K Value"
   ]
  },
  {
   "cell_type": "code",
   "execution_count": 47,
   "metadata": {},
   "outputs": [],
   "source": [
    "train_score=[]\n",
    "test_score=[]\n",
    "for k in range(1,51):\n",
    "    KNN = KNeighborsClassifier(n_neighbors= k) \n",
    "    KNN.fit(X_train, y_train)\n",
    "    train_score.append(KNN.score(X_train, y_train))\n",
    "    test_score.append(KNN.score(X_test, y_test))"
   ]
  },
  {
   "cell_type": "code",
   "execution_count": 48,
   "metadata": {},
   "outputs": [
    {
     "data": {
      "image/png": "[encoded data removed]",
      "text/plain": [
       "<Figure size 432x288 with 1 Axes>"
      ]
     },
     "metadata": {
      "needs_background": "light"
     },
     "output_type": "display_data"
    }
   ],
   "source": [
    "plt.plot(range(1,51),train_score);"
   ]
  },
  {
   "cell_type": "code",
   "execution_count": 49,
   "metadata": {},
   "outputs": [
    {
     "data": {
      "image/png": "[encoded data removed]",
      "text/plain": [
       "<Figure size 432x288 with 1 Axes>"
      ]
     },
     "metadata": {
      "needs_background": "light"
     },
     "output_type": "display_data"
    }
   ],
   "source": [
    "plt.plot(range(1,51),test_score);"
   ]
  },
  {
   "cell_type": "code",
   "execution_count": 50,
   "metadata": {},
   "outputs": [
    {
     "data": {
      "image/png": "[encoded data removed]",
      "text/plain": [
       "<Figure size 432x288 with 1 Axes>"
      ]
     },
     "metadata": {
      "needs_background": "light"
     },
     "output_type": "display_data"
    }
   ],
   "source": [
    "plt.plot(range(1,51),train_score,test_score);"
   ]
  },
  {
   "cell_type": "markdown",
   "metadata": {},
   "source": [
    "The best value of K is between 10 and 20"
   ]
  },
  {
   "cell_type": "code",
   "execution_count": 51,
   "metadata": {},
   "outputs": [
    {
     "name": "stdout",
     "output_type": "stream",
     "text": [
      "Accuracy of Training data for k 10 is 0.8346774193548387:\n",
      "Accuracy of Testing data for k 10 is 0.7741935483870968:\n",
      "              precision    recall  f1-score   support\n",
      "\n",
      "      Normal       0.64      0.70      0.67        20\n",
      "      Type_H       0.62      0.67      0.64        12\n",
      "      Type_S       0.96      0.87      0.91        30\n",
      "\n",
      "    accuracy                           0.77        62\n",
      "   macro avg       0.74      0.74      0.74        62\n",
      "weighted avg       0.79      0.77      0.78        62\n",
      "\n",
      "\n",
      "Accuracy of Training data for k 11 is 0.8467741935483871:\n",
      "Accuracy of Testing data for k 11 is 0.7741935483870968:\n",
      "              precision    recall  f1-score   support\n",
      "\n",
      "      Normal       0.65      0.65      0.65        20\n",
      "      Type_H       0.60      0.75      0.67        12\n",
      "      Type_S       0.96      0.87      0.91        30\n",
      "\n",
      "    accuracy                           0.77        62\n",
      "   macro avg       0.74      0.76      0.74        62\n",
      "weighted avg       0.79      0.77      0.78        62\n",
      "\n",
      "\n",
      "Accuracy of Training data for k 12 is 0.8387096774193549:\n",
      "Accuracy of Testing data for k 12 is 0.7741935483870968:\n",
      "              precision    recall  f1-score   support\n",
      "\n",
      "      Normal       0.62      0.75      0.68        20\n",
      "      Type_H       0.64      0.58      0.61        12\n",
      "      Type_S       0.96      0.87      0.91        30\n",
      "\n",
      "    accuracy                           0.77        62\n",
      "   macro avg       0.74      0.73      0.73        62\n",
      "weighted avg       0.79      0.77      0.78        62\n",
      "\n",
      "\n",
      "Accuracy of Training data for k 13 is 0.8508064516129032:\n",
      "Accuracy of Testing data for k 13 is 0.7741935483870968:\n",
      "              precision    recall  f1-score   support\n",
      "\n",
      "      Normal       0.64      0.70      0.67        20\n",
      "      Type_H       0.62      0.67      0.64        12\n",
      "      Type_S       0.96      0.87      0.91        30\n",
      "\n",
      "    accuracy                           0.77        62\n",
      "   macro avg       0.74      0.74      0.74        62\n",
      "weighted avg       0.79      0.77      0.78        62\n",
      "\n",
      "\n",
      "Accuracy of Training data for k 14 is 0.8548387096774194:\n",
      "Accuracy of Testing data for k 14 is 0.7419354838709677:\n",
      "              precision    recall  f1-score   support\n",
      "\n",
      "      Normal       0.61      0.70      0.65        20\n",
      "      Type_H       0.54      0.58      0.56        12\n",
      "      Type_S       0.96      0.83      0.89        30\n",
      "\n",
      "    accuracy                           0.74        62\n",
      "   macro avg       0.70      0.71      0.70        62\n",
      "weighted avg       0.77      0.74      0.75        62\n",
      "\n",
      "\n",
      "Accuracy of Training data for k 15 is 0.8467741935483871:\n",
      "Accuracy of Testing data for k 15 is 0.7741935483870968:\n",
      "              precision    recall  f1-score   support\n",
      "\n",
      "      Normal       0.67      0.70      0.68        20\n",
      "      Type_H       0.60      0.75      0.67        12\n",
      "      Type_S       0.96      0.83      0.89        30\n",
      "\n",
      "    accuracy                           0.77        62\n",
      "   macro avg       0.74      0.76      0.75        62\n",
      "weighted avg       0.80      0.77      0.78        62\n",
      "\n",
      "\n",
      "Accuracy of Training data for k 16 is 0.8387096774193549:\n",
      "Accuracy of Testing data for k 16 is 0.7903225806451613:\n",
      "              precision    recall  f1-score   support\n",
      "\n",
      "      Normal       0.68      0.75      0.71        20\n",
      "      Type_H       0.64      0.75      0.69        12\n",
      "      Type_S       0.96      0.83      0.89        30\n",
      "\n",
      "    accuracy                           0.79        62\n",
      "   macro avg       0.76      0.78      0.77        62\n",
      "weighted avg       0.81      0.79      0.80        62\n",
      "\n",
      "\n",
      "Accuracy of Training data for k 17 is 0.842741935483871:\n",
      "Accuracy of Testing data for k 17 is 0.7741935483870968:\n",
      "              precision    recall  f1-score   support\n",
      "\n",
      "      Normal       0.65      0.75      0.70        20\n",
      "      Type_H       0.62      0.67      0.64        12\n",
      "      Type_S       0.96      0.83      0.89        30\n",
      "\n",
      "    accuracy                           0.77        62\n",
      "   macro avg       0.74      0.75      0.74        62\n",
      "weighted avg       0.79      0.77      0.78        62\n",
      "\n",
      "\n",
      "Accuracy of Training data for k 18 is 0.8185483870967742:\n",
      "Accuracy of Testing data for k 18 is 0.7903225806451613:\n",
      "              precision    recall  f1-score   support\n",
      "\n",
      "      Normal       0.65      0.75      0.70        20\n",
      "      Type_H       0.69      0.75      0.72        12\n",
      "      Type_S       0.96      0.83      0.89        30\n",
      "\n",
      "    accuracy                           0.79        62\n",
      "   macro avg       0.77      0.78      0.77        62\n",
      "weighted avg       0.81      0.79      0.80        62\n",
      "\n",
      "\n",
      "Accuracy of Training data for k 19 is 0.8185483870967742:\n",
      "Accuracy of Testing data for k 19 is 0.7741935483870968:\n",
      "              precision    recall  f1-score   support\n",
      "\n",
      "      Normal       0.68      0.65      0.67        20\n",
      "      Type_H       0.56      0.75      0.64        12\n",
      "      Type_S       0.96      0.87      0.91        30\n",
      "\n",
      "    accuracy                           0.77        62\n",
      "   macro avg       0.74      0.76      0.74        62\n",
      "weighted avg       0.80      0.77      0.78        62\n",
      "\n",
      "\n",
      "Accuracy of Training data for k 20 is 0.8185483870967742:\n",
      "Accuracy of Testing data for k 20 is 0.7419354838709677:\n",
      "              precision    recall  f1-score   support\n",
      "\n",
      "      Normal       0.62      0.65      0.63        20\n",
      "      Type_H       0.50      0.58      0.54        12\n",
      "      Type_S       0.96      0.87      0.91        30\n",
      "\n",
      "    accuracy                           0.74        62\n",
      "   macro avg       0.69      0.70      0.69        62\n",
      "weighted avg       0.76      0.74      0.75        62\n",
      "\n",
      "\n"
     ]
    }
   ],
   "source": [
    "# metric is Manhattan\n",
    "k =np.arange(10,21)\n",
    "for i in k:\n",
    "    KNN = KNeighborsClassifier(n_neighbors= i,metric='manhattan')\n",
    "    KNN.fit(X_train, y_train)\n",
    "    predicted_labels = KNN.predict(X_test)\n",
    "    print('Accuracy of Training data for k {} is {}:'.format(i,KNN.score(X_train, y_train)))\n",
    "    print('Accuracy of Testing data for k {} is {}:'.format(i,KNN.score(X_test, y_test)))\n",
    "    print(classification_report(y_test, predicted_labels))\n",
    "    print(\"\")"
   ]
  },
  {
   "cell_type": "code",
   "execution_count": 52,
   "metadata": {},
   "outputs": [
    {
     "name": "stdout",
     "output_type": "stream",
     "text": [
      "Accuracy of Training data for k 10 is 0.8225806451612904:\n",
      "Accuracy of Testing data for k 10 is 0.7580645161290323:\n",
      "              precision    recall  f1-score   support\n",
      "\n",
      "      Normal       0.62      0.75      0.68        20\n",
      "      Type_H       0.58      0.58      0.58        12\n",
      "      Type_S       0.96      0.83      0.89        30\n",
      "\n",
      "    accuracy                           0.76        62\n",
      "   macro avg       0.72      0.72      0.72        62\n",
      "weighted avg       0.78      0.76      0.76        62\n",
      "\n",
      "\n",
      "Accuracy of Training data for k 11 is 0.8225806451612904:\n",
      "Accuracy of Testing data for k 11 is 0.7580645161290323:\n",
      "              precision    recall  f1-score   support\n",
      "\n",
      "      Normal       0.62      0.75      0.68        20\n",
      "      Type_H       0.58      0.58      0.58        12\n",
      "      Type_S       0.96      0.83      0.89        30\n",
      "\n",
      "    accuracy                           0.76        62\n",
      "   macro avg       0.72      0.72      0.72        62\n",
      "weighted avg       0.78      0.76      0.76        62\n",
      "\n",
      "\n",
      "Accuracy of Training data for k 12 is 0.8145161290322581:\n",
      "Accuracy of Testing data for k 12 is 0.7741935483870968:\n",
      "              precision    recall  f1-score   support\n",
      "\n",
      "      Normal       0.64      0.80      0.71        20\n",
      "      Type_H       0.64      0.58      0.61        12\n",
      "      Type_S       0.96      0.83      0.89        30\n",
      "\n",
      "    accuracy                           0.77        62\n",
      "   macro avg       0.75      0.74      0.74        62\n",
      "weighted avg       0.79      0.77      0.78        62\n",
      "\n",
      "\n",
      "Accuracy of Training data for k 13 is 0.8266129032258065:\n",
      "Accuracy of Testing data for k 13 is 0.7741935483870968:\n",
      "              precision    recall  f1-score   support\n",
      "\n",
      "      Normal       0.64      0.80      0.71        20\n",
      "      Type_H       0.64      0.58      0.61        12\n",
      "      Type_S       0.96      0.83      0.89        30\n",
      "\n",
      "    accuracy                           0.77        62\n",
      "   macro avg       0.75      0.74      0.74        62\n",
      "weighted avg       0.79      0.77      0.78        62\n",
      "\n",
      "\n",
      "Accuracy of Training data for k 14 is 0.8104838709677419:\n",
      "Accuracy of Testing data for k 14 is 0.7419354838709677:\n",
      "              precision    recall  f1-score   support\n",
      "\n",
      "      Normal       0.59      0.80      0.68        20\n",
      "      Type_H       0.56      0.42      0.48        12\n",
      "      Type_S       0.96      0.83      0.89        30\n",
      "\n",
      "    accuracy                           0.74        62\n",
      "   macro avg       0.70      0.68      0.68        62\n",
      "weighted avg       0.76      0.74      0.74        62\n",
      "\n",
      "\n",
      "Accuracy of Training data for k 15 is 0.8306451612903226:\n",
      "Accuracy of Testing data for k 15 is 0.7580645161290323:\n",
      "              precision    recall  f1-score   support\n",
      "\n",
      "      Normal       0.64      0.70      0.67        20\n",
      "      Type_H       0.54      0.58      0.56        12\n",
      "      Type_S       0.96      0.87      0.91        30\n",
      "\n",
      "    accuracy                           0.76        62\n",
      "   macro avg       0.71      0.72      0.71        62\n",
      "weighted avg       0.78      0.76      0.76        62\n",
      "\n",
      "\n",
      "Accuracy of Training data for k 16 is 0.8266129032258065:\n",
      "Accuracy of Testing data for k 16 is 0.7741935483870968:\n",
      "              precision    recall  f1-score   support\n",
      "\n",
      "      Normal       0.65      0.75      0.70        20\n",
      "      Type_H       0.58      0.58      0.58        12\n",
      "      Type_S       0.96      0.87      0.91        30\n",
      "\n",
      "    accuracy                           0.77        62\n",
      "   macro avg       0.73      0.73      0.73        62\n",
      "weighted avg       0.79      0.77      0.78        62\n",
      "\n",
      "\n",
      "Accuracy of Training data for k 17 is 0.8266129032258065:\n",
      "Accuracy of Testing data for k 17 is 0.7580645161290323:\n",
      "              precision    recall  f1-score   support\n",
      "\n",
      "      Normal       0.65      0.65      0.65        20\n",
      "      Type_H       0.53      0.67      0.59        12\n",
      "      Type_S       0.96      0.87      0.91        30\n",
      "\n",
      "    accuracy                           0.76        62\n",
      "   macro avg       0.72      0.73      0.72        62\n",
      "weighted avg       0.78      0.76      0.77        62\n",
      "\n",
      "\n",
      "Accuracy of Training data for k 18 is 0.8266129032258065:\n",
      "Accuracy of Testing data for k 18 is 0.7580645161290323:\n",
      "              precision    recall  f1-score   support\n",
      "\n",
      "      Normal       0.64      0.70      0.67        20\n",
      "      Type_H       0.57      0.67      0.62        12\n",
      "      Type_S       0.96      0.83      0.89        30\n",
      "\n",
      "    accuracy                           0.76        62\n",
      "   macro avg       0.72      0.73      0.72        62\n",
      "weighted avg       0.78      0.76      0.77        62\n",
      "\n",
      "\n",
      "Accuracy of Training data for k 19 is 0.8145161290322581:\n",
      "Accuracy of Testing data for k 19 is 0.7741935483870968:\n",
      "              precision    recall  f1-score   support\n",
      "\n",
      "      Normal       0.67      0.70      0.68        20\n",
      "      Type_H       0.57      0.67      0.62        12\n",
      "      Type_S       0.96      0.87      0.91        30\n",
      "\n",
      "    accuracy                           0.77        62\n",
      "   macro avg       0.73      0.74      0.74        62\n",
      "weighted avg       0.79      0.77      0.78        62\n",
      "\n",
      "\n",
      "Accuracy of Training data for k 20 is 0.8145161290322581:\n",
      "Accuracy of Testing data for k 20 is 0.7903225806451613:\n",
      "              precision    recall  f1-score   support\n",
      "\n",
      "      Normal       0.67      0.80      0.73        20\n",
      "      Type_H       0.73      0.67      0.70        12\n",
      "      Type_S       0.93      0.83      0.88        30\n",
      "\n",
      "    accuracy                           0.79        62\n",
      "   macro avg       0.77      0.77      0.77        62\n",
      "weighted avg       0.80      0.79      0.79        62\n",
      "\n",
      "\n"
     ]
    }
   ],
   "source": [
    "# metric is Euclidean\n",
    "k =np.arange(10,21)\n",
    "for i in k:\n",
    "    KNN = KNeighborsClassifier(n_neighbors= i,metric='euclidean')\n",
    "    KNN.fit(X_train, y_train)\n",
    "    predicted_labels = KNN.predict(X_test)\n",
    "    print('Accuracy of Training data for k {} is {}:'.format(i,KNN.score(X_train, y_train)))\n",
    "    print('Accuracy of Testing data for k {} is {}:'.format(i,KNN.score(X_test, y_test)))\n",
    "    print(classification_report(y_test, predicted_labels))\n",
    "    print(\"\")"
   ]
  },
  {
   "cell_type": "code",
   "execution_count": 53,
   "metadata": {},
   "outputs": [
    {
     "name": "stdout",
     "output_type": "stream",
     "text": [
      "Accuracy of Training data for k 10 is 0.8225806451612904:\n",
      "Accuracy of Testing data for k 10 is 0.7580645161290323:\n",
      "              precision    recall  f1-score   support\n",
      "\n",
      "      Normal       0.62      0.75      0.68        20\n",
      "      Type_H       0.58      0.58      0.58        12\n",
      "      Type_S       0.96      0.83      0.89        30\n",
      "\n",
      "    accuracy                           0.76        62\n",
      "   macro avg       0.72      0.72      0.72        62\n",
      "weighted avg       0.78      0.76      0.76        62\n",
      "\n",
      "\n",
      "Accuracy of Training data for k 11 is 0.8225806451612904:\n",
      "Accuracy of Testing data for k 11 is 0.7580645161290323:\n",
      "              precision    recall  f1-score   support\n",
      "\n",
      "      Normal       0.62      0.75      0.68        20\n",
      "      Type_H       0.58      0.58      0.58        12\n",
      "      Type_S       0.96      0.83      0.89        30\n",
      "\n",
      "    accuracy                           0.76        62\n",
      "   macro avg       0.72      0.72      0.72        62\n",
      "weighted avg       0.78      0.76      0.76        62\n",
      "\n",
      "\n",
      "Accuracy of Training data for k 12 is 0.8145161290322581:\n",
      "Accuracy of Testing data for k 12 is 0.7741935483870968:\n",
      "              precision    recall  f1-score   support\n",
      "\n",
      "      Normal       0.64      0.80      0.71        20\n",
      "      Type_H       0.64      0.58      0.61        12\n",
      "      Type_S       0.96      0.83      0.89        30\n",
      "\n",
      "    accuracy                           0.77        62\n",
      "   macro avg       0.75      0.74      0.74        62\n",
      "weighted avg       0.79      0.77      0.78        62\n",
      "\n",
      "\n",
      "Accuracy of Training data for k 13 is 0.8266129032258065:\n",
      "Accuracy of Testing data for k 13 is 0.7741935483870968:\n",
      "              precision    recall  f1-score   support\n",
      "\n",
      "      Normal       0.64      0.80      0.71        20\n",
      "      Type_H       0.64      0.58      0.61        12\n",
      "      Type_S       0.96      0.83      0.89        30\n",
      "\n",
      "    accuracy                           0.77        62\n",
      "   macro avg       0.75      0.74      0.74        62\n",
      "weighted avg       0.79      0.77      0.78        62\n",
      "\n",
      "\n",
      "Accuracy of Training data for k 14 is 0.8104838709677419:\n",
      "Accuracy of Testing data for k 14 is 0.7419354838709677:\n",
      "              precision    recall  f1-score   support\n",
      "\n",
      "      Normal       0.59      0.80      0.68        20\n",
      "      Type_H       0.56      0.42      0.48        12\n",
      "      Type_S       0.96      0.83      0.89        30\n",
      "\n",
      "    accuracy                           0.74        62\n",
      "   macro avg       0.70      0.68      0.68        62\n",
      "weighted avg       0.76      0.74      0.74        62\n",
      "\n",
      "\n",
      "Accuracy of Training data for k 15 is 0.8306451612903226:\n",
      "Accuracy of Testing data for k 15 is 0.7580645161290323:\n",
      "              precision    recall  f1-score   support\n",
      "\n",
      "      Normal       0.64      0.70      0.67        20\n",
      "      Type_H       0.54      0.58      0.56        12\n",
      "      Type_S       0.96      0.87      0.91        30\n",
      "\n",
      "    accuracy                           0.76        62\n",
      "   macro avg       0.71      0.72      0.71        62\n",
      "weighted avg       0.78      0.76      0.76        62\n",
      "\n",
      "\n",
      "Accuracy of Training data for k 16 is 0.8266129032258065:\n",
      "Accuracy of Testing data for k 16 is 0.7741935483870968:\n",
      "              precision    recall  f1-score   support\n",
      "\n",
      "      Normal       0.65      0.75      0.70        20\n",
      "      Type_H       0.58      0.58      0.58        12\n",
      "      Type_S       0.96      0.87      0.91        30\n",
      "\n",
      "    accuracy                           0.77        62\n",
      "   macro avg       0.73      0.73      0.73        62\n",
      "weighted avg       0.79      0.77      0.78        62\n",
      "\n",
      "\n",
      "Accuracy of Training data for k 17 is 0.8266129032258065:\n",
      "Accuracy of Testing data for k 17 is 0.7580645161290323:\n",
      "              precision    recall  f1-score   support\n",
      "\n",
      "      Normal       0.65      0.65      0.65        20\n",
      "      Type_H       0.53      0.67      0.59        12\n",
      "      Type_S       0.96      0.87      0.91        30\n",
      "\n",
      "    accuracy                           0.76        62\n",
      "   macro avg       0.72      0.73      0.72        62\n",
      "weighted avg       0.78      0.76      0.77        62\n",
      "\n",
      "\n",
      "Accuracy of Training data for k 18 is 0.8266129032258065:\n",
      "Accuracy of Testing data for k 18 is 0.7580645161290323:\n",
      "              precision    recall  f1-score   support\n",
      "\n",
      "      Normal       0.64      0.70      0.67        20\n",
      "      Type_H       0.57      0.67      0.62        12\n",
      "      Type_S       0.96      0.83      0.89        30\n",
      "\n",
      "    accuracy                           0.76        62\n",
      "   macro avg       0.72      0.73      0.72        62\n",
      "weighted avg       0.78      0.76      0.77        62\n",
      "\n",
      "\n",
      "Accuracy of Training data for k 19 is 0.8145161290322581:\n",
      "Accuracy of Testing data for k 19 is 0.7741935483870968:\n",
      "              precision    recall  f1-score   support\n",
      "\n",
      "      Normal       0.67      0.70      0.68        20\n",
      "      Type_H       0.57      0.67      0.62        12\n",
      "      Type_S       0.96      0.87      0.91        30\n",
      "\n",
      "    accuracy                           0.77        62\n",
      "   macro avg       0.73      0.74      0.74        62\n",
      "weighted avg       0.79      0.77      0.78        62\n",
      "\n",
      "\n",
      "Accuracy of Training data for k 20 is 0.8145161290322581:\n",
      "Accuracy of Testing data for k 20 is 0.7903225806451613:\n",
      "              precision    recall  f1-score   support\n",
      "\n",
      "      Normal       0.67      0.80      0.73        20\n",
      "      Type_H       0.73      0.67      0.70        12\n",
      "      Type_S       0.93      0.83      0.88        30\n",
      "\n",
      "    accuracy                           0.79        62\n",
      "   macro avg       0.77      0.77      0.77        62\n",
      "weighted avg       0.80      0.79      0.79        62\n",
      "\n",
      "\n"
     ]
    }
   ],
   "source": [
    "# metric is Minkowski\n",
    "k =np.arange(10,21)\n",
    "for i in k:\n",
    "    KNN = KNeighborsClassifier(n_neighbors= i,metric='minkowski')\n",
    "    KNN.fit(X_train, y_train)\n",
    "    predicted_labels = KNN.predict(X_test)\n",
    "    print('Accuracy of Training data for k {} is {}:'.format(i,KNN.score(X_train, y_train)))\n",
    "    print('Accuracy of Testing data for k {} is {}:'.format(i,KNN.score(X_test, y_test)))\n",
    "    print(classification_report(y_test, predicted_labels))\n",
    "    print(\"\")"
   ]
  },
  {
   "cell_type": "markdown",
   "metadata": {},
   "source": [
    "The best k value is 15"
   ]
  },
  {
   "cell_type": "markdown",
   "metadata": {},
   "source": [
    "The best hyperparameter is Manhattan"
   ]
  },
  {
   "cell_type": "code",
   "execution_count": 54,
   "metadata": {},
   "outputs": [
    {
     "name": "stdout",
     "output_type": "stream",
     "text": [
      "Accuracy of Training data for k 15 is 0.8467741935483871:\n",
      "Accuracy of Testing data for k 15 is 0.7741935483870968:\n",
      "              precision    recall  f1-score   support\n",
      "\n",
      "      Normal       0.67      0.70      0.68        20\n",
      "      Type_H       0.60      0.75      0.67        12\n",
      "      Type_S       0.96      0.83      0.89        30\n",
      "\n",
      "    accuracy                           0.77        62\n",
      "   macro avg       0.74      0.76      0.75        62\n",
      "weighted avg       0.80      0.77      0.78        62\n",
      "\n"
     ]
    }
   ],
   "source": [
    "#k=15 and hyperparameter is Manhattan\n",
    "KNN = KNeighborsClassifier(n_neighbors= 15,metric='manhattan')\n",
    "KNN.fit(X_train, y_train)\n",
    "predicted_labels = KNN.predict(X_test)\n",
    "print('Accuracy of Training data for k {} is {}:'.format(15,KNN.score(X_train, y_train)))\n",
    "print('Accuracy of Testing data for k {} is {}:'.format(15,KNN.score(X_test, y_test)))\n",
    "print(classification_report(y_test, predicted_labels))"
   ]
  },
  {
   "cell_type": "code",
   "execution_count": 55,
   "metadata": {},
   "outputs": [
    {
     "name": "stdout",
     "output_type": "stream",
     "text": [
      "Confusion Matrix   k=15  p=1\n"
     ]
    },
    {
     "data": {
      "image/png": "[encoded data removed]",
      "text/plain": [
       "<Figure size 504x360 with 2 Axes>"
      ]
     },
     "metadata": {
      "needs_background": "light"
     },
     "output_type": "display_data"
    }
   ],
   "source": [
    "#confusion metrix K=15 metric = Manhattan.\n",
    "print(\"Confusion Matrix   k=15  p=1\")\n",
    "cm=metrics.confusion_matrix(y_test, predicted_labels, labels=[\"Normal\",\"Type_H\",\"Type_S\"])\n",
    "\n",
    "ndf_cm = pd.DataFrame(cm, index = [i for i in [\"Normal\",\"Type_H\",\"Type_S\"]],columns = [i for i in [\"Predicted_Normal\",\"Predicted_Type_H\",\"Predicted_Type_S\"]])\n",
    "plt.figure(figsize = (7,5))\n",
    "sns.heatmap(ndf_cm, annot=True, cmap='viridis');"
   ]
  },
  {
   "cell_type": "markdown",
   "metadata": {},
   "source": [
    "Improvements in perfomance"
   ]
  },
  {
   "cell_type": "code",
   "execution_count": 56,
   "metadata": {},
   "outputs": [
    {
     "name": "stdout",
     "output_type": "stream",
     "text": [
      "Accuracy of Training data: 0.8790322580645161\n",
      "Accuracy of Test data: 0.7258064516129032\n",
      "              precision    recall  f1-score   support\n",
      "\n",
      "      Normal       0.57      0.65      0.60        20\n",
      "      Type_H       0.50      0.50      0.50        12\n",
      "      Type_S       0.96      0.87      0.91        30\n",
      "\n",
      "    accuracy                           0.73        62\n",
      "   macro avg       0.68      0.67      0.67        62\n",
      "weighted avg       0.75      0.73      0.73        62\n",
      "\n"
     ]
    }
   ],
   "source": [
    "#the first model \n",
    "KNN = KNeighborsClassifier(n_neighbors= 5)\n",
    "KNN.fit(X_train, y_train)\n",
    "predicted_labels = KNN.predict(X_test)\n",
    "print('Accuracy of Training data:',KNN.score(X_train, y_train) )\n",
    "print('Accuracy of Test data:',KNN.score(X_test, y_test) )\n",
    "print(classification_report(y_test, predicted_labels))"
   ]
  },
  {
   "cell_type": "code",
   "execution_count": 57,
   "metadata": {},
   "outputs": [
    {
     "name": "stdout",
     "output_type": "stream",
     "text": [
      "Accuracy of Training data: 0.8467741935483871\n",
      "Accuracy of Test data: 0.7741935483870968\n",
      "              precision    recall  f1-score   support\n",
      "\n",
      "      Normal       0.67      0.70      0.68        20\n",
      "      Type_H       0.60      0.75      0.67        12\n",
      "      Type_S       0.96      0.83      0.89        30\n",
      "\n",
      "    accuracy                           0.77        62\n",
      "   macro avg       0.74      0.76      0.75        62\n",
      "weighted avg       0.80      0.77      0.78        62\n",
      "\n"
     ]
    }
   ],
   "source": [
    "#the improved model\n",
    "KNN2 = KNeighborsClassifier(n_neighbors= 15,p=1)\n",
    "KNN2.fit(X_train, y_train)\n",
    "predicted_labels2 = KNN2.predict(X_test)\n",
    "print('Accuracy of Training data:',KNN2.score(X_train, y_train) )\n",
    "print('Accuracy of Test data:',KNN2.score(X_test, y_test) )\n",
    "print(classification_report(y_test, predicted_labels2))"
   ]
  },
  {
   "cell_type": "markdown",
   "metadata": {},
   "source": [
    "The above data shows that the perfomance of model has been improved after tuning the parameters. accuracy of testing data improved from 0.74 to 0.87"
   ]
  },
  {
   "cell_type": "markdown",
   "metadata": {},
   "source": [
    "The parameters contributed to improve model perfomance are.\n",
    "1. K value - Choosing the best k value helps to improve model's perfomance.\n",
    "2. Metric - Choosing the best method of distance measurements helps in improve model's perfomace."
   ]
  },
  {
   "cell_type": "markdown",
   "metadata": {},
   "source": [
    "Conclusion.\n",
    "\n",
    "The best value of K is 15 with Manhattan method of distance provides the best model out of the given dataset."
   ]
  },
  {
   "cell_type": "markdown",
   "metadata": {},
   "source": [
    "End of part 1"
   ]
  },
  {
   "cell_type": "markdown",
   "metadata": {},
   "source": [
    "## Part 2"
   ]
  },
  {
   "cell_type": "code",
   "execution_count": 58,
   "metadata": {},
   "outputs": [],
   "source": [
    "#loading CSV Files\n",
    "data1 =pd.read_csv(\"Part2+-+Data1.csv\")\n",
    "data2 =pd.read_csv(\"Part2+-Data2.csv\")"
   ]
  },
  {
   "cell_type": "code",
   "execution_count": 59,
   "metadata": {},
   "outputs": [
    {
     "data": {
      "text/plain": [
       "(5000, 8)"
      ]
     },
     "execution_count": 59,
     "metadata": {},
     "output_type": "execute_result"
    }
   ],
   "source": [
    "#print shapes\n",
    "data1.shape"
   ]
  },
  {
   "cell_type": "code",
   "execution_count": 60,
   "metadata": {},
   "outputs": [
    {
     "data": {
      "text/plain": [
       "(5000, 7)"
      ]
     },
     "execution_count": 60,
     "metadata": {},
     "output_type": "execute_result"
    }
   ],
   "source": [
    "data2.shape"
   ]
  },
  {
   "cell_type": "code",
   "execution_count": 61,
   "metadata": {},
   "outputs": [
    {
     "data": {
      "text/plain": [
       "Index(['ID', 'Age', 'CustomerSince', 'HighestSpend', 'ZipCode', 'HiddenScore',\n",
       "       'MonthlyAverageSpend', 'Level'],\n",
       "      dtype='object')"
      ]
     },
     "execution_count": 61,
     "metadata": {},
     "output_type": "execute_result"
    }
   ],
   "source": [
    "#print column names\n",
    "data1.columns"
   ]
  },
  {
   "cell_type": "code",
   "execution_count": 62,
   "metadata": {},
   "outputs": [
    {
     "data": {
      "text/plain": [
       "Index(['ID', 'Mortgage', 'Security', 'FixedDepositAccount', 'InternetBanking',\n",
       "       'CreditCard', 'LoanOnCard'],\n",
       "      dtype='object')"
      ]
     },
     "execution_count": 62,
     "metadata": {},
     "output_type": "execute_result"
    }
   ],
   "source": [
    "data2.columns"
   ]
  },
  {
   "cell_type": "code",
   "execution_count": 63,
   "metadata": {},
   "outputs": [
    {
     "data": {
      "text/html": [
       "<div>\n",
       "<style scoped>\n",
       "    .dataframe tbody tr th:only-of-type {\n",
       "        vertical-align: middle;\n",
       "    }\n",
       "\n",
       "    .dataframe tbody tr th {\n",
       "        vertical-align: top;\n",
       "    }\n",
       "\n",
       "    .dataframe thead th {\n",
       "        text-align: right;\n",
       "    }\n",
       "</style>\n",
       "<table border=\"1\" class=\"dataframe\">\n",
       "  <thead>\n",
       "    <tr style=\"text-align: right;\">\n",
       "      <th></th>\n",
       "      <th>ID</th>\n",
       "      <th>Age</th>\n",
       "      <th>CustomerSince</th>\n",
       "      <th>HighestSpend</th>\n",
       "      <th>ZipCode</th>\n",
       "      <th>HiddenScore</th>\n",
       "      <th>MonthlyAverageSpend</th>\n",
       "      <th>Level</th>\n",
       "    </tr>\n",
       "  </thead>\n",
       "  <tbody>\n",
       "    <tr>\n",
       "      <th>0</th>\n",
       "      <td>1</td>\n",
       "      <td>25</td>\n",
       "      <td>1</td>\n",
       "      <td>49</td>\n",
       "      <td>91107</td>\n",
       "      <td>4</td>\n",
       "      <td>1.6</td>\n",
       "      <td>1</td>\n",
       "    </tr>\n",
       "    <tr>\n",
       "      <th>1</th>\n",
       "      <td>2</td>\n",
       "      <td>45</td>\n",
       "      <td>19</td>\n",
       "      <td>34</td>\n",
       "      <td>90089</td>\n",
       "      <td>3</td>\n",
       "      <td>1.5</td>\n",
       "      <td>1</td>\n",
       "    </tr>\n",
       "    <tr>\n",
       "      <th>2</th>\n",
       "      <td>3</td>\n",
       "      <td>39</td>\n",
       "      <td>15</td>\n",
       "      <td>11</td>\n",
       "      <td>94720</td>\n",
       "      <td>1</td>\n",
       "      <td>1.0</td>\n",
       "      <td>1</td>\n",
       "    </tr>\n",
       "    <tr>\n",
       "      <th>3</th>\n",
       "      <td>4</td>\n",
       "      <td>35</td>\n",
       "      <td>9</td>\n",
       "      <td>100</td>\n",
       "      <td>94112</td>\n",
       "      <td>1</td>\n",
       "      <td>2.7</td>\n",
       "      <td>2</td>\n",
       "    </tr>\n",
       "    <tr>\n",
       "      <th>4</th>\n",
       "      <td>5</td>\n",
       "      <td>35</td>\n",
       "      <td>8</td>\n",
       "      <td>45</td>\n",
       "      <td>91330</td>\n",
       "      <td>4</td>\n",
       "      <td>1.0</td>\n",
       "      <td>2</td>\n",
       "    </tr>\n",
       "  </tbody>\n",
       "</table>\n",
       "</div>"
      ],
      "text/plain": [
       "   ID  Age  CustomerSince  HighestSpend  ZipCode  HiddenScore  \\\n",
       "0   1   25              1            49    91107            4   \n",
       "1   2   45             19            34    90089            3   \n",
       "2   3   39             15            11    94720            1   \n",
       "3   4   35              9           100    94112            1   \n",
       "4   5   35              8            45    91330            4   \n",
       "\n",
       "   MonthlyAverageSpend  Level  \n",
       "0                  1.6      1  \n",
       "1                  1.5      1  \n",
       "2                  1.0      1  \n",
       "3                  2.7      2  \n",
       "4                  1.0      2  "
      ]
     },
     "execution_count": 63,
     "metadata": {},
     "output_type": "execute_result"
    }
   ],
   "source": [
    "data1.head()"
   ]
  },
  {
   "cell_type": "code",
   "execution_count": 64,
   "metadata": {},
   "outputs": [
    {
     "data": {
      "text/html": [
       "<div>\n",
       "<style scoped>\n",
       "    .dataframe tbody tr th:only-of-type {\n",
       "        vertical-align: middle;\n",
       "    }\n",
       "\n",
       "    .dataframe tbody tr th {\n",
       "        vertical-align: top;\n",
       "    }\n",
       "\n",
       "    .dataframe thead th {\n",
       "        text-align: right;\n",
       "    }\n",
       "</style>\n",
       "<table border=\"1\" class=\"dataframe\">\n",
       "  <thead>\n",
       "    <tr style=\"text-align: right;\">\n",
       "      <th></th>\n",
       "      <th>ID</th>\n",
       "      <th>Mortgage</th>\n",
       "      <th>Security</th>\n",
       "      <th>FixedDepositAccount</th>\n",
       "      <th>InternetBanking</th>\n",
       "      <th>CreditCard</th>\n",
       "      <th>LoanOnCard</th>\n",
       "    </tr>\n",
       "  </thead>\n",
       "  <tbody>\n",
       "    <tr>\n",
       "      <th>0</th>\n",
       "      <td>1</td>\n",
       "      <td>0</td>\n",
       "      <td>1</td>\n",
       "      <td>0</td>\n",
       "      <td>0</td>\n",
       "      <td>0</td>\n",
       "      <td>NaN</td>\n",
       "    </tr>\n",
       "    <tr>\n",
       "      <th>1</th>\n",
       "      <td>2</td>\n",
       "      <td>0</td>\n",
       "      <td>1</td>\n",
       "      <td>0</td>\n",
       "      <td>0</td>\n",
       "      <td>0</td>\n",
       "      <td>NaN</td>\n",
       "    </tr>\n",
       "    <tr>\n",
       "      <th>2</th>\n",
       "      <td>3</td>\n",
       "      <td>0</td>\n",
       "      <td>0</td>\n",
       "      <td>0</td>\n",
       "      <td>0</td>\n",
       "      <td>0</td>\n",
       "      <td>NaN</td>\n",
       "    </tr>\n",
       "    <tr>\n",
       "      <th>3</th>\n",
       "      <td>4</td>\n",
       "      <td>0</td>\n",
       "      <td>0</td>\n",
       "      <td>0</td>\n",
       "      <td>0</td>\n",
       "      <td>0</td>\n",
       "      <td>NaN</td>\n",
       "    </tr>\n",
       "    <tr>\n",
       "      <th>4</th>\n",
       "      <td>5</td>\n",
       "      <td>0</td>\n",
       "      <td>0</td>\n",
       "      <td>0</td>\n",
       "      <td>0</td>\n",
       "      <td>1</td>\n",
       "      <td>NaN</td>\n",
       "    </tr>\n",
       "  </tbody>\n",
       "</table>\n",
       "</div>"
      ],
      "text/plain": [
       "   ID  Mortgage  Security  FixedDepositAccount  InternetBanking  CreditCard  \\\n",
       "0   1         0         1                    0                0           0   \n",
       "1   2         0         1                    0                0           0   \n",
       "2   3         0         0                    0                0           0   \n",
       "3   4         0         0                    0                0           0   \n",
       "4   5         0         0                    0                0           1   \n",
       "\n",
       "   LoanOnCard  \n",
       "0         NaN  \n",
       "1         NaN  \n",
       "2         NaN  \n",
       "3         NaN  \n",
       "4         NaN  "
      ]
     },
     "execution_count": 64,
     "metadata": {},
     "output_type": "execute_result"
    }
   ],
   "source": [
    "data2.head()"
   ]
  },
  {
   "cell_type": "code",
   "execution_count": 65,
   "metadata": {},
   "outputs": [
    {
     "data": {
      "text/plain": [
       "ID                       int64\n",
       "Age                      int64\n",
       "CustomerSince            int64\n",
       "HighestSpend             int64\n",
       "ZipCode                  int64\n",
       "HiddenScore              int64\n",
       "MonthlyAverageSpend    float64\n",
       "Level                    int64\n",
       "dtype: object"
      ]
     },
     "execution_count": 65,
     "metadata": {},
     "output_type": "execute_result"
    }
   ],
   "source": [
    "#data types\n",
    "data1.dtypes"
   ]
  },
  {
   "cell_type": "code",
   "execution_count": 66,
   "metadata": {},
   "outputs": [
    {
     "data": {
      "text/plain": [
       "ID                       int64\n",
       "Mortgage                 int64\n",
       "Security                 int64\n",
       "FixedDepositAccount      int64\n",
       "InternetBanking          int64\n",
       "CreditCard               int64\n",
       "LoanOnCard             float64\n",
       "dtype: object"
      ]
     },
     "execution_count": 66,
     "metadata": {},
     "output_type": "execute_result"
    }
   ],
   "source": [
    "data2.dtypes"
   ]
  },
  {
   "cell_type": "code",
   "execution_count": 67,
   "metadata": {},
   "outputs": [
    {
     "name": "stdout",
     "output_type": "stream",
     "text": [
      "<class 'pandas.core.frame.DataFrame'>\n",
      "RangeIndex: 5000 entries, 0 to 4999\n",
      "Data columns (total 8 columns):\n",
      " #   Column               Non-Null Count  Dtype  \n",
      "---  ------               --------------  -----  \n",
      " 0   ID                   5000 non-null   int64  \n",
      " 1   Age                  5000 non-null   int64  \n",
      " 2   CustomerSince        5000 non-null   int64  \n",
      " 3   HighestSpend         5000 non-null   int64  \n",
      " 4   ZipCode              5000 non-null   int64  \n",
      " 5   HiddenScore          5000 non-null   int64  \n",
      " 6   MonthlyAverageSpend  5000 non-null   float64\n",
      " 7   Level                5000 non-null   int64  \n",
      "dtypes: float64(1), int64(7)\n",
      "memory usage: 312.6 KB\n"
     ]
    }
   ],
   "source": [
    "data1.info()"
   ]
  },
  {
   "cell_type": "code",
   "execution_count": 68,
   "metadata": {},
   "outputs": [
    {
     "name": "stdout",
     "output_type": "stream",
     "text": [
      "<class 'pandas.core.frame.DataFrame'>\n",
      "RangeIndex: 5000 entries, 0 to 4999\n",
      "Data columns (total 7 columns):\n",
      " #   Column               Non-Null Count  Dtype  \n",
      "---  ------               --------------  -----  \n",
      " 0   ID                   5000 non-null   int64  \n",
      " 1   Mortgage             5000 non-null   int64  \n",
      " 2   Security             5000 non-null   int64  \n",
      " 3   FixedDepositAccount  5000 non-null   int64  \n",
      " 4   InternetBanking      5000 non-null   int64  \n",
      " 5   CreditCard           5000 non-null   int64  \n",
      " 6   LoanOnCard           4980 non-null   float64\n",
      "dtypes: float64(1), int64(6)\n",
      "memory usage: 273.6 KB\n"
     ]
    }
   ],
   "source": [
    "data2.info()"
   ]
  },
  {
   "cell_type": "code",
   "execution_count": 69,
   "metadata": {},
   "outputs": [
    {
     "data": {
      "text/plain": [
       "Index(['ID', 'Age', 'CustomerSince', 'HighestSpend', 'ZipCode', 'HiddenScore',\n",
       "       'MonthlyAverageSpend', 'Level', 'Mortgage', 'Security',\n",
       "       'FixedDepositAccount', 'InternetBanking', 'CreditCard', 'LoanOnCard'],\n",
       "      dtype='object')"
      ]
     },
     "execution_count": 69,
     "metadata": {},
     "output_type": "execute_result"
    }
   ],
   "source": [
    "#merge dataframe\n",
    "data=pd.merge(data1,data2,how='inner',on='ID')\n",
    "data.columns"
   ]
  },
  {
   "cell_type": "code",
   "execution_count": 70,
   "metadata": {},
   "outputs": [
    {
     "data": {
      "text/html": [
       "<div>\n",
       "<style scoped>\n",
       "    .dataframe tbody tr th:only-of-type {\n",
       "        vertical-align: middle;\n",
       "    }\n",
       "\n",
       "    .dataframe tbody tr th {\n",
       "        vertical-align: top;\n",
       "    }\n",
       "\n",
       "    .dataframe thead th {\n",
       "        text-align: right;\n",
       "    }\n",
       "</style>\n",
       "<table border=\"1\" class=\"dataframe\">\n",
       "  <thead>\n",
       "    <tr style=\"text-align: right;\">\n",
       "      <th></th>\n",
       "      <th>ID</th>\n",
       "      <th>Age</th>\n",
       "      <th>CustomerSince</th>\n",
       "      <th>HighestSpend</th>\n",
       "      <th>ZipCode</th>\n",
       "      <th>HiddenScore</th>\n",
       "      <th>MonthlyAverageSpend</th>\n",
       "      <th>Level</th>\n",
       "      <th>Mortgage</th>\n",
       "      <th>Security</th>\n",
       "      <th>FixedDepositAccount</th>\n",
       "      <th>InternetBanking</th>\n",
       "      <th>CreditCard</th>\n",
       "      <th>LoanOnCard</th>\n",
       "    </tr>\n",
       "  </thead>\n",
       "  <tbody>\n",
       "    <tr>\n",
       "      <th>0</th>\n",
       "      <td>1</td>\n",
       "      <td>25</td>\n",
       "      <td>1</td>\n",
       "      <td>49</td>\n",
       "      <td>91107</td>\n",
       "      <td>4</td>\n",
       "      <td>1.6</td>\n",
       "      <td>1</td>\n",
       "      <td>0</td>\n",
       "      <td>1</td>\n",
       "      <td>0</td>\n",
       "      <td>0</td>\n",
       "      <td>0</td>\n",
       "      <td>NaN</td>\n",
       "    </tr>\n",
       "    <tr>\n",
       "      <th>1</th>\n",
       "      <td>2</td>\n",
       "      <td>45</td>\n",
       "      <td>19</td>\n",
       "      <td>34</td>\n",
       "      <td>90089</td>\n",
       "      <td>3</td>\n",
       "      <td>1.5</td>\n",
       "      <td>1</td>\n",
       "      <td>0</td>\n",
       "      <td>1</td>\n",
       "      <td>0</td>\n",
       "      <td>0</td>\n",
       "      <td>0</td>\n",
       "      <td>NaN</td>\n",
       "    </tr>\n",
       "    <tr>\n",
       "      <th>2</th>\n",
       "      <td>3</td>\n",
       "      <td>39</td>\n",
       "      <td>15</td>\n",
       "      <td>11</td>\n",
       "      <td>94720</td>\n",
       "      <td>1</td>\n",
       "      <td>1.0</td>\n",
       "      <td>1</td>\n",
       "      <td>0</td>\n",
       "      <td>0</td>\n",
       "      <td>0</td>\n",
       "      <td>0</td>\n",
       "      <td>0</td>\n",
       "      <td>NaN</td>\n",
       "    </tr>\n",
       "    <tr>\n",
       "      <th>3</th>\n",
       "      <td>4</td>\n",
       "      <td>35</td>\n",
       "      <td>9</td>\n",
       "      <td>100</td>\n",
       "      <td>94112</td>\n",
       "      <td>1</td>\n",
       "      <td>2.7</td>\n",
       "      <td>2</td>\n",
       "      <td>0</td>\n",
       "      <td>0</td>\n",
       "      <td>0</td>\n",
       "      <td>0</td>\n",
       "      <td>0</td>\n",
       "      <td>NaN</td>\n",
       "    </tr>\n",
       "    <tr>\n",
       "      <th>4</th>\n",
       "      <td>5</td>\n",
       "      <td>35</td>\n",
       "      <td>8</td>\n",
       "      <td>45</td>\n",
       "      <td>91330</td>\n",
       "      <td>4</td>\n",
       "      <td>1.0</td>\n",
       "      <td>2</td>\n",
       "      <td>0</td>\n",
       "      <td>0</td>\n",
       "      <td>0</td>\n",
       "      <td>0</td>\n",
       "      <td>1</td>\n",
       "      <td>NaN</td>\n",
       "    </tr>\n",
       "  </tbody>\n",
       "</table>\n",
       "</div>"
      ],
      "text/plain": [
       "   ID  Age  CustomerSince  HighestSpend  ZipCode  HiddenScore  \\\n",
       "0   1   25              1            49    91107            4   \n",
       "1   2   45             19            34    90089            3   \n",
       "2   3   39             15            11    94720            1   \n",
       "3   4   35              9           100    94112            1   \n",
       "4   5   35              8            45    91330            4   \n",
       "\n",
       "   MonthlyAverageSpend  Level  Mortgage  Security  FixedDepositAccount  \\\n",
       "0                  1.6      1         0         1                    0   \n",
       "1                  1.5      1         0         1                    0   \n",
       "2                  1.0      1         0         0                    0   \n",
       "3                  2.7      2         0         0                    0   \n",
       "4                  1.0      2         0         0                    0   \n",
       "\n",
       "   InternetBanking  CreditCard  LoanOnCard  \n",
       "0                0           0         NaN  \n",
       "1                0           0         NaN  \n",
       "2                0           0         NaN  \n",
       "3                0           0         NaN  \n",
       "4                0           1         NaN  "
      ]
     },
     "execution_count": 70,
     "metadata": {},
     "output_type": "execute_result"
    }
   ],
   "source": [
    "data.head()"
   ]
  },
  {
   "cell_type": "code",
   "execution_count": 71,
   "metadata": {},
   "outputs": [
    {
     "data": {
      "text/html": [
       "<div>\n",
       "<style scoped>\n",
       "    .dataframe tbody tr th:only-of-type {\n",
       "        vertical-align: middle;\n",
       "    }\n",
       "\n",
       "    .dataframe tbody tr th {\n",
       "        vertical-align: top;\n",
       "    }\n",
       "\n",
       "    .dataframe thead th {\n",
       "        text-align: right;\n",
       "    }\n",
       "</style>\n",
       "<table border=\"1\" class=\"dataframe\">\n",
       "  <thead>\n",
       "    <tr style=\"text-align: right;\">\n",
       "      <th></th>\n",
       "      <th>ID</th>\n",
       "      <th>Age</th>\n",
       "      <th>CustomerSince</th>\n",
       "      <th>HighestSpend</th>\n",
       "      <th>ZipCode</th>\n",
       "      <th>HiddenScore</th>\n",
       "      <th>MonthlyAverageSpend</th>\n",
       "      <th>Level</th>\n",
       "      <th>Mortgage</th>\n",
       "      <th>Security</th>\n",
       "      <th>FixedDepositAccount</th>\n",
       "      <th>InternetBanking</th>\n",
       "      <th>CreditCard</th>\n",
       "      <th>LoanOnCard</th>\n",
       "    </tr>\n",
       "  </thead>\n",
       "  <tbody>\n",
       "    <tr>\n",
       "      <th>4995</th>\n",
       "      <td>4996</td>\n",
       "      <td>29</td>\n",
       "      <td>3</td>\n",
       "      <td>40</td>\n",
       "      <td>92697</td>\n",
       "      <td>1</td>\n",
       "      <td>1.9</td>\n",
       "      <td>3</td>\n",
       "      <td>0</td>\n",
       "      <td>0</td>\n",
       "      <td>0</td>\n",
       "      <td>1</td>\n",
       "      <td>0</td>\n",
       "      <td>0.0</td>\n",
       "    </tr>\n",
       "    <tr>\n",
       "      <th>4996</th>\n",
       "      <td>4997</td>\n",
       "      <td>30</td>\n",
       "      <td>4</td>\n",
       "      <td>15</td>\n",
       "      <td>92037</td>\n",
       "      <td>4</td>\n",
       "      <td>0.4</td>\n",
       "      <td>1</td>\n",
       "      <td>85</td>\n",
       "      <td>0</td>\n",
       "      <td>0</td>\n",
       "      <td>1</td>\n",
       "      <td>0</td>\n",
       "      <td>0.0</td>\n",
       "    </tr>\n",
       "    <tr>\n",
       "      <th>4997</th>\n",
       "      <td>4998</td>\n",
       "      <td>63</td>\n",
       "      <td>39</td>\n",
       "      <td>24</td>\n",
       "      <td>93023</td>\n",
       "      <td>2</td>\n",
       "      <td>0.3</td>\n",
       "      <td>3</td>\n",
       "      <td>0</td>\n",
       "      <td>0</td>\n",
       "      <td>0</td>\n",
       "      <td>0</td>\n",
       "      <td>0</td>\n",
       "      <td>0.0</td>\n",
       "    </tr>\n",
       "    <tr>\n",
       "      <th>4998</th>\n",
       "      <td>4999</td>\n",
       "      <td>65</td>\n",
       "      <td>40</td>\n",
       "      <td>49</td>\n",
       "      <td>90034</td>\n",
       "      <td>3</td>\n",
       "      <td>0.5</td>\n",
       "      <td>2</td>\n",
       "      <td>0</td>\n",
       "      <td>0</td>\n",
       "      <td>0</td>\n",
       "      <td>1</td>\n",
       "      <td>0</td>\n",
       "      <td>0.0</td>\n",
       "    </tr>\n",
       "    <tr>\n",
       "      <th>4999</th>\n",
       "      <td>5000</td>\n",
       "      <td>28</td>\n",
       "      <td>4</td>\n",
       "      <td>83</td>\n",
       "      <td>92612</td>\n",
       "      <td>3</td>\n",
       "      <td>0.8</td>\n",
       "      <td>1</td>\n",
       "      <td>0</td>\n",
       "      <td>0</td>\n",
       "      <td>0</td>\n",
       "      <td>1</td>\n",
       "      <td>1</td>\n",
       "      <td>0.0</td>\n",
       "    </tr>\n",
       "  </tbody>\n",
       "</table>\n",
       "</div>"
      ],
      "text/plain": [
       "        ID  Age  CustomerSince  HighestSpend  ZipCode  HiddenScore  \\\n",
       "4995  4996   29              3            40    92697            1   \n",
       "4996  4997   30              4            15    92037            4   \n",
       "4997  4998   63             39            24    93023            2   \n",
       "4998  4999   65             40            49    90034            3   \n",
       "4999  5000   28              4            83    92612            3   \n",
       "\n",
       "      MonthlyAverageSpend  Level  Mortgage  Security  FixedDepositAccount  \\\n",
       "4995                  1.9      3         0         0                    0   \n",
       "4996                  0.4      1        85         0                    0   \n",
       "4997                  0.3      3         0         0                    0   \n",
       "4998                  0.5      2         0         0                    0   \n",
       "4999                  0.8      1         0         0                    0   \n",
       "\n",
       "      InternetBanking  CreditCard  LoanOnCard  \n",
       "4995                1           0         0.0  \n",
       "4996                1           0         0.0  \n",
       "4997                0           0         0.0  \n",
       "4998                1           0         0.0  \n",
       "4999                1           1         0.0  "
      ]
     },
     "execution_count": 71,
     "metadata": {},
     "output_type": "execute_result"
    }
   ],
   "source": [
    "data.tail()"
   ]
  },
  {
   "cell_type": "code",
   "execution_count": 72,
   "metadata": {},
   "outputs": [
    {
     "data": {
      "text/plain": [
       "(5000, 14)"
      ]
     },
     "execution_count": 72,
     "metadata": {},
     "output_type": "execute_result"
    }
   ],
   "source": [
    "data.shape"
   ]
  },
  {
   "cell_type": "code",
   "execution_count": 73,
   "metadata": {},
   "outputs": [
    {
     "name": "stdout",
     "output_type": "stream",
     "text": [
      "<class 'pandas.core.frame.DataFrame'>\n",
      "Int64Index: 5000 entries, 0 to 4999\n",
      "Data columns (total 14 columns):\n",
      " #   Column               Non-Null Count  Dtype  \n",
      "---  ------               --------------  -----  \n",
      " 0   ID                   5000 non-null   int64  \n",
      " 1   Age                  5000 non-null   int64  \n",
      " 2   CustomerSince        5000 non-null   int64  \n",
      " 3   HighestSpend         5000 non-null   int64  \n",
      " 4   ZipCode              5000 non-null   int64  \n",
      " 5   HiddenScore          5000 non-null   int64  \n",
      " 6   MonthlyAverageSpend  5000 non-null   float64\n",
      " 7   Level                5000 non-null   int64  \n",
      " 8   Mortgage             5000 non-null   int64  \n",
      " 9   Security             5000 non-null   int64  \n",
      " 10  FixedDepositAccount  5000 non-null   int64  \n",
      " 11  InternetBanking      5000 non-null   int64  \n",
      " 12  CreditCard           5000 non-null   int64  \n",
      " 13  LoanOnCard           4980 non-null   float64\n",
      "dtypes: float64(2), int64(12)\n",
      "memory usage: 585.9 KB\n"
     ]
    }
   ],
   "source": [
    "data.info()"
   ]
  },
  {
   "cell_type": "code",
   "execution_count": 74,
   "metadata": {},
   "outputs": [
    {
     "name": "stdout",
     "output_type": "stream",
     "text": [
      "<class 'pandas.core.frame.DataFrame'>\n",
      "Int64Index: 5000 entries, 0 to 4999\n",
      "Data columns (total 14 columns):\n",
      " #   Column               Non-Null Count  Dtype  \n",
      "---  ------               --------------  -----  \n",
      " 0   ID                   5000 non-null   int64  \n",
      " 1   Age                  5000 non-null   int64  \n",
      " 2   CustomerSince        5000 non-null   int64  \n",
      " 3   HighestSpend         5000 non-null   int64  \n",
      " 4   ZipCode              5000 non-null   int64  \n",
      " 5   HiddenScore          5000 non-null   object \n",
      " 6   MonthlyAverageSpend  5000 non-null   float64\n",
      " 7   Level                5000 non-null   object \n",
      " 8   Mortgage             5000 non-null   int64  \n",
      " 9   Security             5000 non-null   object \n",
      " 10  FixedDepositAccount  5000 non-null   object \n",
      " 11  InternetBanking      5000 non-null   object \n",
      " 12  CreditCard           5000 non-null   object \n",
      " 13  LoanOnCard           4980 non-null   float64\n",
      "dtypes: float64(2), int64(6), object(6)\n",
      "memory usage: 585.9+ KB\n"
     ]
    }
   ],
   "source": [
    "#change data type - convert int to obj.\n",
    "conv=data[['CreditCard','InternetBanking','FixedDepositAccount','Security','Level','HiddenScore']]\n",
    "for i in conv:\n",
    "    data[i]=data[i].astype('object')\n",
    "data.info() "
   ]
  },
  {
   "cell_type": "code",
   "execution_count": 75,
   "metadata": {},
   "outputs": [
    {
     "data": {
      "text/html": [
       "<div>\n",
       "<style scoped>\n",
       "    .dataframe tbody tr th:only-of-type {\n",
       "        vertical-align: middle;\n",
       "    }\n",
       "\n",
       "    .dataframe tbody tr th {\n",
       "        vertical-align: top;\n",
       "    }\n",
       "\n",
       "    .dataframe thead th {\n",
       "        text-align: right;\n",
       "    }\n",
       "</style>\n",
       "<table border=\"1\" class=\"dataframe\">\n",
       "  <thead>\n",
       "    <tr style=\"text-align: right;\">\n",
       "      <th></th>\n",
       "      <th>count</th>\n",
       "      <th>mean</th>\n",
       "      <th>std</th>\n",
       "      <th>min</th>\n",
       "      <th>25%</th>\n",
       "      <th>50%</th>\n",
       "      <th>75%</th>\n",
       "      <th>max</th>\n",
       "    </tr>\n",
       "  </thead>\n",
       "  <tbody>\n",
       "    <tr>\n",
       "      <th>ID</th>\n",
       "      <td>5000.0</td>\n",
       "      <td>2500.500000</td>\n",
       "      <td>1443.520003</td>\n",
       "      <td>1.0</td>\n",
       "      <td>1250.75</td>\n",
       "      <td>2500.5</td>\n",
       "      <td>3750.25</td>\n",
       "      <td>5000.0</td>\n",
       "    </tr>\n",
       "    <tr>\n",
       "      <th>Age</th>\n",
       "      <td>5000.0</td>\n",
       "      <td>45.338400</td>\n",
       "      <td>11.463166</td>\n",
       "      <td>23.0</td>\n",
       "      <td>35.00</td>\n",
       "      <td>45.0</td>\n",
       "      <td>55.00</td>\n",
       "      <td>67.0</td>\n",
       "    </tr>\n",
       "    <tr>\n",
       "      <th>CustomerSince</th>\n",
       "      <td>5000.0</td>\n",
       "      <td>20.104600</td>\n",
       "      <td>11.467954</td>\n",
       "      <td>-3.0</td>\n",
       "      <td>10.00</td>\n",
       "      <td>20.0</td>\n",
       "      <td>30.00</td>\n",
       "      <td>43.0</td>\n",
       "    </tr>\n",
       "    <tr>\n",
       "      <th>HighestSpend</th>\n",
       "      <td>5000.0</td>\n",
       "      <td>73.774200</td>\n",
       "      <td>46.033729</td>\n",
       "      <td>8.0</td>\n",
       "      <td>39.00</td>\n",
       "      <td>64.0</td>\n",
       "      <td>98.00</td>\n",
       "      <td>224.0</td>\n",
       "    </tr>\n",
       "    <tr>\n",
       "      <th>ZipCode</th>\n",
       "      <td>5000.0</td>\n",
       "      <td>93152.503000</td>\n",
       "      <td>2121.852197</td>\n",
       "      <td>9307.0</td>\n",
       "      <td>91911.00</td>\n",
       "      <td>93437.0</td>\n",
       "      <td>94608.00</td>\n",
       "      <td>96651.0</td>\n",
       "    </tr>\n",
       "    <tr>\n",
       "      <th>MonthlyAverageSpend</th>\n",
       "      <td>5000.0</td>\n",
       "      <td>1.937938</td>\n",
       "      <td>1.747659</td>\n",
       "      <td>0.0</td>\n",
       "      <td>0.70</td>\n",
       "      <td>1.5</td>\n",
       "      <td>2.50</td>\n",
       "      <td>10.0</td>\n",
       "    </tr>\n",
       "    <tr>\n",
       "      <th>Mortgage</th>\n",
       "      <td>5000.0</td>\n",
       "      <td>56.498800</td>\n",
       "      <td>101.713802</td>\n",
       "      <td>0.0</td>\n",
       "      <td>0.00</td>\n",
       "      <td>0.0</td>\n",
       "      <td>101.00</td>\n",
       "      <td>635.0</td>\n",
       "    </tr>\n",
       "    <tr>\n",
       "      <th>LoanOnCard</th>\n",
       "      <td>4980.0</td>\n",
       "      <td>0.096386</td>\n",
       "      <td>0.295149</td>\n",
       "      <td>0.0</td>\n",
       "      <td>0.00</td>\n",
       "      <td>0.0</td>\n",
       "      <td>0.00</td>\n",
       "      <td>1.0</td>\n",
       "    </tr>\n",
       "  </tbody>\n",
       "</table>\n",
       "</div>"
      ],
      "text/plain": [
       "                      count          mean          std     min       25%  \\\n",
       "ID                   5000.0   2500.500000  1443.520003     1.0   1250.75   \n",
       "Age                  5000.0     45.338400    11.463166    23.0     35.00   \n",
       "CustomerSince        5000.0     20.104600    11.467954    -3.0     10.00   \n",
       "HighestSpend         5000.0     73.774200    46.033729     8.0     39.00   \n",
       "ZipCode              5000.0  93152.503000  2121.852197  9307.0  91911.00   \n",
       "MonthlyAverageSpend  5000.0      1.937938     1.747659     0.0      0.70   \n",
       "Mortgage             5000.0     56.498800   101.713802     0.0      0.00   \n",
       "LoanOnCard           4980.0      0.096386     0.295149     0.0      0.00   \n",
       "\n",
       "                         50%       75%      max  \n",
       "ID                    2500.5   3750.25   5000.0  \n",
       "Age                     45.0     55.00     67.0  \n",
       "CustomerSince           20.0     30.00     43.0  \n",
       "HighestSpend            64.0     98.00    224.0  \n",
       "ZipCode              93437.0  94608.00  96651.0  \n",
       "MonthlyAverageSpend      1.5      2.50     10.0  \n",
       "Mortgage                 0.0    101.00    635.0  \n",
       "LoanOnCard               0.0      0.00      1.0  "
      ]
     },
     "execution_count": 75,
     "metadata": {},
     "output_type": "execute_result"
    }
   ],
   "source": [
    "data.describe().T"
   ]
  },
  {
   "cell_type": "code",
   "execution_count": 76,
   "metadata": {},
   "outputs": [
    {
     "data": {
      "image/png": "[encoded data removed]",
      "text/plain": [
       "<Figure size 432x288 with 1 Axes>"
      ]
     },
     "metadata": {
      "needs_background": "light"
     },
     "output_type": "display_data"
    },
    {
     "data": {
      "image/png": "[encoded data removed]",
      "text/plain": [
       "<Figure size 432x288 with 1 Axes>"
      ]
     },
     "metadata": {
      "needs_background": "light"
     },
     "output_type": "display_data"
    },
    {
     "data": {
      "image/png": "[encoded data removed]",
      "text/plain": [
       "<Figure size 432x288 with 1 Axes>"
      ]
     },
     "metadata": {
      "needs_background": "light"
     },
     "output_type": "display_data"
    },
    {
     "data": {
      "image/png": "[encoded data removed]",
      "text/plain": [
       "<Figure size 432x288 with 1 Axes>"
      ]
     },
     "metadata": {
      "needs_background": "light"
     },
     "output_type": "display_data"
    },
    {
     "data": {
      "image/png": "[encoded data removed]",
      "text/plain": [
       "<Figure size 432x288 with 1 Axes>"
      ]
     },
     "metadata": {
      "needs_background": "light"
     },
     "output_type": "display_data"
    },
    {
     "data": {
      "image/png": "[encoded data removed]",
      "text/plain": [
       "<Figure size 432x288 with 1 Axes>"
      ]
     },
     "metadata": {
      "needs_background": "light"
     },
     "output_type": "display_data"
    },
    {
     "data": {
      "image/png": "[encoded data removed]",
      "text/plain": [
       "<Figure size 432x288 with 1 Axes>"
      ]
     },
     "metadata": {
      "needs_background": "light"
     },
     "output_type": "display_data"
    },
    {
     "data": {
      "image/png": "[encoded data removed]",
      "text/plain": [
       "<Figure size 432x288 with 1 Axes>"
      ]
     },
     "metadata": {
      "needs_background": "light"
     },
     "output_type": "display_data"
    },
    {
     "data": {
      "image/png": "[encoded data removed]",
      "text/plain": [
       "<Figure size 432x288 with 1 Axes>"
      ]
     },
     "metadata": {
      "needs_background": "light"
     },
     "output_type": "display_data"
    },
    {
     "data": {
      "image/png": "[encoded data removed]",
      "text/plain": [
       "<Figure size 432x288 with 1 Axes>"
      ]
     },
     "metadata": {
      "needs_background": "light"
     },
     "output_type": "display_data"
    },
    {
     "data": {
      "image/png": "[encoded data removed]",
      "text/plain": [
       "<Figure size 432x288 with 1 Axes>"
      ]
     },
     "metadata": {
      "needs_background": "light"
     },
     "output_type": "display_data"
    },
    {
     "data": {
      "image/png": "[encoded data removed]",
      "text/plain": [
       "<Figure size 432x288 with 1 Axes>"
      ]
     },
     "metadata": {
      "needs_background": "light"
     },
     "output_type": "display_data"
    },
    {
     "data": {
      "image/png": "[encoded data removed]",
      "text/plain": [
       "<Figure size 432x288 with 1 Axes>"
      ]
     },
     "metadata": {
      "needs_background": "light"
     },
     "output_type": "display_data"
    },
    {
     "data": {
      "image/png": "[encoded data removed]",
      "text/plain": [
       "<Figure size 432x288 with 1 Axes>"
      ]
     },
     "metadata": {
      "needs_background": "light"
     },
     "output_type": "display_data"
    }
   ],
   "source": [
    "a= data.columns\n",
    "for i in a:\n",
    "    plt.figure(figsize=(6,4))\n",
    "    sns.boxplot(data=data,x=i,orient='h');"
   ]
  },
  {
   "cell_type": "code",
   "execution_count": 77,
   "metadata": {},
   "outputs": [
    {
     "data": {
      "image/png": "[encoded data removed]",
      "text/plain": [
       "<Figure size 1080x504 with 2 Axes>"
      ]
     },
     "metadata": {
      "needs_background": "light"
     },
     "output_type": "display_data"
    }
   ],
   "source": [
    "#Visualize distribution of Target variable ‘LoanOnCard’\n",
    "plt.figure(figsize=(15,7))\n",
    "plt.subplot(1,2,1)\n",
    "plt.pie(data['LoanOnCard'].value_counts(),autopct='%1.2f%%',shadow=True,labels=[0,1]);\n",
    "plt.title('LoanOnCard Pie Chart')\n",
    "plt.subplot(1,2,2)\n",
    "sns.countplot(data=data,x='LoanOnCard');\n",
    "plt.title('LoanOncard Bar Chart');"
   ]
  },
  {
   "cell_type": "markdown",
   "metadata": {},
   "source": [
    "90.36% of people are not eligible for LoanOnCard"
   ]
  },
  {
   "cell_type": "code",
   "execution_count": 78,
   "metadata": {},
   "outputs": [
    {
     "data": {
      "text/plain": [
       "ID                      0\n",
       "Age                     0\n",
       "CustomerSince           0\n",
       "HighestSpend            0\n",
       "ZipCode                 0\n",
       "HiddenScore             0\n",
       "MonthlyAverageSpend     0\n",
       "Level                   0\n",
       "Mortgage                0\n",
       "Security                0\n",
       "FixedDepositAccount     0\n",
       "InternetBanking         0\n",
       "CreditCard              0\n",
       "LoanOnCard             20\n",
       "dtype: int64"
      ]
     },
     "execution_count": 78,
     "metadata": {},
     "output_type": "execute_result"
    }
   ],
   "source": [
    "#missing values.\n",
    "data.isnull().sum()"
   ]
  },
  {
   "cell_type": "markdown",
   "metadata": {},
   "source": [
    "LoanOnCard has 20 missing values."
   ]
  },
  {
   "cell_type": "code",
   "execution_count": 79,
   "metadata": {},
   "outputs": [
    {
     "name": "stdout",
     "output_type": "stream",
     "text": [
      "Total missing values are 0.4 % of total counts\n"
     ]
    }
   ],
   "source": [
    "percent = data['LoanOnCard'].isnull().sum() / (data['LoanOnCard'].isnull().sum() + data['LoanOnCard'].value_counts().sum())\n",
    "print(\"Total missing values are {} % of total counts\".format(percent * 100))"
   ]
  },
  {
   "cell_type": "code",
   "execution_count": 80,
   "metadata": {},
   "outputs": [
    {
     "data": {
      "text/plain": [
       "ID                     0\n",
       "Age                    0\n",
       "CustomerSince          0\n",
       "HighestSpend           0\n",
       "ZipCode                0\n",
       "HiddenScore            0\n",
       "MonthlyAverageSpend    0\n",
       "Level                  0\n",
       "Mortgage               0\n",
       "Security               0\n",
       "FixedDepositAccount    0\n",
       "InternetBanking        0\n",
       "CreditCard             0\n",
       "LoanOnCard             0\n",
       "dtype: int64"
      ]
     },
     "execution_count": 80,
     "metadata": {},
     "output_type": "execute_result"
    }
   ],
   "source": [
    "#drop missing values.\n",
    "data.dropna(axis=0,inplace=True)\n",
    "data.isnull().sum()"
   ]
  },
  {
   "cell_type": "code",
   "execution_count": 81,
   "metadata": {},
   "outputs": [
    {
     "name": "stdout",
     "output_type": "stream",
     "text": [
      "CreditCard\n",
      "[0 1]\n",
      "\n",
      "InternetBanking\n",
      "[0 1]\n",
      "\n",
      "FixedDepositAccount\n",
      "[0 1]\n",
      "\n",
      "Security\n",
      "[0 1]\n",
      "\n",
      "Level\n",
      "[3 2 1]\n",
      "\n",
      "HiddenScore\n",
      "[1 4 3 2]\n",
      "\n",
      "LoanOnCard\n",
      "[1. 0.]\n",
      "\n"
     ]
    }
   ],
   "source": [
    "#checking unexpected values.\n",
    "conv=conv=data[['CreditCard','InternetBanking','FixedDepositAccount','Security','Level','HiddenScore','LoanOnCard']]\n",
    "for i in conv:\n",
    "    print(i)\n",
    "    print(data[i].unique())\n",
    "    print(\"\")"
   ]
  },
  {
   "cell_type": "markdown",
   "metadata": {},
   "source": [
    "Not found any unexpected values."
   ]
  },
  {
   "cell_type": "markdown",
   "metadata": {},
   "source": [
    "# Model Building"
   ]
  },
  {
   "cell_type": "code",
   "execution_count": 82,
   "metadata": {},
   "outputs": [],
   "source": [
    "# Define X and Y variables\n",
    "X = data.drop(['LoanOnCard','ID'], axis=1)\n",
    "y = data[['LoanOnCard']]\n",
    "y_=y.values.reshape((y.shape[0],))"
   ]
  },
  {
   "cell_type": "code",
   "execution_count": 83,
   "metadata": {},
   "outputs": [
    {
     "data": {
      "text/plain": [
       "(4980, 12)"
      ]
     },
     "execution_count": 83,
     "metadata": {},
     "output_type": "execute_result"
    }
   ],
   "source": [
    "X.shape"
   ]
  },
  {
   "cell_type": "code",
   "execution_count": 84,
   "metadata": {},
   "outputs": [
    {
     "data": {
      "text/plain": [
       "(4980,)"
      ]
     },
     "execution_count": 84,
     "metadata": {},
     "output_type": "execute_result"
    }
   ],
   "source": [
    "y_.shape"
   ]
  },
  {
   "cell_type": "code",
   "execution_count": 85,
   "metadata": {},
   "outputs": [],
   "source": [
    "#Split data into train and test. Keep 25% data reserved for testing\n",
    "X_train, X_test, y_train, y_test = train_test_split(X, y_,stratify=y_, test_size=0.25, random_state=9)"
   ]
  },
  {
   "cell_type": "code",
   "execution_count": 86,
   "metadata": {},
   "outputs": [],
   "source": [
    "# Apply Z-score normalization separately to training and testing sets\n",
    "scaler = StandardScaler()\n",
    "X_train_scaled = scaler.fit_transform(X_train)\n",
    "X_test_scaled = scaler.transform(X_test)\n",
    "\n",
    "X_train=X_train_scaled\n",
    "X_test=X_test_scaled"
   ]
  },
  {
   "cell_type": "code",
   "execution_count": 87,
   "metadata": {},
   "outputs": [
    {
     "data": {
      "text/plain": [
       "LogisticRegression(random_state=0)"
      ]
     },
     "execution_count": 87,
     "metadata": {},
     "output_type": "execute_result"
    }
   ],
   "source": [
    "# import logistic regression and train on tarining set\n",
    "from sklearn.linear_model import LogisticRegression\n",
    "model = LogisticRegression(random_state=0)\n",
    "model.fit(X_train, y_train)"
   ]
  },
  {
   "cell_type": "code",
   "execution_count": 88,
   "metadata": {},
   "outputs": [
    {
     "data": {
      "text/plain": [
       "array([0., 0., 0., ..., 0., 0., 0.])"
      ]
     },
     "execution_count": 88,
     "metadata": {},
     "output_type": "execute_result"
    }
   ],
   "source": [
    "# Predict price range of test data\n",
    "y_pred = model.predict(X_test)\n",
    "y_pred"
   ]
  },
  {
   "cell_type": "code",
   "execution_count": 89,
   "metadata": {},
   "outputs": [
    {
     "name": "stdout",
     "output_type": "stream",
     "text": [
      "Accuracy on Training data: 0.9526104417670683\n",
      "Accuracy on Test data: 0.9429718875502008\n"
     ]
    }
   ],
   "source": [
    "print('Accuracy on Training data:',model.score(X_train, y_train) )\n",
    "print('Accuracy on Test data:',model.score(X_test, y_test) )"
   ]
  },
  {
   "cell_type": "code",
   "execution_count": 90,
   "metadata": {},
   "outputs": [
    {
     "name": "stdout",
     "output_type": "stream",
     "text": [
      "              precision    recall  f1-score   support\n",
      "\n",
      "         0.0       0.96      0.98      0.97      1125\n",
      "         1.0       0.74      0.62      0.68       120\n",
      "\n",
      "    accuracy                           0.94      1245\n",
      "   macro avg       0.85      0.80      0.82      1245\n",
      "weighted avg       0.94      0.94      0.94      1245\n",
      "\n"
     ]
    }
   ],
   "source": [
    "#other metrics \n",
    "from sklearn.metrics import average_precision_score, confusion_matrix, accuracy_score, classification_report, plot_confusion_matrix\n",
    "\n",
    "print(classification_report(y_test, y_pred, digits=2))"
   ]
  },
  {
   "cell_type": "code",
   "execution_count": 91,
   "metadata": {},
   "outputs": [
    {
     "data": {
      "image/png": "[encoded data removed]",
      "text/plain": [
       "<Figure size 576x360 with 2 Axes>"
      ]
     },
     "metadata": {
      "needs_background": "light"
     },
     "output_type": "display_data"
    }
   ],
   "source": [
    "#confusion matrix\n",
    "conf_mat = confusion_matrix(y_test, y_pred)\n",
    "df_conf_mat = pd.DataFrame(conf_mat)\n",
    "plt.figure(figsize = (8,5))\n",
    "sns.heatmap(df_conf_mat, annot=True, cmap='YlGn_r',fmt='g');"
   ]
  },
  {
   "cell_type": "markdown",
   "metadata": {},
   "source": [
    "The model is poor in predicting class 1 compared to class 0.\n",
    "\n",
    "precision and recall of predicion 1 is very poor\n",
    "\n",
    "The model accuracy is very good."
   ]
  },
  {
   "cell_type": "markdown",
   "metadata": {},
   "source": [
    "## Balancing of data"
   ]
  },
  {
   "cell_type": "code",
   "execution_count": 92,
   "metadata": {},
   "outputs": [],
   "source": [
    "#!pip install imbalanced-learn"
   ]
  },
  {
   "cell_type": "code",
   "execution_count": 93,
   "metadata": {},
   "outputs": [],
   "source": [
    "#balancing using SMOTE\n",
    "from imblearn.over_sampling import SMOTE\n",
    "over_sampler = SMOTE(k_neighbors=2)\n",
    "X_res, y_res = over_sampler.fit_resample(X_train, y_train)"
   ]
  },
  {
   "cell_type": "code",
   "execution_count": 94,
   "metadata": {},
   "outputs": [
    {
     "data": {
      "text/plain": [
       "LogisticRegression(random_state=0)"
      ]
     },
     "execution_count": 94,
     "metadata": {},
     "output_type": "execute_result"
    }
   ],
   "source": [
    "#Split data into train and test. Keep 25% data reserved for testing\n",
    "#train the model \n",
    "X_train, X_test, y_train, y_test = train_test_split(X_res, y_res, test_size=0.25, random_state=9)\n",
    "model = LogisticRegression(random_state=0)\n",
    "model.fit(X_train, y_train)"
   ]
  },
  {
   "cell_type": "code",
   "execution_count": 95,
   "metadata": {},
   "outputs": [
    {
     "data": {
      "text/plain": [
       "array([0., 1., 0., ..., 1., 1., 0.])"
      ]
     },
     "execution_count": 95,
     "metadata": {},
     "output_type": "execute_result"
    }
   ],
   "source": [
    "# Predict price range of test data\n",
    "y_pred = model.predict(X_test)\n",
    "y_pred"
   ]
  },
  {
   "cell_type": "code",
   "execution_count": 96,
   "metadata": {},
   "outputs": [
    {
     "name": "stdout",
     "output_type": "stream",
     "text": [
      "              precision    recall  f1-score   support\n",
      "\n",
      "         0.0       0.90      0.90      0.90       846\n",
      "         1.0       0.90      0.90      0.90       842\n",
      "\n",
      "    accuracy                           0.90      1688\n",
      "   macro avg       0.90      0.90      0.90      1688\n",
      "weighted avg       0.90      0.90      0.90      1688\n",
      "\n",
      "\n",
      "Accuracy on Training data: 0.9091268273409719\n",
      "Accuracy on Test data: 0.8963270142180095\n"
     ]
    },
    {
     "data": {
      "image/png": "[encoded data removed]",
      "text/plain": [
       "<Figure size 576x360 with 2 Axes>"
      ]
     },
     "metadata": {
      "needs_background": "light"
     },
     "output_type": "display_data"
    }
   ],
   "source": [
    "#confusion matrix\n",
    "conf_mat = confusion_matrix(y_test, y_pred)\n",
    "df_conf_mat = pd.DataFrame(conf_mat)\n",
    "plt.figure(figsize = (8,5))\n",
    "sns.heatmap(df_conf_mat, annot=True, cmap='YlGn_r',fmt='g');\n",
    "print(classification_report(y_test, y_pred, digits=2))\n",
    "print(\"\")\n",
    "print('Accuracy on Training data:',model.score(X_train, y_train) )\n",
    "print('Accuracy on Test data:',model.score(X_test, y_test) )"
   ]
  },
  {
   "cell_type": "code",
   "execution_count": 97,
   "metadata": {},
   "outputs": [
    {
     "name": "stdout",
     "output_type": "stream",
     "text": [
      "Best Threshold=0.439933, G-Mean=0.901\n"
     ]
    },
    {
     "data": {
      "image/png": "[encoded data removed]",
      "text/plain": [
       "<Figure size 432x288 with 1 Axes>"
      ]
     },
     "metadata": {
      "needs_background": "light"
     },
     "output_type": "display_data"
    }
   ],
   "source": [
    "#AUC ROC curve\n",
    "from sklearn.metrics import roc_auc_score\n",
    "from sklearn.metrics import roc_curve\n",
    "# roc curve for logistic regression model with optimal threshold\n",
    "from numpy import sqrt\n",
    "from numpy import argmax\n",
    "\n",
    "logit_roc_auc = roc_auc_score(y_test, model.predict_proba(X_test)[:,1])\n",
    "fpr, tpr, thresholds = roc_curve(y_test, model.predict_proba(X_test)[:,1])\n",
    "# calculate the g-mean for each threshold\n",
    "gmeans = sqrt(tpr * (1-fpr))\n",
    "# locate the index of the largest g-mean\n",
    "ix = argmax(gmeans)\n",
    "print('Best Threshold=%f, G-Mean=%.3f' % (thresholds[ix], gmeans[ix]))\n",
    "plt.figure()\n",
    "plt.plot(fpr, tpr, label='Logistic Regression (area = %0.2f)' % logit_roc_auc)\n",
    "plt.plot([0, 1], [0, 1],'r--',label='No Skill')\n",
    "plt.scatter(fpr[ix], tpr[ix], marker='o', color='black', label='Best')\n",
    "plt.xlim([0.0, 1.0])\n",
    "plt.ylim([0.0, 1.05])\n",
    "plt.xlabel('False Positive Rate')\n",
    "plt.ylabel('True Positive Rate')\n",
    "plt.title('Receiver operating characteristic')\n",
    "plt.legend(loc=\"lower right\")\n",
    "plt.savefig('Log_ROC')\n",
    "plt.show()"
   ]
  },
  {
   "cell_type": "markdown",
   "metadata": {},
   "source": [
    "The model is better in predicting class 1 and class 0. its improved from the older model.\n",
    "\n",
    "Precision and recall of predicion have been improved from the older model.\n",
    "\n",
    "The new model has a very good accuracy. its reduced compare to older model."
   ]
  },
  {
   "cell_type": "markdown",
   "metadata": {},
   "source": [
    "## KNN model"
   ]
  },
  {
   "cell_type": "code",
   "execution_count": 98,
   "metadata": {},
   "outputs": [
    {
     "name": "stdout",
     "output_type": "stream",
     "text": [
      "Accuracy of Training data: 0.9834057684709601\n",
      "Accuracy of Test data: 0.9674170616113744\n",
      "\n",
      "              precision    recall  f1-score   support\n",
      "\n",
      "         0.0       1.00      0.93      0.97       846\n",
      "         1.0       0.94      1.00      0.97       842\n",
      "\n",
      "    accuracy                           0.97      1688\n",
      "   macro avg       0.97      0.97      0.97      1688\n",
      "weighted avg       0.97      0.97      0.97      1688\n",
      "\n"
     ]
    },
    {
     "data": {
      "image/png": "[encoded data removed]",
      "text/plain": [
       "<Figure size 576x360 with 2 Axes>"
      ]
     },
     "metadata": {
      "needs_background": "light"
     },
     "output_type": "display_data"
    }
   ],
   "source": [
    "#Split data into train and test with 75:25 proportion\n",
    "X_train, X_test, y_train, y_test = train_test_split(X_res, y_res, test_size=0.25, random_state=9)\n",
    "\n",
    "#Build KNN Model\n",
    "KNN = KNeighborsClassifier(n_neighbors= 5)\n",
    "\n",
    "# Call Nearest Neighbour algorithm\n",
    "KNN.fit(X_train, y_train)\n",
    "predicted_labels = KNN.predict(X_test)\n",
    "print('Accuracy of Training data:',KNN.score(X_train, y_train) )\n",
    "print('Accuracy of Test data:',KNN.score(X_test, y_test) )\n",
    "print(\"\")\n",
    "print(classification_report(y_test, predicted_labels))\n",
    "\n",
    "#confusion matrix\n",
    "conf_mat = confusion_matrix(y_test, predicted_labels)\n",
    "df_conf_mat = pd.DataFrame(conf_mat)\n",
    "plt.figure(figsize = (8,5))\n",
    "sns.heatmap(df_conf_mat, annot=True, cmap='YlGn_r',fmt='g');"
   ]
  },
  {
   "cell_type": "markdown",
   "metadata": {},
   "source": [
    "# SVM"
   ]
  },
  {
   "cell_type": "code",
   "execution_count": 99,
   "metadata": {},
   "outputs": [],
   "source": [
    "from sklearn import svm\n",
    "#Split data into train and test with 75:25 proportion\n",
    "X_train, X_test, y_train, y_test = train_test_split(X_res, y_res, test_size=0.25, random_state=9)\n",
    "clf = svm.SVC(gamma=0.025, C=3)   \n",
    "clf.fit(X_train , y_train)\n",
    "y_pred = clf.predict(X_test)"
   ]
  },
  {
   "cell_type": "code",
   "execution_count": 100,
   "metadata": {},
   "outputs": [
    {
     "name": "stdout",
     "output_type": "stream",
     "text": [
      "Accuracy of Training data: 0.9735282497036745\n",
      "Accuracy of Test data: 0.9603080568720379\n",
      "\n",
      "              precision    recall  f1-score   support\n",
      "\n",
      "         0.0       0.97      0.95      0.96       846\n",
      "         1.0       0.95      0.97      0.96       842\n",
      "\n",
      "    accuracy                           0.96      1688\n",
      "   macro avg       0.96      0.96      0.96      1688\n",
      "weighted avg       0.96      0.96      0.96      1688\n",
      "\n"
     ]
    },
    {
     "data": {
      "image/png": "[encoded data removed]",
      "text/plain": [
       "<Figure size 576x360 with 2 Axes>"
      ]
     },
     "metadata": {
      "needs_background": "light"
     },
     "output_type": "display_data"
    }
   ],
   "source": [
    "print('Accuracy of Training data:',clf.score(X_train, y_train) )\n",
    "print('Accuracy of Test data:',clf.score(X_test, y_test) )\n",
    "print(\"\")\n",
    "print(classification_report(y_test, y_pred))\n",
    "#confusion matrix\n",
    "conf_mat = confusion_matrix(y_test, y_pred)\n",
    "df_conf_mat = pd.DataFrame(conf_mat)\n",
    "plt.figure(figsize = (8,5))\n",
    "sns.heatmap(df_conf_mat, annot=True, cmap='YlGn_r',fmt='g');"
   ]
  },
  {
   "cell_type": "markdown",
   "metadata": {},
   "source": [
    "## Tuning paramters for KNN."
   ]
  },
  {
   "cell_type": "code",
   "execution_count": 101,
   "metadata": {},
   "outputs": [],
   "source": [
    "X_train, X_test, y_train, y_test = train_test_split(X_res, y_res, test_size=0.25, random_state=9)\n",
    "\n",
    "#Build KNN Model\n",
    "KNN = KNeighborsClassifier(n_neighbors= 5)\n",
    "\n",
    "# Call Nearest Neighbour algorithm\n",
    "KNN.fit(X_train, y_train)\n",
    "predicted_labels = KNN.predict(X_test)"
   ]
  },
  {
   "cell_type": "code",
   "execution_count": 102,
   "metadata": {},
   "outputs": [
    {
     "data": {
      "image/png": "[encoded data removed]",
      "text/plain": [
       "<Figure size 432x288 with 1 Axes>"
      ]
     },
     "metadata": {
      "needs_background": "light"
     },
     "output_type": "display_data"
    }
   ],
   "source": [
    "train_score=[]\n",
    "test_score=[]\n",
    "for k in range(1,101):\n",
    "    KNN = KNeighborsClassifier(n_neighbors= k) \n",
    "    KNN.fit(X_train, y_train)\n",
    "    train_score.append(KNN.score(X_train, y_train))\n",
    "    test_score.append(KNN.score(X_test, y_test))\n",
    "plt.plot(range(1,101),train_score);"
   ]
  },
  {
   "cell_type": "code",
   "execution_count": 103,
   "metadata": {},
   "outputs": [
    {
     "data": {
      "image/png": "[encoded data removed]",
      "text/plain": [
       "<Figure size 432x288 with 1 Axes>"
      ]
     },
     "metadata": {
      "needs_background": "light"
     },
     "output_type": "display_data"
    }
   ],
   "source": [
    "plt.plot(range(1,101),test_score);"
   ]
  },
  {
   "cell_type": "code",
   "execution_count": 104,
   "metadata": {},
   "outputs": [
    {
     "data": {
      "image/png": "[encoded data removed]",
      "text/plain": [
       "<Figure size 432x288 with 1 Axes>"
      ]
     },
     "metadata": {
      "needs_background": "light"
     },
     "output_type": "display_data"
    }
   ],
   "source": [
    "plt.plot(range(1,101),train_score,test_score);"
   ]
  },
  {
   "cell_type": "markdown",
   "metadata": {},
   "source": [
    "The best value of K is 10 to 30"
   ]
  },
  {
   "cell_type": "code",
   "execution_count": 105,
   "metadata": {},
   "outputs": [
    {
     "name": "stdout",
     "output_type": "stream",
     "text": [
      "Accuracy of Training data for k10 and euclidean is 0.9749111023310945:\n",
      "Accuracy of Testing data for k10 and euclidean is 0.955568720379147:\n",
      "              precision    recall  f1-score   support\n",
      "\n",
      "         0.0       0.99      0.92      0.95       846\n",
      "         1.0       0.92      0.99      0.96       842\n",
      "\n",
      "    accuracy                           0.96      1688\n",
      "   macro avg       0.96      0.96      0.96      1688\n",
      "weighted avg       0.96      0.96      0.96      1688\n",
      "\n",
      "Accuracy of Training data for k11 and euclidean is 0.968984591070723:\n",
      "Accuracy of Testing data for k11 and euclidean is 0.9472748815165877:\n",
      "              precision    recall  f1-score   support\n",
      "\n",
      "         0.0       0.99      0.90      0.94       846\n",
      "         1.0       0.91      1.00      0.95       842\n",
      "\n",
      "    accuracy                           0.95      1688\n",
      "   macro avg       0.95      0.95      0.95      1688\n",
      "weighted avg       0.95      0.95      0.95      1688\n",
      "\n",
      "Accuracy of Training data for k12 and euclidean is 0.9729355985776373:\n",
      "Accuracy of Testing data for k12 and euclidean is 0.95260663507109:\n",
      "              precision    recall  f1-score   support\n",
      "\n",
      "         0.0       0.99      0.91      0.95       846\n",
      "         1.0       0.92      0.99      0.95       842\n",
      "\n",
      "    accuracy                           0.95      1688\n",
      "   macro avg       0.96      0.95      0.95      1688\n",
      "weighted avg       0.96      0.95      0.95      1688\n",
      "\n",
      "Accuracy of Training data for k13 and euclidean is 0.968984591070723:\n",
      "Accuracy of Testing data for k13 and euclidean is 0.9484597156398105:\n",
      "              precision    recall  f1-score   support\n",
      "\n",
      "         0.0       1.00      0.90      0.95       846\n",
      "         1.0       0.91      1.00      0.95       842\n",
      "\n",
      "    accuracy                           0.95      1688\n",
      "   macro avg       0.95      0.95      0.95      1688\n",
      "weighted avg       0.95      0.95      0.95      1688\n",
      "\n",
      "Accuracy of Training data for k14 and euclidean is 0.970367443698143:\n",
      "Accuracy of Testing data for k14 and euclidean is 0.9537914691943128:\n",
      "              precision    recall  f1-score   support\n",
      "\n",
      "         0.0       0.99      0.91      0.95       846\n",
      "         1.0       0.92      0.99      0.96       842\n",
      "\n",
      "    accuracy                           0.95      1688\n",
      "   macro avg       0.96      0.95      0.95      1688\n",
      "weighted avg       0.96      0.95      0.95      1688\n",
      "\n",
      "Accuracy of Training data for k15 and euclidean is 0.9658237850651916:\n",
      "Accuracy of Testing data for k15 and euclidean is 0.9478672985781991:\n",
      "              precision    recall  f1-score   support\n",
      "\n",
      "         0.0       0.99      0.90      0.95       846\n",
      "         1.0       0.91      1.00      0.95       842\n",
      "\n",
      "    accuracy                           0.95      1688\n",
      "   macro avg       0.95      0.95      0.95      1688\n",
      "weighted avg       0.95      0.95      0.95      1688\n",
      "\n",
      "Accuracy of Training data for k16 and euclidean is 0.9677992888186487:\n",
      "Accuracy of Testing data for k16 and euclidean is 0.9502369668246445:\n",
      "              precision    recall  f1-score   support\n",
      "\n",
      "         0.0       0.99      0.91      0.95       846\n",
      "         1.0       0.92      0.99      0.95       842\n",
      "\n",
      "    accuracy                           0.95      1688\n",
      "   macro avg       0.95      0.95      0.95      1688\n",
      "weighted avg       0.95      0.95      0.95      1688\n",
      "\n",
      "Accuracy of Training data for k17 and euclidean is 0.9636507309363888:\n",
      "Accuracy of Testing data for k17 and euclidean is 0.9454976303317536:\n",
      "              precision    recall  f1-score   support\n",
      "\n",
      "         0.0       0.99      0.90      0.94       846\n",
      "         1.0       0.91      0.99      0.95       842\n",
      "\n",
      "    accuracy                           0.95      1688\n",
      "   macro avg       0.95      0.95      0.95      1688\n",
      "weighted avg       0.95      0.95      0.95      1688\n",
      "\n",
      "Accuracy of Training data for k18 and euclidean is 0.9640458316870802:\n",
      "Accuracy of Testing data for k18 and euclidean is 0.9478672985781991:\n",
      "              precision    recall  f1-score   support\n",
      "\n",
      "         0.0       0.99      0.91      0.95       846\n",
      "         1.0       0.91      0.99      0.95       842\n",
      "\n",
      "    accuracy                           0.95      1688\n",
      "   macro avg       0.95      0.95      0.95      1688\n",
      "weighted avg       0.95      0.95      0.95      1688\n",
      "\n",
      "Accuracy of Training data for k19 and euclidean is 0.9618727775582774:\n",
      "Accuracy of Testing data for k19 and euclidean is 0.9419431279620853:\n",
      "              precision    recall  f1-score   support\n",
      "\n",
      "         0.0       0.99      0.89      0.94       846\n",
      "         1.0       0.90      0.99      0.94       842\n",
      "\n",
      "    accuracy                           0.94      1688\n",
      "   macro avg       0.95      0.94      0.94      1688\n",
      "weighted avg       0.95      0.94      0.94      1688\n",
      "\n",
      "Accuracy of Training data for k20 and euclidean is 0.9618727775582774:\n",
      "Accuracy of Testing data for k20 and euclidean is 0.9478672985781991:\n",
      "              precision    recall  f1-score   support\n",
      "\n",
      "         0.0       0.98      0.91      0.95       846\n",
      "         1.0       0.92      0.99      0.95       842\n",
      "\n",
      "    accuracy                           0.95      1688\n",
      "   macro avg       0.95      0.95      0.95      1688\n",
      "weighted avg       0.95      0.95      0.95      1688\n",
      "\n",
      "Accuracy of Training data for k21 and euclidean is 0.9591070723034374:\n",
      "Accuracy of Testing data for k21 and euclidean is 0.9454976303317536:\n",
      "              precision    recall  f1-score   support\n",
      "\n",
      "         0.0       0.99      0.90      0.94       846\n",
      "         1.0       0.91      0.99      0.95       842\n",
      "\n",
      "    accuracy                           0.95      1688\n",
      "   macro avg       0.95      0.95      0.95      1688\n",
      "weighted avg       0.95      0.95      0.95      1688\n",
      "\n",
      "Accuracy of Training data for k22 and euclidean is 0.9593046226787831:\n",
      "Accuracy of Testing data for k22 and euclidean is 0.9454976303317536:\n",
      "              precision    recall  f1-score   support\n",
      "\n",
      "         0.0       0.98      0.91      0.94       846\n",
      "         1.0       0.91      0.98      0.95       842\n",
      "\n",
      "    accuracy                           0.95      1688\n",
      "   macro avg       0.95      0.95      0.95      1688\n",
      "weighted avg       0.95      0.95      0.95      1688\n",
      "\n",
      "Accuracy of Training data for k23 and euclidean is 0.9567364677992888:\n",
      "Accuracy of Testing data for k23 and euclidean is 0.9449052132701422:\n",
      "              precision    recall  f1-score   support\n",
      "\n",
      "         0.0       0.99      0.90      0.94       846\n",
      "         1.0       0.91      0.99      0.95       842\n",
      "\n",
      "    accuracy                           0.94      1688\n",
      "   macro avg       0.95      0.95      0.94      1688\n",
      "weighted avg       0.95      0.94      0.94      1688\n",
      "\n",
      "Accuracy of Training data for k24 and euclidean is 0.9577242196760174:\n",
      "Accuracy of Testing data for k24 and euclidean is 0.9454976303317536:\n",
      "              precision    recall  f1-score   support\n",
      "\n",
      "         0.0       0.98      0.91      0.94       846\n",
      "         1.0       0.91      0.99      0.95       842\n",
      "\n",
      "    accuracy                           0.95      1688\n",
      "   macro avg       0.95      0.95      0.95      1688\n",
      "weighted avg       0.95      0.95      0.95      1688\n",
      "\n",
      "Accuracy of Training data for k25 and euclidean is 0.9551560647965232:\n",
      "Accuracy of Testing data for k25 and euclidean is 0.9443127962085308:\n",
      "              precision    recall  f1-score   support\n",
      "\n",
      "         0.0       0.99      0.90      0.94       846\n",
      "         1.0       0.91      0.99      0.95       842\n",
      "\n",
      "    accuracy                           0.94      1688\n",
      "   macro avg       0.95      0.94      0.94      1688\n",
      "weighted avg       0.95      0.94      0.94      1688\n",
      "\n",
      "Accuracy of Training data for k26 and euclidean is 0.9567364677992888:\n",
      "Accuracy of Testing data for k26 and euclidean is 0.9419431279620853:\n",
      "              precision    recall  f1-score   support\n",
      "\n",
      "         0.0       0.98      0.91      0.94       846\n",
      "         1.0       0.91      0.98      0.94       842\n",
      "\n",
      "    accuracy                           0.94      1688\n",
      "   macro avg       0.94      0.94      0.94      1688\n",
      "weighted avg       0.94      0.94      0.94      1688\n",
      "\n",
      "Accuracy of Training data for k27 and euclidean is 0.9533781114184117:\n",
      "Accuracy of Testing data for k27 and euclidean is 0.9389810426540285:\n",
      "              precision    recall  f1-score   support\n",
      "\n",
      "         0.0       0.98      0.90      0.94       846\n",
      "         1.0       0.91      0.98      0.94       842\n",
      "\n",
      "    accuracy                           0.94      1688\n",
      "   macro avg       0.94      0.94      0.94      1688\n",
      "weighted avg       0.94      0.94      0.94      1688\n",
      "\n",
      "Accuracy of Training data for k28 and euclidean is 0.9553536151718688:\n",
      "Accuracy of Testing data for k28 and euclidean is 0.9401658767772512:\n",
      "              precision    recall  f1-score   support\n",
      "\n",
      "         0.0       0.98      0.90      0.94       846\n",
      "         1.0       0.91      0.98      0.94       842\n",
      "\n",
      "    accuracy                           0.94      1688\n",
      "   macro avg       0.94      0.94      0.94      1688\n",
      "weighted avg       0.94      0.94      0.94      1688\n",
      "\n",
      "Accuracy of Training data for k29 and euclidean is 0.9521928091663374:\n",
      "Accuracy of Testing data for k29 and euclidean is 0.9366113744075829:\n",
      "              precision    recall  f1-score   support\n",
      "\n",
      "         0.0       0.98      0.90      0.93       846\n",
      "         1.0       0.90      0.98      0.94       842\n",
      "\n",
      "    accuracy                           0.94      1688\n",
      "   macro avg       0.94      0.94      0.94      1688\n",
      "weighted avg       0.94      0.94      0.94      1688\n",
      "\n",
      "Accuracy of Training data for k30 and euclidean is 0.9533781114184117:\n",
      "Accuracy of Testing data for k30 and euclidean is 0.933649289099526:\n",
      "              precision    recall  f1-score   support\n",
      "\n",
      "         0.0       0.97      0.90      0.93       846\n",
      "         1.0       0.90      0.97      0.94       842\n",
      "\n",
      "    accuracy                           0.93      1688\n",
      "   macro avg       0.94      0.93      0.93      1688\n",
      "weighted avg       0.94      0.93      0.93      1688\n",
      "\n",
      "Accuracy of Training data for k10 and manhattan is 0.9804425128407744:\n",
      "Accuracy of Testing data for k10 and manhattan is 0.9691943127962085:\n",
      "              precision    recall  f1-score   support\n",
      "\n",
      "         0.0       0.99      0.95      0.97       846\n",
      "         1.0       0.95      0.99      0.97       842\n",
      "\n",
      "    accuracy                           0.97      1688\n",
      "   macro avg       0.97      0.97      0.97      1688\n",
      "weighted avg       0.97      0.97      0.97      1688\n",
      "\n",
      "Accuracy of Training data for k11 and manhattan is 0.9747135519557487:\n",
      "Accuracy of Testing data for k11 and manhattan is 0.9656398104265402:\n",
      "              precision    recall  f1-score   support\n",
      "\n",
      "         0.0       1.00      0.93      0.96       846\n",
      "         1.0       0.94      1.00      0.97       842\n",
      "\n",
      "    accuracy                           0.97      1688\n",
      "   macro avg       0.97      0.97      0.97      1688\n",
      "weighted avg       0.97      0.97      0.97      1688\n",
      "\n",
      "Accuracy of Training data for k12 and manhattan is 0.9768866060845516:\n",
      "Accuracy of Testing data for k12 and manhattan is 0.9680094786729858:\n",
      "              precision    recall  f1-score   support\n",
      "\n",
      "         0.0       0.99      0.94      0.97       846\n",
      "         1.0       0.95      0.99      0.97       842\n",
      "\n",
      "    accuracy                           0.97      1688\n",
      "   macro avg       0.97      0.97      0.97      1688\n",
      "weighted avg       0.97      0.97      0.97      1688\n",
      "\n",
      "Accuracy of Training data for k13 and manhattan is 0.9735282497036745:\n",
      "Accuracy of Testing data for k13 and manhattan is 0.9638625592417062:\n",
      "              precision    recall  f1-score   support\n",
      "\n",
      "         0.0       0.99      0.93      0.96       846\n",
      "         1.0       0.94      1.00      0.96       842\n",
      "\n",
      "    accuracy                           0.96      1688\n",
      "   macro avg       0.97      0.96      0.96      1688\n",
      "weighted avg       0.97      0.96      0.96      1688\n",
      "\n",
      "Accuracy of Training data for k14 and manhattan is 0.9762939549585145:\n",
      "Accuracy of Testing data for k14 and manhattan is 0.9656398104265402:\n",
      "              precision    recall  f1-score   support\n",
      "\n",
      "         0.0       0.99      0.94      0.96       846\n",
      "         1.0       0.94      0.99      0.97       842\n",
      "\n",
      "    accuracy                           0.97      1688\n",
      "   macro avg       0.97      0.97      0.97      1688\n",
      "weighted avg       0.97      0.97      0.97      1688\n",
      "\n",
      "Accuracy of Training data for k15 and manhattan is 0.9733306993283287:\n",
      "Accuracy of Testing data for k15 and manhattan is 0.9614928909952607:\n",
      "              precision    recall  f1-score   support\n",
      "\n",
      "         0.0       0.99      0.93      0.96       846\n",
      "         1.0       0.94      0.99      0.96       842\n",
      "\n",
      "    accuracy                           0.96      1688\n",
      "   macro avg       0.96      0.96      0.96      1688\n",
      "weighted avg       0.96      0.96      0.96      1688\n",
      "\n",
      "Accuracy of Training data for k16 and manhattan is 0.973133148952983:\n",
      "Accuracy of Testing data for k16 and manhattan is 0.9609004739336493:\n",
      "              precision    recall  f1-score   support\n",
      "\n",
      "         0.0       0.98      0.94      0.96       846\n",
      "         1.0       0.94      0.98      0.96       842\n",
      "\n",
      "    accuracy                           0.96      1688\n",
      "   macro avg       0.96      0.96      0.96      1688\n",
      "weighted avg       0.96      0.96      0.96      1688\n",
      "\n",
      "Accuracy of Training data for k17 and manhattan is 0.9707625444488345:\n",
      "Accuracy of Testing data for k17 and manhattan is 0.9585308056872038:\n",
      "              precision    recall  f1-score   support\n",
      "\n",
      "         0.0       0.98      0.93      0.96       846\n",
      "         1.0       0.93      0.99      0.96       842\n",
      "\n",
      "    accuracy                           0.96      1688\n",
      "   macro avg       0.96      0.96      0.96      1688\n",
      "weighted avg       0.96      0.96      0.96      1688\n",
      "\n",
      "Accuracy of Training data for k18 and manhattan is 0.971750296325563:\n",
      "Accuracy of Testing data for k18 and manhattan is 0.9585308056872038:\n",
      "              precision    recall  f1-score   support\n",
      "\n",
      "         0.0       0.98      0.94      0.96       846\n",
      "         1.0       0.94      0.98      0.96       842\n",
      "\n",
      "    accuracy                           0.96      1688\n",
      "   macro avg       0.96      0.96      0.96      1688\n",
      "weighted avg       0.96      0.96      0.96      1688\n",
      "\n",
      "Accuracy of Training data for k19 and manhattan is 0.9699723429474516:\n",
      "Accuracy of Testing data for k19 and manhattan is 0.9585308056872038:\n",
      "              precision    recall  f1-score   support\n",
      "\n",
      "         0.0       0.99      0.93      0.96       846\n",
      "         1.0       0.93      0.99      0.96       842\n",
      "\n",
      "    accuracy                           0.96      1688\n",
      "   macro avg       0.96      0.96      0.96      1688\n",
      "weighted avg       0.96      0.96      0.96      1688\n",
      "\n",
      "Accuracy of Training data for k20 and manhattan is 0.968984591070723:\n",
      "Accuracy of Testing data for k20 and manhattan is 0.955568720379147:\n",
      "              precision    recall  f1-score   support\n",
      "\n",
      "         0.0       0.97      0.94      0.95       846\n",
      "         1.0       0.94      0.98      0.96       842\n",
      "\n",
      "    accuracy                           0.96      1688\n",
      "   macro avg       0.96      0.96      0.96      1688\n",
      "weighted avg       0.96      0.96      0.96      1688\n",
      "\n",
      "Accuracy of Training data for k21 and manhattan is 0.9656262346898459:\n",
      "Accuracy of Testing data for k21 and manhattan is 0.9537914691943128:\n",
      "              precision    recall  f1-score   support\n",
      "\n",
      "         0.0       0.98      0.92      0.95       846\n",
      "         1.0       0.93      0.98      0.96       842\n",
      "\n",
      "    accuracy                           0.95      1688\n",
      "   macro avg       0.96      0.95      0.95      1688\n",
      "weighted avg       0.96      0.95      0.95      1688\n",
      "\n",
      "Accuracy of Training data for k22 and manhattan is 0.9691821414460687:\n",
      "Accuracy of Testing data for k22 and manhattan is 0.9567535545023697:\n",
      "              precision    recall  f1-score   support\n",
      "\n",
      "         0.0       0.98      0.93      0.96       846\n",
      "         1.0       0.94      0.98      0.96       842\n",
      "\n",
      "    accuracy                           0.96      1688\n",
      "   macro avg       0.96      0.96      0.96      1688\n",
      "weighted avg       0.96      0.96      0.96      1688\n",
      "\n",
      "Accuracy of Training data for k23 and manhattan is 0.9658237850651916:\n",
      "Accuracy of Testing data for k23 and manhattan is 0.95260663507109:\n",
      "              precision    recall  f1-score   support\n",
      "\n",
      "         0.0       0.98      0.92      0.95       846\n",
      "         1.0       0.92      0.99      0.95       842\n",
      "\n",
      "    accuracy                           0.95      1688\n",
      "   macro avg       0.95      0.95      0.95      1688\n",
      "weighted avg       0.95      0.95      0.95      1688\n",
      "\n",
      "Accuracy of Training data for k24 and manhattan is 0.967601738443303:\n",
      "Accuracy of Testing data for k24 and manhattan is 0.9549763033175356:\n",
      "              precision    recall  f1-score   support\n",
      "\n",
      "         0.0       0.98      0.93      0.95       846\n",
      "         1.0       0.93      0.98      0.96       842\n",
      "\n",
      "    accuracy                           0.95      1688\n",
      "   macro avg       0.96      0.96      0.95      1688\n",
      "weighted avg       0.96      0.95      0.95      1688\n",
      "\n",
      "Accuracy of Training data for k25 and manhattan is 0.9652311339391545:\n",
      "Accuracy of Testing data for k25 and manhattan is 0.9514218009478673:\n",
      "              precision    recall  f1-score   support\n",
      "\n",
      "         0.0       0.98      0.92      0.95       846\n",
      "         1.0       0.92      0.98      0.95       842\n",
      "\n",
      "    accuracy                           0.95      1688\n",
      "   macro avg       0.95      0.95      0.95      1688\n",
      "weighted avg       0.95      0.95      0.95      1688\n",
      "\n",
      "Accuracy of Training data for k26 and manhattan is 0.9660213354405374:\n",
      "Accuracy of Testing data for k26 and manhattan is 0.9537914691943128:\n",
      "              precision    recall  f1-score   support\n",
      "\n",
      "         0.0       0.98      0.93      0.95       846\n",
      "         1.0       0.93      0.98      0.95       842\n",
      "\n",
      "    accuracy                           0.95      1688\n",
      "   macro avg       0.96      0.95      0.95      1688\n",
      "weighted avg       0.96      0.95      0.95      1688\n",
      "\n",
      "Accuracy of Training data for k27 and manhattan is 0.9640458316870802:\n",
      "Accuracy of Testing data for k27 and manhattan is 0.9496445497630331:\n",
      "              precision    recall  f1-score   support\n",
      "\n",
      "         0.0       0.98      0.92      0.95       846\n",
      "         1.0       0.92      0.98      0.95       842\n",
      "\n",
      "    accuracy                           0.95      1688\n",
      "   macro avg       0.95      0.95      0.95      1688\n",
      "weighted avg       0.95      0.95      0.95      1688\n",
      "\n",
      "Accuracy of Training data for k28 and manhattan is 0.9650335835638088:\n",
      "Accuracy of Testing data for k28 and manhattan is 0.9508293838862559:\n",
      "              precision    recall  f1-score   support\n",
      "\n",
      "         0.0       0.98      0.92      0.95       846\n",
      "         1.0       0.93      0.98      0.95       842\n",
      "\n",
      "    accuracy                           0.95      1688\n",
      "   macro avg       0.95      0.95      0.95      1688\n",
      "weighted avg       0.95      0.95      0.95      1688\n",
      "\n",
      "Accuracy of Training data for k29 and manhattan is 0.9628605294350059:\n",
      "Accuracy of Testing data for k29 and manhattan is 0.9454976303317536:\n",
      "              precision    recall  f1-score   support\n",
      "\n",
      "         0.0       0.98      0.91      0.94       846\n",
      "         1.0       0.92      0.98      0.95       842\n",
      "\n",
      "    accuracy                           0.95      1688\n",
      "   macro avg       0.95      0.95      0.95      1688\n",
      "weighted avg       0.95      0.95      0.95      1688\n",
      "\n",
      "Accuracy of Training data for k30 and manhattan is 0.9646384828131174:\n",
      "Accuracy of Testing data for k30 and manhattan is 0.9484597156398105:\n",
      "              precision    recall  f1-score   support\n",
      "\n",
      "         0.0       0.97      0.92      0.95       846\n",
      "         1.0       0.93      0.98      0.95       842\n",
      "\n",
      "    accuracy                           0.95      1688\n",
      "   macro avg       0.95      0.95      0.95      1688\n",
      "weighted avg       0.95      0.95      0.95      1688\n",
      "\n",
      "Accuracy of Training data for k10 and minkowski is 0.9749111023310945:\n",
      "Accuracy of Testing data for k10 and minkowski is 0.955568720379147:\n",
      "              precision    recall  f1-score   support\n",
      "\n",
      "         0.0       0.99      0.92      0.95       846\n",
      "         1.0       0.92      0.99      0.96       842\n",
      "\n",
      "    accuracy                           0.96      1688\n",
      "   macro avg       0.96      0.96      0.96      1688\n",
      "weighted avg       0.96      0.96      0.96      1688\n",
      "\n",
      "Accuracy of Training data for k11 and minkowski is 0.968984591070723:\n",
      "Accuracy of Testing data for k11 and minkowski is 0.9472748815165877:\n",
      "              precision    recall  f1-score   support\n",
      "\n",
      "         0.0       0.99      0.90      0.94       846\n",
      "         1.0       0.91      1.00      0.95       842\n",
      "\n",
      "    accuracy                           0.95      1688\n",
      "   macro avg       0.95      0.95      0.95      1688\n",
      "weighted avg       0.95      0.95      0.95      1688\n",
      "\n",
      "Accuracy of Training data for k12 and minkowski is 0.9729355985776373:\n",
      "Accuracy of Testing data for k12 and minkowski is 0.95260663507109:\n",
      "              precision    recall  f1-score   support\n",
      "\n",
      "         0.0       0.99      0.91      0.95       846\n",
      "         1.0       0.92      0.99      0.95       842\n",
      "\n",
      "    accuracy                           0.95      1688\n",
      "   macro avg       0.96      0.95      0.95      1688\n",
      "weighted avg       0.96      0.95      0.95      1688\n",
      "\n",
      "Accuracy of Training data for k13 and minkowski is 0.968984591070723:\n",
      "Accuracy of Testing data for k13 and minkowski is 0.9484597156398105:\n",
      "              precision    recall  f1-score   support\n",
      "\n",
      "         0.0       1.00      0.90      0.95       846\n",
      "         1.0       0.91      1.00      0.95       842\n",
      "\n",
      "    accuracy                           0.95      1688\n",
      "   macro avg       0.95      0.95      0.95      1688\n",
      "weighted avg       0.95      0.95      0.95      1688\n",
      "\n",
      "Accuracy of Training data for k14 and minkowski is 0.970367443698143:\n",
      "Accuracy of Testing data for k14 and minkowski is 0.9537914691943128:\n",
      "              precision    recall  f1-score   support\n",
      "\n",
      "         0.0       0.99      0.91      0.95       846\n",
      "         1.0       0.92      0.99      0.96       842\n",
      "\n",
      "    accuracy                           0.95      1688\n",
      "   macro avg       0.96      0.95      0.95      1688\n",
      "weighted avg       0.96      0.95      0.95      1688\n",
      "\n",
      "Accuracy of Training data for k15 and minkowski is 0.9658237850651916:\n",
      "Accuracy of Testing data for k15 and minkowski is 0.9478672985781991:\n",
      "              precision    recall  f1-score   support\n",
      "\n",
      "         0.0       0.99      0.90      0.95       846\n",
      "         1.0       0.91      1.00      0.95       842\n",
      "\n",
      "    accuracy                           0.95      1688\n",
      "   macro avg       0.95      0.95      0.95      1688\n",
      "weighted avg       0.95      0.95      0.95      1688\n",
      "\n",
      "Accuracy of Training data for k16 and minkowski is 0.9677992888186487:\n",
      "Accuracy of Testing data for k16 and minkowski is 0.9502369668246445:\n",
      "              precision    recall  f1-score   support\n",
      "\n",
      "         0.0       0.99      0.91      0.95       846\n",
      "         1.0       0.92      0.99      0.95       842\n",
      "\n",
      "    accuracy                           0.95      1688\n",
      "   macro avg       0.95      0.95      0.95      1688\n",
      "weighted avg       0.95      0.95      0.95      1688\n",
      "\n",
      "Accuracy of Training data for k17 and minkowski is 0.9636507309363888:\n",
      "Accuracy of Testing data for k17 and minkowski is 0.9454976303317536:\n",
      "              precision    recall  f1-score   support\n",
      "\n",
      "         0.0       0.99      0.90      0.94       846\n",
      "         1.0       0.91      0.99      0.95       842\n",
      "\n",
      "    accuracy                           0.95      1688\n",
      "   macro avg       0.95      0.95      0.95      1688\n",
      "weighted avg       0.95      0.95      0.95      1688\n",
      "\n",
      "Accuracy of Training data for k18 and minkowski is 0.9640458316870802:\n",
      "Accuracy of Testing data for k18 and minkowski is 0.9478672985781991:\n",
      "              precision    recall  f1-score   support\n",
      "\n",
      "         0.0       0.99      0.91      0.95       846\n",
      "         1.0       0.91      0.99      0.95       842\n",
      "\n",
      "    accuracy                           0.95      1688\n",
      "   macro avg       0.95      0.95      0.95      1688\n",
      "weighted avg       0.95      0.95      0.95      1688\n",
      "\n",
      "Accuracy of Training data for k19 and minkowski is 0.9618727775582774:\n",
      "Accuracy of Testing data for k19 and minkowski is 0.9419431279620853:\n",
      "              precision    recall  f1-score   support\n",
      "\n",
      "         0.0       0.99      0.89      0.94       846\n",
      "         1.0       0.90      0.99      0.94       842\n",
      "\n",
      "    accuracy                           0.94      1688\n",
      "   macro avg       0.95      0.94      0.94      1688\n",
      "weighted avg       0.95      0.94      0.94      1688\n",
      "\n",
      "Accuracy of Training data for k20 and minkowski is 0.9618727775582774:\n",
      "Accuracy of Testing data for k20 and minkowski is 0.9478672985781991:\n",
      "              precision    recall  f1-score   support\n",
      "\n",
      "         0.0       0.98      0.91      0.95       846\n",
      "         1.0       0.92      0.99      0.95       842\n",
      "\n",
      "    accuracy                           0.95      1688\n",
      "   macro avg       0.95      0.95      0.95      1688\n",
      "weighted avg       0.95      0.95      0.95      1688\n",
      "\n",
      "Accuracy of Training data for k21 and minkowski is 0.9591070723034374:\n",
      "Accuracy of Testing data for k21 and minkowski is 0.9454976303317536:\n",
      "              precision    recall  f1-score   support\n",
      "\n",
      "         0.0       0.99      0.90      0.94       846\n",
      "         1.0       0.91      0.99      0.95       842\n",
      "\n",
      "    accuracy                           0.95      1688\n",
      "   macro avg       0.95      0.95      0.95      1688\n",
      "weighted avg       0.95      0.95      0.95      1688\n",
      "\n",
      "Accuracy of Training data for k22 and minkowski is 0.9593046226787831:\n",
      "Accuracy of Testing data for k22 and minkowski is 0.9454976303317536:\n",
      "              precision    recall  f1-score   support\n",
      "\n",
      "         0.0       0.98      0.91      0.94       846\n",
      "         1.0       0.91      0.98      0.95       842\n",
      "\n",
      "    accuracy                           0.95      1688\n",
      "   macro avg       0.95      0.95      0.95      1688\n",
      "weighted avg       0.95      0.95      0.95      1688\n",
      "\n",
      "Accuracy of Training data for k23 and minkowski is 0.9567364677992888:\n",
      "Accuracy of Testing data for k23 and minkowski is 0.9449052132701422:\n",
      "              precision    recall  f1-score   support\n",
      "\n",
      "         0.0       0.99      0.90      0.94       846\n",
      "         1.0       0.91      0.99      0.95       842\n",
      "\n",
      "    accuracy                           0.94      1688\n",
      "   macro avg       0.95      0.95      0.94      1688\n",
      "weighted avg       0.95      0.94      0.94      1688\n",
      "\n",
      "Accuracy of Training data for k24 and minkowski is 0.9577242196760174:\n",
      "Accuracy of Testing data for k24 and minkowski is 0.9454976303317536:\n",
      "              precision    recall  f1-score   support\n",
      "\n",
      "         0.0       0.98      0.91      0.94       846\n",
      "         1.0       0.91      0.99      0.95       842\n",
      "\n",
      "    accuracy                           0.95      1688\n",
      "   macro avg       0.95      0.95      0.95      1688\n",
      "weighted avg       0.95      0.95      0.95      1688\n",
      "\n",
      "Accuracy of Training data for k25 and minkowski is 0.9551560647965232:\n",
      "Accuracy of Testing data for k25 and minkowski is 0.9443127962085308:\n",
      "              precision    recall  f1-score   support\n",
      "\n",
      "         0.0       0.99      0.90      0.94       846\n",
      "         1.0       0.91      0.99      0.95       842\n",
      "\n",
      "    accuracy                           0.94      1688\n",
      "   macro avg       0.95      0.94      0.94      1688\n",
      "weighted avg       0.95      0.94      0.94      1688\n",
      "\n",
      "Accuracy of Training data for k26 and minkowski is 0.9567364677992888:\n",
      "Accuracy of Testing data for k26 and minkowski is 0.9419431279620853:\n",
      "              precision    recall  f1-score   support\n",
      "\n",
      "         0.0       0.98      0.91      0.94       846\n",
      "         1.0       0.91      0.98      0.94       842\n",
      "\n",
      "    accuracy                           0.94      1688\n",
      "   macro avg       0.94      0.94      0.94      1688\n",
      "weighted avg       0.94      0.94      0.94      1688\n",
      "\n",
      "Accuracy of Training data for k27 and minkowski is 0.9533781114184117:\n",
      "Accuracy of Testing data for k27 and minkowski is 0.9389810426540285:\n",
      "              precision    recall  f1-score   support\n",
      "\n",
      "         0.0       0.98      0.90      0.94       846\n",
      "         1.0       0.91      0.98      0.94       842\n",
      "\n",
      "    accuracy                           0.94      1688\n",
      "   macro avg       0.94      0.94      0.94      1688\n",
      "weighted avg       0.94      0.94      0.94      1688\n",
      "\n",
      "Accuracy of Training data for k28 and minkowski is 0.9553536151718688:\n",
      "Accuracy of Testing data for k28 and minkowski is 0.9401658767772512:\n",
      "              precision    recall  f1-score   support\n",
      "\n",
      "         0.0       0.98      0.90      0.94       846\n",
      "         1.0       0.91      0.98      0.94       842\n",
      "\n",
      "    accuracy                           0.94      1688\n",
      "   macro avg       0.94      0.94      0.94      1688\n",
      "weighted avg       0.94      0.94      0.94      1688\n",
      "\n",
      "Accuracy of Training data for k29 and minkowski is 0.9521928091663374:\n",
      "Accuracy of Testing data for k29 and minkowski is 0.9366113744075829:\n",
      "              precision    recall  f1-score   support\n",
      "\n",
      "         0.0       0.98      0.90      0.93       846\n",
      "         1.0       0.90      0.98      0.94       842\n",
      "\n",
      "    accuracy                           0.94      1688\n",
      "   macro avg       0.94      0.94      0.94      1688\n",
      "weighted avg       0.94      0.94      0.94      1688\n",
      "\n",
      "Accuracy of Training data for k30 and minkowski is 0.9533781114184117:\n",
      "Accuracy of Testing data for k30 and minkowski is 0.933649289099526:\n",
      "              precision    recall  f1-score   support\n",
      "\n",
      "         0.0       0.97      0.90      0.93       846\n",
      "         1.0       0.90      0.97      0.94       842\n",
      "\n",
      "    accuracy                           0.93      1688\n",
      "   macro avg       0.94      0.93      0.93      1688\n",
      "weighted avg       0.94      0.93      0.93      1688\n",
      "\n"
     ]
    }
   ],
   "source": [
    "#method of distance measure\n",
    "k =['euclidean','manhattan','minkowski']\n",
    "l =np.arange(10,31)\n",
    "for i in k:\n",
    "    for j in l:\n",
    "        KNN = KNeighborsClassifier(n_neighbors= j,metric=i)\n",
    "        KNN.fit(X_train, y_train)\n",
    "        predicted_labels = KNN.predict(X_test)\n",
    "        print('Accuracy of Training data for k{} and {} is {}:'.format(j,i,KNN.score(X_train, y_train)))\n",
    "        print('Accuracy of Testing data for k{} and {} is {}:'.format(j,i,KNN.score(X_test, y_test)))\n",
    "        print(classification_report(y_test, predicted_labels))"
   ]
  },
  {
   "cell_type": "markdown",
   "metadata": {},
   "source": [
    "k15 and Euclidean are the best combination"
   ]
  },
  {
   "cell_type": "markdown",
   "metadata": {},
   "source": [
    "## Tuning SVM Model"
   ]
  },
  {
   "cell_type": "code",
   "execution_count": 106,
   "metadata": {},
   "outputs": [],
   "source": [
    "from sklearn import svm\n",
    "#Split data into train and test with 75:25 proportion\n",
    "X_train, X_test, y_train, y_test = train_test_split(X_res, y_res, test_size=0.25, random_state=9)\n",
    "clf = svm.SVC(gamma=0.025, C=3)   \n",
    "clf.fit(X_train , y_train)\n",
    "y_pred = clf.predict(X_test)"
   ]
  },
  {
   "cell_type": "code",
   "execution_count": 107,
   "metadata": {},
   "outputs": [
    {
     "name": "stdout",
     "output_type": "stream",
     "text": [
      "Accuracy of Training data kernel rbf  C  0.1  degree 1 :  0.9375740813907546\n",
      "Accuracy of Testing data kernel rbf  C  0.1  degree 1 :  0.9182464454976303\n",
      "              precision    recall  f1-score   support\n",
      "\n",
      "         0.0       0.92      0.91      0.92       846\n",
      "         1.0       0.91      0.93      0.92       842\n",
      "\n",
      "    accuracy                           0.92      1688\n",
      "   macro avg       0.92      0.92      0.92      1688\n",
      "weighted avg       0.92      0.92      0.92      1688\n",
      "\n",
      "\n",
      "Accuracy of Training data kernel rbf  C  0.1  degree 2 :  0.9375740813907546\n",
      "Accuracy of Testing data kernel rbf  C  0.1  degree 2 :  0.9182464454976303\n",
      "              precision    recall  f1-score   support\n",
      "\n",
      "         0.0       0.92      0.91      0.92       846\n",
      "         1.0       0.91      0.93      0.92       842\n",
      "\n",
      "    accuracy                           0.92      1688\n",
      "   macro avg       0.92      0.92      0.92      1688\n",
      "weighted avg       0.92      0.92      0.92      1688\n",
      "\n",
      "\n",
      "Accuracy of Training data kernel rbf  C  0.1  degree 3 :  0.9375740813907546\n",
      "Accuracy of Testing data kernel rbf  C  0.1  degree 3 :  0.9182464454976303\n",
      "              precision    recall  f1-score   support\n",
      "\n",
      "         0.0       0.92      0.91      0.92       846\n",
      "         1.0       0.91      0.93      0.92       842\n",
      "\n",
      "    accuracy                           0.92      1688\n",
      "   macro avg       0.92      0.92      0.92      1688\n",
      "weighted avg       0.92      0.92      0.92      1688\n",
      "\n",
      "\n",
      "Accuracy of Training data kernel rbf  C  0.1  degree 4 :  0.9375740813907546\n",
      "Accuracy of Testing data kernel rbf  C  0.1  degree 4 :  0.9182464454976303\n",
      "              precision    recall  f1-score   support\n",
      "\n",
      "         0.0       0.92      0.91      0.92       846\n",
      "         1.0       0.91      0.93      0.92       842\n",
      "\n",
      "    accuracy                           0.92      1688\n",
      "   macro avg       0.92      0.92      0.92      1688\n",
      "weighted avg       0.92      0.92      0.92      1688\n",
      "\n",
      "\n",
      "Accuracy of Training data kernel rbf  C  0.1  degree 5 :  0.9375740813907546\n",
      "Accuracy of Testing data kernel rbf  C  0.1  degree 5 :  0.9182464454976303\n",
      "              precision    recall  f1-score   support\n",
      "\n",
      "         0.0       0.92      0.91      0.92       846\n",
      "         1.0       0.91      0.93      0.92       842\n",
      "\n",
      "    accuracy                           0.92      1688\n",
      "   macro avg       0.92      0.92      0.92      1688\n",
      "weighted avg       0.92      0.92      0.92      1688\n",
      "\n",
      "\n",
      "Accuracy of Training data kernel rbf  C  0.1  degree 6 :  0.9375740813907546\n",
      "Accuracy of Testing data kernel rbf  C  0.1  degree 6 :  0.9182464454976303\n",
      "              precision    recall  f1-score   support\n",
      "\n",
      "         0.0       0.92      0.91      0.92       846\n",
      "         1.0       0.91      0.93      0.92       842\n",
      "\n",
      "    accuracy                           0.92      1688\n",
      "   macro avg       0.92      0.92      0.92      1688\n",
      "weighted avg       0.92      0.92      0.92      1688\n",
      "\n",
      "\n",
      "Accuracy of Training data kernel rbf  C  1  degree 1 :  0.9699723429474516\n",
      "Accuracy of Testing data kernel rbf  C  1  degree 1 :  0.9543838862559242\n",
      "              precision    recall  f1-score   support\n",
      "\n",
      "         0.0       0.96      0.95      0.95       846\n",
      "         1.0       0.95      0.96      0.95       842\n",
      "\n",
      "    accuracy                           0.95      1688\n",
      "   macro avg       0.95      0.95      0.95      1688\n",
      "weighted avg       0.95      0.95      0.95      1688\n",
      "\n",
      "\n",
      "Accuracy of Training data kernel rbf  C  1  degree 2 :  0.9699723429474516\n",
      "Accuracy of Testing data kernel rbf  C  1  degree 2 :  0.9543838862559242\n",
      "              precision    recall  f1-score   support\n",
      "\n",
      "         0.0       0.96      0.95      0.95       846\n",
      "         1.0       0.95      0.96      0.95       842\n",
      "\n",
      "    accuracy                           0.95      1688\n",
      "   macro avg       0.95      0.95      0.95      1688\n",
      "weighted avg       0.95      0.95      0.95      1688\n",
      "\n",
      "\n",
      "Accuracy of Training data kernel rbf  C  1  degree 3 :  0.9699723429474516\n",
      "Accuracy of Testing data kernel rbf  C  1  degree 3 :  0.9543838862559242\n",
      "              precision    recall  f1-score   support\n",
      "\n",
      "         0.0       0.96      0.95      0.95       846\n",
      "         1.0       0.95      0.96      0.95       842\n",
      "\n",
      "    accuracy                           0.95      1688\n",
      "   macro avg       0.95      0.95      0.95      1688\n",
      "weighted avg       0.95      0.95      0.95      1688\n",
      "\n",
      "\n",
      "Accuracy of Training data kernel rbf  C  1  degree 4 :  0.9699723429474516\n",
      "Accuracy of Testing data kernel rbf  C  1  degree 4 :  0.9543838862559242\n",
      "              precision    recall  f1-score   support\n",
      "\n",
      "         0.0       0.96      0.95      0.95       846\n",
      "         1.0       0.95      0.96      0.95       842\n",
      "\n",
      "    accuracy                           0.95      1688\n",
      "   macro avg       0.95      0.95      0.95      1688\n",
      "weighted avg       0.95      0.95      0.95      1688\n",
      "\n",
      "\n",
      "Accuracy of Training data kernel rbf  C  1  degree 5 :  0.9699723429474516\n",
      "Accuracy of Testing data kernel rbf  C  1  degree 5 :  0.9543838862559242\n",
      "              precision    recall  f1-score   support\n",
      "\n",
      "         0.0       0.96      0.95      0.95       846\n",
      "         1.0       0.95      0.96      0.95       842\n",
      "\n",
      "    accuracy                           0.95      1688\n",
      "   macro avg       0.95      0.95      0.95      1688\n",
      "weighted avg       0.95      0.95      0.95      1688\n",
      "\n",
      "\n",
      "Accuracy of Training data kernel rbf  C  1  degree 6 :  0.9699723429474516\n",
      "Accuracy of Testing data kernel rbf  C  1  degree 6 :  0.9543838862559242\n",
      "              precision    recall  f1-score   support\n",
      "\n",
      "         0.0       0.96      0.95      0.95       846\n",
      "         1.0       0.95      0.96      0.95       842\n",
      "\n",
      "    accuracy                           0.95      1688\n",
      "   macro avg       0.95      0.95      0.95      1688\n",
      "weighted avg       0.95      0.95      0.95      1688\n",
      "\n",
      "\n",
      "Accuracy of Training data kernel rbf  C  100  degree 1 :  0.9940734887396286\n",
      "Accuracy of Testing data kernel rbf  C  100  degree 1 :  0.9822274881516587\n",
      "              precision    recall  f1-score   support\n",
      "\n",
      "         0.0       0.99      0.97      0.98       846\n",
      "         1.0       0.97      0.99      0.98       842\n",
      "\n",
      "    accuracy                           0.98      1688\n",
      "   macro avg       0.98      0.98      0.98      1688\n",
      "weighted avg       0.98      0.98      0.98      1688\n",
      "\n",
      "\n",
      "Accuracy of Training data kernel rbf  C  100  degree 2 :  0.9940734887396286\n",
      "Accuracy of Testing data kernel rbf  C  100  degree 2 :  0.9822274881516587\n",
      "              precision    recall  f1-score   support\n",
      "\n",
      "         0.0       0.99      0.97      0.98       846\n",
      "         1.0       0.97      0.99      0.98       842\n",
      "\n",
      "    accuracy                           0.98      1688\n",
      "   macro avg       0.98      0.98      0.98      1688\n",
      "weighted avg       0.98      0.98      0.98      1688\n",
      "\n",
      "\n",
      "Accuracy of Training data kernel rbf  C  100  degree 3 :  0.9940734887396286\n",
      "Accuracy of Testing data kernel rbf  C  100  degree 3 :  0.9822274881516587\n",
      "              precision    recall  f1-score   support\n",
      "\n",
      "         0.0       0.99      0.97      0.98       846\n",
      "         1.0       0.97      0.99      0.98       842\n",
      "\n",
      "    accuracy                           0.98      1688\n",
      "   macro avg       0.98      0.98      0.98      1688\n",
      "weighted avg       0.98      0.98      0.98      1688\n",
      "\n",
      "\n",
      "Accuracy of Training data kernel rbf  C  100  degree 4 :  0.9940734887396286\n",
      "Accuracy of Testing data kernel rbf  C  100  degree 4 :  0.9822274881516587\n",
      "              precision    recall  f1-score   support\n",
      "\n",
      "         0.0       0.99      0.97      0.98       846\n",
      "         1.0       0.97      0.99      0.98       842\n",
      "\n",
      "    accuracy                           0.98      1688\n",
      "   macro avg       0.98      0.98      0.98      1688\n",
      "weighted avg       0.98      0.98      0.98      1688\n",
      "\n",
      "\n",
      "Accuracy of Training data kernel rbf  C  100  degree 5 :  0.9940734887396286\n",
      "Accuracy of Testing data kernel rbf  C  100  degree 5 :  0.9822274881516587\n",
      "              precision    recall  f1-score   support\n",
      "\n",
      "         0.0       0.99      0.97      0.98       846\n",
      "         1.0       0.97      0.99      0.98       842\n",
      "\n",
      "    accuracy                           0.98      1688\n",
      "   macro avg       0.98      0.98      0.98      1688\n",
      "weighted avg       0.98      0.98      0.98      1688\n",
      "\n",
      "\n",
      "Accuracy of Training data kernel rbf  C  100  degree 6 :  0.9940734887396286\n",
      "Accuracy of Testing data kernel rbf  C  100  degree 6 :  0.9822274881516587\n",
      "              precision    recall  f1-score   support\n",
      "\n",
      "         0.0       0.99      0.97      0.98       846\n",
      "         1.0       0.97      0.99      0.98       842\n",
      "\n",
      "    accuracy                           0.98      1688\n",
      "   macro avg       0.98      0.98      0.98      1688\n",
      "weighted avg       0.98      0.98      0.98      1688\n",
      "\n",
      "\n",
      "Accuracy of Training data kernel rbf  C  1000  degree 1 :  0.9984195969972343\n",
      "Accuracy of Testing data kernel rbf  C  1000  degree 1 :  0.9822274881516587\n",
      "              precision    recall  f1-score   support\n",
      "\n",
      "         0.0       1.00      0.97      0.98       846\n",
      "         1.0       0.97      1.00      0.98       842\n",
      "\n",
      "    accuracy                           0.98      1688\n",
      "   macro avg       0.98      0.98      0.98      1688\n",
      "weighted avg       0.98      0.98      0.98      1688\n",
      "\n",
      "\n",
      "Accuracy of Training data kernel rbf  C  1000  degree 2 :  0.9984195969972343\n",
      "Accuracy of Testing data kernel rbf  C  1000  degree 2 :  0.9822274881516587\n",
      "              precision    recall  f1-score   support\n",
      "\n",
      "         0.0       1.00      0.97      0.98       846\n",
      "         1.0       0.97      1.00      0.98       842\n",
      "\n",
      "    accuracy                           0.98      1688\n",
      "   macro avg       0.98      0.98      0.98      1688\n",
      "weighted avg       0.98      0.98      0.98      1688\n",
      "\n",
      "\n",
      "Accuracy of Training data kernel rbf  C  1000  degree 3 :  0.9984195969972343\n",
      "Accuracy of Testing data kernel rbf  C  1000  degree 3 :  0.9822274881516587\n",
      "              precision    recall  f1-score   support\n",
      "\n",
      "         0.0       1.00      0.97      0.98       846\n",
      "         1.0       0.97      1.00      0.98       842\n",
      "\n",
      "    accuracy                           0.98      1688\n",
      "   macro avg       0.98      0.98      0.98      1688\n",
      "weighted avg       0.98      0.98      0.98      1688\n",
      "\n",
      "\n",
      "Accuracy of Training data kernel rbf  C  1000  degree 4 :  0.9984195969972343\n",
      "Accuracy of Testing data kernel rbf  C  1000  degree 4 :  0.9822274881516587\n",
      "              precision    recall  f1-score   support\n",
      "\n",
      "         0.0       1.00      0.97      0.98       846\n",
      "         1.0       0.97      1.00      0.98       842\n",
      "\n",
      "    accuracy                           0.98      1688\n",
      "   macro avg       0.98      0.98      0.98      1688\n",
      "weighted avg       0.98      0.98      0.98      1688\n",
      "\n",
      "\n",
      "Accuracy of Training data kernel rbf  C  1000  degree 5 :  0.9984195969972343\n",
      "Accuracy of Testing data kernel rbf  C  1000  degree 5 :  0.9822274881516587\n",
      "              precision    recall  f1-score   support\n",
      "\n",
      "         0.0       1.00      0.97      0.98       846\n",
      "         1.0       0.97      1.00      0.98       842\n",
      "\n",
      "    accuracy                           0.98      1688\n",
      "   macro avg       0.98      0.98      0.98      1688\n",
      "weighted avg       0.98      0.98      0.98      1688\n",
      "\n",
      "\n",
      "Accuracy of Training data kernel rbf  C  1000  degree 6 :  0.9984195969972343\n",
      "Accuracy of Testing data kernel rbf  C  1000  degree 6 :  0.9822274881516587\n",
      "              precision    recall  f1-score   support\n",
      "\n",
      "         0.0       1.00      0.97      0.98       846\n",
      "         1.0       0.97      1.00      0.98       842\n",
      "\n",
      "    accuracy                           0.98      1688\n",
      "   macro avg       0.98      0.98      0.98      1688\n",
      "weighted avg       0.98      0.98      0.98      1688\n",
      "\n",
      "\n",
      "Accuracy of Training data kernel poly  C  0.1  degree 1 :  0.9083366258395891\n",
      "Accuracy of Testing data kernel poly  C  0.1  degree 1 :  0.8945497630331753\n",
      "              precision    recall  f1-score   support\n",
      "\n",
      "         0.0       0.90      0.89      0.89       846\n",
      "         1.0       0.89      0.90      0.89       842\n",
      "\n",
      "    accuracy                           0.89      1688\n",
      "   macro avg       0.89      0.89      0.89      1688\n",
      "weighted avg       0.89      0.89      0.89      1688\n",
      "\n",
      "\n",
      "Accuracy of Training data kernel poly  C  0.1  degree 2 :  0.7751876728565784\n",
      "Accuracy of Testing data kernel poly  C  0.1  degree 2 :  0.7612559241706162\n",
      "              precision    recall  f1-score   support\n",
      "\n",
      "         0.0       0.70      0.93      0.80       846\n",
      "         1.0       0.90      0.59      0.71       842\n",
      "\n",
      "    accuracy                           0.76      1688\n",
      "   macro avg       0.80      0.76      0.75      1688\n",
      "weighted avg       0.80      0.76      0.75      1688\n",
      "\n",
      "\n",
      "Accuracy of Training data kernel poly  C  0.1  degree 3 :  0.7283682338996444\n",
      "Accuracy of Testing data kernel poly  C  0.1  degree 3 :  0.7274881516587678\n",
      "              precision    recall  f1-score   support\n",
      "\n",
      "         0.0       0.66      0.96      0.78       846\n",
      "         1.0       0.93      0.49      0.64       842\n",
      "\n",
      "    accuracy                           0.73      1688\n",
      "   macro avg       0.79      0.73      0.71      1688\n",
      "weighted avg       0.79      0.73      0.71      1688\n",
      "\n",
      "\n",
      "Accuracy of Training data kernel poly  C  0.1  degree 4 :  0.6596207032793362\n",
      "Accuracy of Testing data kernel poly  C  0.1  degree 4 :  0.6706161137440758\n",
      "              precision    recall  f1-score   support\n",
      "\n",
      "         0.0       0.61      0.98      0.75       846\n",
      "         1.0       0.95      0.36      0.52       842\n",
      "\n",
      "    accuracy                           0.67      1688\n",
      "   macro avg       0.78      0.67      0.63      1688\n",
      "weighted avg       0.78      0.67      0.63      1688\n",
      "\n",
      "\n",
      "Accuracy of Training data kernel poly  C  0.1  degree 5 :  0.641841169498222\n",
      "Accuracy of Testing data kernel poly  C  0.1  degree 5 :  0.6498815165876777\n",
      "              precision    recall  f1-score   support\n",
      "\n",
      "         0.0       0.59      0.99      0.74       846\n",
      "         1.0       0.96      0.31      0.47       842\n",
      "\n",
      "    accuracy                           0.65      1688\n",
      "   macro avg       0.78      0.65      0.60      1688\n",
      "weighted avg       0.78      0.65      0.60      1688\n",
      "\n",
      "\n",
      "Accuracy of Training data kernel poly  C  0.1  degree 6 :  0.6189253259581193\n",
      "Accuracy of Testing data kernel poly  C  0.1  degree 6 :  0.6232227488151659\n",
      "              precision    recall  f1-score   support\n",
      "\n",
      "         0.0       0.57      0.99      0.73       846\n",
      "         1.0       0.98      0.25      0.40       842\n",
      "\n",
      "    accuracy                           0.62      1688\n",
      "   macro avg       0.77      0.62      0.56      1688\n",
      "weighted avg       0.77      0.62      0.56      1688\n",
      "\n",
      "\n",
      "Accuracy of Training data kernel poly  C  1  degree 1 :  0.906361122086132\n",
      "Accuracy of Testing data kernel poly  C  1  degree 1 :  0.8981042654028436\n",
      "              precision    recall  f1-score   support\n",
      "\n",
      "         0.0       0.90      0.89      0.90       846\n",
      "         1.0       0.89      0.90      0.90       842\n",
      "\n",
      "    accuracy                           0.90      1688\n",
      "   macro avg       0.90      0.90      0.90      1688\n",
      "weighted avg       0.90      0.90      0.90      1688\n",
      "\n",
      "\n",
      "Accuracy of Training data kernel poly  C  1  degree 2 :  0.8676412485183722\n",
      "Accuracy of Testing data kernel poly  C  1  degree 2 :  0.8601895734597157\n",
      "              precision    recall  f1-score   support\n",
      "\n",
      "         0.0       0.82      0.93      0.87       846\n",
      "         1.0       0.92      0.79      0.85       842\n",
      "\n",
      "    accuracy                           0.86      1688\n",
      "   macro avg       0.87      0.86      0.86      1688\n",
      "weighted avg       0.87      0.86      0.86      1688\n",
      "\n",
      "\n",
      "Accuracy of Training data kernel poly  C  1  degree 3 :  0.8964836033188464\n",
      "Accuracy of Testing data kernel poly  C  1  degree 3 :  0.8785545023696683\n",
      "              precision    recall  f1-score   support\n",
      "\n",
      "         0.0       0.83      0.96      0.89       846\n",
      "         1.0       0.95      0.80      0.87       842\n",
      "\n",
      "    accuracy                           0.88      1688\n",
      "   macro avg       0.89      0.88      0.88      1688\n",
      "weighted avg       0.89      0.88      0.88      1688\n",
      "\n",
      "\n",
      "Accuracy of Training data kernel poly  C  1  degree 4 :  0.7538522323192414\n",
      "Accuracy of Testing data kernel poly  C  1  degree 4 :  0.75\n",
      "              precision    recall  f1-score   support\n",
      "\n",
      "         0.0       0.67      0.97      0.80       846\n",
      "         1.0       0.95      0.52      0.68       842\n",
      "\n",
      "    accuracy                           0.75      1688\n",
      "   macro avg       0.81      0.75      0.74      1688\n",
      "weighted avg       0.81      0.75      0.74      1688\n",
      "\n",
      "\n",
      "Accuracy of Training data kernel poly  C  1  degree 5 :  0.7076254444883445\n",
      "Accuracy of Testing data kernel poly  C  1  degree 5 :  0.715047393364929\n",
      "              precision    recall  f1-score   support\n",
      "\n",
      "         0.0       0.64      0.98      0.78       846\n",
      "         1.0       0.96      0.45      0.61       842\n",
      "\n",
      "    accuracy                           0.72      1688\n",
      "   macro avg       0.80      0.71      0.69      1688\n",
      "weighted avg       0.80      0.72      0.69      1688\n",
      "\n",
      "\n",
      "Accuracy of Training data kernel poly  C  1  degree 6 :  0.675622283682339\n",
      "Accuracy of Testing data kernel poly  C  1  degree 6 :  0.6854265402843602\n",
      "              precision    recall  f1-score   support\n",
      "\n",
      "         0.0       0.62      0.99      0.76       846\n",
      "         1.0       0.97      0.38      0.55       842\n",
      "\n",
      "    accuracy                           0.69      1688\n",
      "   macro avg       0.79      0.68      0.65      1688\n",
      "weighted avg       0.79      0.69      0.65      1688\n",
      "\n",
      "\n",
      "Accuracy of Training data kernel poly  C  100  degree 1 :  0.9093243777163177\n",
      "Accuracy of Testing data kernel poly  C  100  degree 1 :  0.8957345971563981\n",
      "              precision    recall  f1-score   support\n",
      "\n",
      "         0.0       0.90      0.89      0.90       846\n",
      "         1.0       0.89      0.90      0.90       842\n",
      "\n",
      "    accuracy                           0.90      1688\n",
      "   macro avg       0.90      0.90      0.90      1688\n",
      "weighted avg       0.90      0.90      0.90      1688\n",
      "\n",
      "\n",
      "Accuracy of Training data kernel poly  C  100  degree 2 :  0.9170288423548004\n",
      "Accuracy of Testing data kernel poly  C  100  degree 2 :  0.8981042654028436\n",
      "              precision    recall  f1-score   support\n",
      "\n",
      "         0.0       0.89      0.91      0.90       846\n",
      "         1.0       0.91      0.89      0.90       842\n",
      "\n",
      "    accuracy                           0.90      1688\n",
      "   macro avg       0.90      0.90      0.90      1688\n",
      "weighted avg       0.90      0.90      0.90      1688\n",
      "\n",
      "\n",
      "Accuracy of Training data kernel poly  C  100  degree 3 :  0.9853812722244172\n",
      "Accuracy of Testing data kernel poly  C  100  degree 3 :  0.9680094786729858\n",
      "              precision    recall  f1-score   support\n",
      "\n",
      "         0.0       0.97      0.97      0.97       846\n",
      "         1.0       0.97      0.97      0.97       842\n",
      "\n",
      "    accuracy                           0.97      1688\n",
      "   macro avg       0.97      0.97      0.97      1688\n",
      "weighted avg       0.97      0.97      0.97      1688\n",
      "\n",
      "\n",
      "Accuracy of Training data kernel poly  C  100  degree 4 :  0.9658237850651916\n",
      "Accuracy of Testing data kernel poly  C  100  degree 4 :  0.9360189573459715\n",
      "              precision    recall  f1-score   support\n",
      "\n",
      "         0.0       0.91      0.96      0.94       846\n",
      "         1.0       0.96      0.91      0.93       842\n",
      "\n",
      "    accuracy                           0.94      1688\n",
      "   macro avg       0.94      0.94      0.94      1688\n",
      "weighted avg       0.94      0.94      0.94      1688\n",
      "\n",
      "\n",
      "Accuracy of Training data kernel poly  C  100  degree 5 :  0.9344132753852232\n",
      "Accuracy of Testing data kernel poly  C  100  degree 5 :  0.9188388625592417\n",
      "              precision    recall  f1-score   support\n",
      "\n",
      "         0.0       0.87      0.98      0.92       846\n",
      "         1.0       0.98      0.86      0.91       842\n",
      "\n",
      "    accuracy                           0.92      1688\n",
      "   macro avg       0.93      0.92      0.92      1688\n",
      "weighted avg       0.93      0.92      0.92      1688\n",
      "\n",
      "\n",
      "Accuracy of Training data kernel poly  C  100  degree 6 :  0.8449229553536152\n",
      "Accuracy of Testing data kernel poly  C  100  degree 6 :  0.8370853080568721\n",
      "              precision    recall  f1-score   support\n",
      "\n",
      "         0.0       0.76      0.98      0.86       846\n",
      "         1.0       0.98      0.69      0.81       842\n",
      "\n",
      "    accuracy                           0.84      1688\n",
      "   macro avg       0.87      0.84      0.83      1688\n",
      "weighted avg       0.87      0.84      0.83      1688\n",
      "\n",
      "\n",
      "Accuracy of Training data kernel poly  C  1000  degree 1 :  0.9091268273409719\n",
      "Accuracy of Testing data kernel poly  C  1000  degree 1 :  0.8957345971563981\n",
      "              precision    recall  f1-score   support\n",
      "\n",
      "         0.0       0.90      0.89      0.90       846\n",
      "         1.0       0.89      0.90      0.90       842\n",
      "\n",
      "    accuracy                           0.90      1688\n",
      "   macro avg       0.90      0.90      0.90      1688\n",
      "weighted avg       0.90      0.90      0.90      1688\n",
      "\n",
      "\n",
      "Accuracy of Training data kernel poly  C  1000  degree 2 :  0.9205847491110233\n",
      "Accuracy of Testing data kernel poly  C  1000  degree 2 :  0.898696682464455\n",
      "              precision    recall  f1-score   support\n",
      "\n",
      "         0.0       0.89      0.91      0.90       846\n",
      "         1.0       0.91      0.89      0.90       842\n",
      "\n",
      "    accuracy                           0.90      1688\n",
      "   macro avg       0.90      0.90      0.90      1688\n",
      "weighted avg       0.90      0.90      0.90      1688\n",
      "\n",
      "\n",
      "Accuracy of Training data kernel poly  C  1000  degree 3 :  0.9954563413670486\n",
      "Accuracy of Testing data kernel poly  C  1000  degree 3 :  0.9834123222748815\n",
      "              precision    recall  f1-score   support\n",
      "\n",
      "         0.0       0.99      0.97      0.98       846\n",
      "         1.0       0.97      0.99      0.98       842\n",
      "\n",
      "    accuracy                           0.98      1688\n",
      "   macro avg       0.98      0.98      0.98      1688\n",
      "weighted avg       0.98      0.98      0.98      1688\n",
      "\n",
      "\n",
      "Accuracy of Training data kernel poly  C  1000  degree 4 :  0.9940734887396286\n",
      "Accuracy of Testing data kernel poly  C  1000  degree 4 :  0.9662322274881516\n",
      "              precision    recall  f1-score   support\n",
      "\n",
      "         0.0       0.98      0.95      0.97       846\n",
      "         1.0       0.95      0.98      0.97       842\n",
      "\n",
      "    accuracy                           0.97      1688\n",
      "   macro avg       0.97      0.97      0.97      1688\n",
      "weighted avg       0.97      0.97      0.97      1688\n",
      "\n",
      "\n",
      "Accuracy of Training data kernel poly  C  1000  degree 5 :  0.980047412090083\n",
      "Accuracy of Testing data kernel poly  C  1000  degree 5 :  0.9537914691943128\n",
      "              precision    recall  f1-score   support\n",
      "\n",
      "         0.0       0.94      0.97      0.95       846\n",
      "         1.0       0.97      0.94      0.95       842\n",
      "\n",
      "    accuracy                           0.95      1688\n",
      "   macro avg       0.95      0.95      0.95      1688\n",
      "weighted avg       0.95      0.95      0.95      1688\n",
      "\n",
      "\n",
      "Accuracy of Training data kernel poly  C  1000  degree 6 :  0.9407348873962861\n",
      "Accuracy of Testing data kernel poly  C  1000  degree 6 :  0.9140995260663507\n",
      "              precision    recall  f1-score   support\n",
      "\n",
      "         0.0       0.87      0.97      0.92       846\n",
      "         1.0       0.97      0.86      0.91       842\n",
      "\n",
      "    accuracy                           0.91      1688\n",
      "   macro avg       0.92      0.91      0.91      1688\n",
      "weighted avg       0.92      0.91      0.91      1688\n",
      "\n",
      "\n",
      "Accuracy of Training data kernel sigmoid  C  0.1  degree 1 :  0.9045831687080206\n",
      "Accuracy of Testing data kernel sigmoid  C  0.1  degree 1 :  0.8904028436018957\n",
      "              precision    recall  f1-score   support\n",
      "\n",
      "         0.0       0.90      0.88      0.89       846\n",
      "         1.0       0.89      0.90      0.89       842\n",
      "\n",
      "    accuracy                           0.89      1688\n",
      "   macro avg       0.89      0.89      0.89      1688\n",
      "weighted avg       0.89      0.89      0.89      1688\n",
      "\n",
      "\n",
      "Accuracy of Training data kernel sigmoid  C  0.1  degree 2 :  0.9045831687080206\n",
      "Accuracy of Testing data kernel sigmoid  C  0.1  degree 2 :  0.8904028436018957\n",
      "              precision    recall  f1-score   support\n",
      "\n",
      "         0.0       0.90      0.88      0.89       846\n",
      "         1.0       0.89      0.90      0.89       842\n",
      "\n",
      "    accuracy                           0.89      1688\n",
      "   macro avg       0.89      0.89      0.89      1688\n",
      "weighted avg       0.89      0.89      0.89      1688\n",
      "\n",
      "\n",
      "Accuracy of Training data kernel sigmoid  C  0.1  degree 3 :  0.9045831687080206\n",
      "Accuracy of Testing data kernel sigmoid  C  0.1  degree 3 :  0.8904028436018957\n",
      "              precision    recall  f1-score   support\n",
      "\n",
      "         0.0       0.90      0.88      0.89       846\n",
      "         1.0       0.89      0.90      0.89       842\n",
      "\n",
      "    accuracy                           0.89      1688\n",
      "   macro avg       0.89      0.89      0.89      1688\n",
      "weighted avg       0.89      0.89      0.89      1688\n",
      "\n",
      "\n",
      "Accuracy of Training data kernel sigmoid  C  0.1  degree 4 :  0.9045831687080206\n",
      "Accuracy of Testing data kernel sigmoid  C  0.1  degree 4 :  0.8904028436018957\n",
      "              precision    recall  f1-score   support\n",
      "\n",
      "         0.0       0.90      0.88      0.89       846\n",
      "         1.0       0.89      0.90      0.89       842\n",
      "\n",
      "    accuracy                           0.89      1688\n",
      "   macro avg       0.89      0.89      0.89      1688\n",
      "weighted avg       0.89      0.89      0.89      1688\n",
      "\n",
      "\n",
      "Accuracy of Training data kernel sigmoid  C  0.1  degree 5 :  0.9045831687080206\n",
      "Accuracy of Testing data kernel sigmoid  C  0.1  degree 5 :  0.8904028436018957\n",
      "              precision    recall  f1-score   support\n",
      "\n",
      "         0.0       0.90      0.88      0.89       846\n",
      "         1.0       0.89      0.90      0.89       842\n",
      "\n",
      "    accuracy                           0.89      1688\n",
      "   macro avg       0.89      0.89      0.89      1688\n",
      "weighted avg       0.89      0.89      0.89      1688\n",
      "\n",
      "\n",
      "Accuracy of Training data kernel sigmoid  C  0.1  degree 6 :  0.9045831687080206\n",
      "Accuracy of Testing data kernel sigmoid  C  0.1  degree 6 :  0.8904028436018957\n",
      "              precision    recall  f1-score   support\n",
      "\n",
      "         0.0       0.90      0.88      0.89       846\n",
      "         1.0       0.89      0.90      0.89       842\n",
      "\n",
      "    accuracy                           0.89      1688\n",
      "   macro avg       0.89      0.89      0.89      1688\n",
      "weighted avg       0.89      0.89      0.89      1688\n",
      "\n",
      "\n",
      "Accuracy of Training data kernel sigmoid  C  1  degree 1 :  0.865073093638878\n",
      "Accuracy of Testing data kernel sigmoid  C  1  degree 1 :  0.8542654028436019\n",
      "              precision    recall  f1-score   support\n",
      "\n",
      "         0.0       0.85      0.86      0.86       846\n",
      "         1.0       0.86      0.84      0.85       842\n",
      "\n",
      "    accuracy                           0.85      1688\n",
      "   macro avg       0.85      0.85      0.85      1688\n",
      "weighted avg       0.85      0.85      0.85      1688\n",
      "\n",
      "\n",
      "Accuracy of Training data kernel sigmoid  C  1  degree 2 :  0.865073093638878\n",
      "Accuracy of Testing data kernel sigmoid  C  1  degree 2 :  0.8542654028436019\n",
      "              precision    recall  f1-score   support\n",
      "\n",
      "         0.0       0.85      0.86      0.86       846\n",
      "         1.0       0.86      0.84      0.85       842\n",
      "\n",
      "    accuracy                           0.85      1688\n",
      "   macro avg       0.85      0.85      0.85      1688\n",
      "weighted avg       0.85      0.85      0.85      1688\n",
      "\n",
      "\n",
      "Accuracy of Training data kernel sigmoid  C  1  degree 3 :  0.865073093638878\n",
      "Accuracy of Testing data kernel sigmoid  C  1  degree 3 :  0.8542654028436019\n",
      "              precision    recall  f1-score   support\n",
      "\n",
      "         0.0       0.85      0.86      0.86       846\n",
      "         1.0       0.86      0.84      0.85       842\n",
      "\n",
      "    accuracy                           0.85      1688\n",
      "   macro avg       0.85      0.85      0.85      1688\n",
      "weighted avg       0.85      0.85      0.85      1688\n",
      "\n",
      "\n",
      "Accuracy of Training data kernel sigmoid  C  1  degree 4 :  0.865073093638878\n",
      "Accuracy of Testing data kernel sigmoid  C  1  degree 4 :  0.8542654028436019\n",
      "              precision    recall  f1-score   support\n",
      "\n",
      "         0.0       0.85      0.86      0.86       846\n",
      "         1.0       0.86      0.84      0.85       842\n",
      "\n",
      "    accuracy                           0.85      1688\n",
      "   macro avg       0.85      0.85      0.85      1688\n",
      "weighted avg       0.85      0.85      0.85      1688\n",
      "\n",
      "\n",
      "Accuracy of Training data kernel sigmoid  C  1  degree 5 :  0.865073093638878\n",
      "Accuracy of Testing data kernel sigmoid  C  1  degree 5 :  0.8542654028436019\n",
      "              precision    recall  f1-score   support\n",
      "\n",
      "         0.0       0.85      0.86      0.86       846\n",
      "         1.0       0.86      0.84      0.85       842\n",
      "\n",
      "    accuracy                           0.85      1688\n",
      "   macro avg       0.85      0.85      0.85      1688\n",
      "weighted avg       0.85      0.85      0.85      1688\n",
      "\n",
      "\n",
      "Accuracy of Training data kernel sigmoid  C  1  degree 6 :  0.865073093638878\n",
      "Accuracy of Testing data kernel sigmoid  C  1  degree 6 :  0.8542654028436019\n",
      "              precision    recall  f1-score   support\n",
      "\n",
      "         0.0       0.85      0.86      0.86       846\n",
      "         1.0       0.86      0.84      0.85       842\n",
      "\n",
      "    accuracy                           0.85      1688\n",
      "   macro avg       0.85      0.85      0.85      1688\n",
      "weighted avg       0.85      0.85      0.85      1688\n",
      "\n",
      "\n",
      "Accuracy of Training data kernel sigmoid  C  100  degree 1 :  0.858158830501778\n",
      "Accuracy of Testing data kernel sigmoid  C  100  degree 1 :  0.8412322274881516\n",
      "              precision    recall  f1-score   support\n",
      "\n",
      "         0.0       0.83      0.85      0.84       846\n",
      "         1.0       0.85      0.83      0.84       842\n",
      "\n",
      "    accuracy                           0.84      1688\n",
      "   macro avg       0.84      0.84      0.84      1688\n",
      "weighted avg       0.84      0.84      0.84      1688\n",
      "\n",
      "\n",
      "Accuracy of Training data kernel sigmoid  C  100  degree 2 :  0.858158830501778\n",
      "Accuracy of Testing data kernel sigmoid  C  100  degree 2 :  0.8412322274881516\n",
      "              precision    recall  f1-score   support\n",
      "\n",
      "         0.0       0.83      0.85      0.84       846\n",
      "         1.0       0.85      0.83      0.84       842\n",
      "\n",
      "    accuracy                           0.84      1688\n",
      "   macro avg       0.84      0.84      0.84      1688\n",
      "weighted avg       0.84      0.84      0.84      1688\n",
      "\n",
      "\n",
      "Accuracy of Training data kernel sigmoid  C  100  degree 3 :  0.858158830501778\n",
      "Accuracy of Testing data kernel sigmoid  C  100  degree 3 :  0.8412322274881516\n",
      "              precision    recall  f1-score   support\n",
      "\n",
      "         0.0       0.83      0.85      0.84       846\n",
      "         1.0       0.85      0.83      0.84       842\n",
      "\n",
      "    accuracy                           0.84      1688\n",
      "   macro avg       0.84      0.84      0.84      1688\n",
      "weighted avg       0.84      0.84      0.84      1688\n",
      "\n",
      "\n",
      "Accuracy of Training data kernel sigmoid  C  100  degree 4 :  0.858158830501778\n",
      "Accuracy of Testing data kernel sigmoid  C  100  degree 4 :  0.8412322274881516\n",
      "              precision    recall  f1-score   support\n",
      "\n",
      "         0.0       0.83      0.85      0.84       846\n",
      "         1.0       0.85      0.83      0.84       842\n",
      "\n",
      "    accuracy                           0.84      1688\n",
      "   macro avg       0.84      0.84      0.84      1688\n",
      "weighted avg       0.84      0.84      0.84      1688\n",
      "\n",
      "\n",
      "Accuracy of Training data kernel sigmoid  C  100  degree 5 :  0.858158830501778\n",
      "Accuracy of Testing data kernel sigmoid  C  100  degree 5 :  0.8412322274881516\n",
      "              precision    recall  f1-score   support\n",
      "\n",
      "         0.0       0.83      0.85      0.84       846\n",
      "         1.0       0.85      0.83      0.84       842\n",
      "\n",
      "    accuracy                           0.84      1688\n",
      "   macro avg       0.84      0.84      0.84      1688\n",
      "weighted avg       0.84      0.84      0.84      1688\n",
      "\n",
      "\n",
      "Accuracy of Training data kernel sigmoid  C  100  degree 6 :  0.858158830501778\n",
      "Accuracy of Testing data kernel sigmoid  C  100  degree 6 :  0.8412322274881516\n",
      "              precision    recall  f1-score   support\n",
      "\n",
      "         0.0       0.83      0.85      0.84       846\n",
      "         1.0       0.85      0.83      0.84       842\n",
      "\n",
      "    accuracy                           0.84      1688\n",
      "   macro avg       0.84      0.84      0.84      1688\n",
      "weighted avg       0.84      0.84      0.84      1688\n",
      "\n",
      "\n",
      "Accuracy of Training data kernel sigmoid  C  1000  degree 1 :  0.8585539312524694\n",
      "Accuracy of Testing data kernel sigmoid  C  1000  degree 1 :  0.8412322274881516\n",
      "              precision    recall  f1-score   support\n",
      "\n",
      "         0.0       0.83      0.85      0.84       846\n",
      "         1.0       0.85      0.83      0.84       842\n",
      "\n",
      "    accuracy                           0.84      1688\n",
      "   macro avg       0.84      0.84      0.84      1688\n",
      "weighted avg       0.84      0.84      0.84      1688\n",
      "\n",
      "\n",
      "Accuracy of Training data kernel sigmoid  C  1000  degree 2 :  0.8585539312524694\n",
      "Accuracy of Testing data kernel sigmoid  C  1000  degree 2 :  0.8412322274881516\n",
      "              precision    recall  f1-score   support\n",
      "\n",
      "         0.0       0.83      0.85      0.84       846\n",
      "         1.0       0.85      0.83      0.84       842\n",
      "\n",
      "    accuracy                           0.84      1688\n",
      "   macro avg       0.84      0.84      0.84      1688\n",
      "weighted avg       0.84      0.84      0.84      1688\n",
      "\n",
      "\n",
      "Accuracy of Training data kernel sigmoid  C  1000  degree 3 :  0.8585539312524694\n",
      "Accuracy of Testing data kernel sigmoid  C  1000  degree 3 :  0.8412322274881516\n",
      "              precision    recall  f1-score   support\n",
      "\n",
      "         0.0       0.83      0.85      0.84       846\n",
      "         1.0       0.85      0.83      0.84       842\n",
      "\n",
      "    accuracy                           0.84      1688\n",
      "   macro avg       0.84      0.84      0.84      1688\n",
      "weighted avg       0.84      0.84      0.84      1688\n",
      "\n",
      "\n",
      "Accuracy of Training data kernel sigmoid  C  1000  degree 4 :  0.8585539312524694\n",
      "Accuracy of Testing data kernel sigmoid  C  1000  degree 4 :  0.8412322274881516\n",
      "              precision    recall  f1-score   support\n",
      "\n",
      "         0.0       0.83      0.85      0.84       846\n",
      "         1.0       0.85      0.83      0.84       842\n",
      "\n",
      "    accuracy                           0.84      1688\n",
      "   macro avg       0.84      0.84      0.84      1688\n",
      "weighted avg       0.84      0.84      0.84      1688\n",
      "\n",
      "\n",
      "Accuracy of Training data kernel sigmoid  C  1000  degree 5 :  0.8585539312524694\n",
      "Accuracy of Testing data kernel sigmoid  C  1000  degree 5 :  0.8412322274881516\n",
      "              precision    recall  f1-score   support\n",
      "\n",
      "         0.0       0.83      0.85      0.84       846\n",
      "         1.0       0.85      0.83      0.84       842\n",
      "\n",
      "    accuracy                           0.84      1688\n",
      "   macro avg       0.84      0.84      0.84      1688\n",
      "weighted avg       0.84      0.84      0.84      1688\n",
      "\n",
      "\n",
      "Accuracy of Training data kernel sigmoid  C  1000  degree 6 :  0.8585539312524694\n",
      "Accuracy of Testing data kernel sigmoid  C  1000  degree 6 :  0.8412322274881516\n",
      "              precision    recall  f1-score   support\n",
      "\n",
      "         0.0       0.83      0.85      0.84       846\n",
      "         1.0       0.85      0.83      0.84       842\n",
      "\n",
      "    accuracy                           0.84      1688\n",
      "   macro avg       0.84      0.84      0.84      1688\n",
      "weighted avg       0.84      0.84      0.84      1688\n",
      "\n",
      "\n",
      "Accuracy of Training data kernel linear  C  0.1  degree 1 :  0.9073488739628606\n",
      "Accuracy of Testing data kernel linear  C  0.1  degree 1 :  0.8992890995260664\n",
      "              precision    recall  f1-score   support\n",
      "\n",
      "         0.0       0.90      0.89      0.90       846\n",
      "         1.0       0.89      0.90      0.90       842\n",
      "\n",
      "    accuracy                           0.90      1688\n",
      "   macro avg       0.90      0.90      0.90      1688\n",
      "weighted avg       0.90      0.90      0.90      1688\n",
      "\n",
      "\n",
      "Accuracy of Training data kernel linear  C  0.1  degree 2 :  0.9073488739628606\n",
      "Accuracy of Testing data kernel linear  C  0.1  degree 2 :  0.8992890995260664\n",
      "              precision    recall  f1-score   support\n",
      "\n",
      "         0.0       0.90      0.89      0.90       846\n",
      "         1.0       0.89      0.90      0.90       842\n",
      "\n",
      "    accuracy                           0.90      1688\n",
      "   macro avg       0.90      0.90      0.90      1688\n",
      "weighted avg       0.90      0.90      0.90      1688\n",
      "\n",
      "\n",
      "Accuracy of Training data kernel linear  C  0.1  degree 3 :  0.9073488739628606\n",
      "Accuracy of Testing data kernel linear  C  0.1  degree 3 :  0.8992890995260664\n",
      "              precision    recall  f1-score   support\n",
      "\n",
      "         0.0       0.90      0.89      0.90       846\n",
      "         1.0       0.89      0.90      0.90       842\n",
      "\n",
      "    accuracy                           0.90      1688\n",
      "   macro avg       0.90      0.90      0.90      1688\n",
      "weighted avg       0.90      0.90      0.90      1688\n",
      "\n",
      "\n",
      "Accuracy of Training data kernel linear  C  0.1  degree 4 :  0.9073488739628606\n",
      "Accuracy of Testing data kernel linear  C  0.1  degree 4 :  0.8992890995260664\n",
      "              precision    recall  f1-score   support\n",
      "\n",
      "         0.0       0.90      0.89      0.90       846\n",
      "         1.0       0.89      0.90      0.90       842\n",
      "\n",
      "    accuracy                           0.90      1688\n",
      "   macro avg       0.90      0.90      0.90      1688\n",
      "weighted avg       0.90      0.90      0.90      1688\n",
      "\n",
      "\n",
      "Accuracy of Training data kernel linear  C  0.1  degree 5 :  0.9073488739628606\n",
      "Accuracy of Testing data kernel linear  C  0.1  degree 5 :  0.8992890995260664\n",
      "              precision    recall  f1-score   support\n",
      "\n",
      "         0.0       0.90      0.89      0.90       846\n",
      "         1.0       0.89      0.90      0.90       842\n",
      "\n",
      "    accuracy                           0.90      1688\n",
      "   macro avg       0.90      0.90      0.90      1688\n",
      "weighted avg       0.90      0.90      0.90      1688\n",
      "\n",
      "\n",
      "Accuracy of Training data kernel linear  C  0.1  degree 6 :  0.9073488739628606\n",
      "Accuracy of Testing data kernel linear  C  0.1  degree 6 :  0.8992890995260664\n",
      "              precision    recall  f1-score   support\n",
      "\n",
      "         0.0       0.90      0.89      0.90       846\n",
      "         1.0       0.89      0.90      0.90       842\n",
      "\n",
      "    accuracy                           0.90      1688\n",
      "   macro avg       0.90      0.90      0.90      1688\n",
      "weighted avg       0.90      0.90      0.90      1688\n",
      "\n",
      "\n",
      "Accuracy of Training data kernel linear  C  1  degree 1 :  0.9095219280916633\n",
      "Accuracy of Testing data kernel linear  C  1  degree 1 :  0.8957345971563981\n",
      "              precision    recall  f1-score   support\n",
      "\n",
      "         0.0       0.90      0.89      0.90       846\n",
      "         1.0       0.89      0.90      0.90       842\n",
      "\n",
      "    accuracy                           0.90      1688\n",
      "   macro avg       0.90      0.90      0.90      1688\n",
      "weighted avg       0.90      0.90      0.90      1688\n",
      "\n",
      "\n",
      "Accuracy of Training data kernel linear  C  1  degree 2 :  0.9095219280916633\n",
      "Accuracy of Testing data kernel linear  C  1  degree 2 :  0.8957345971563981\n",
      "              precision    recall  f1-score   support\n",
      "\n",
      "         0.0       0.90      0.89      0.90       846\n",
      "         1.0       0.89      0.90      0.90       842\n",
      "\n",
      "    accuracy                           0.90      1688\n",
      "   macro avg       0.90      0.90      0.90      1688\n",
      "weighted avg       0.90      0.90      0.90      1688\n",
      "\n",
      "\n",
      "Accuracy of Training data kernel linear  C  1  degree 3 :  0.9095219280916633\n",
      "Accuracy of Testing data kernel linear  C  1  degree 3 :  0.8957345971563981\n",
      "              precision    recall  f1-score   support\n",
      "\n",
      "         0.0       0.90      0.89      0.90       846\n",
      "         1.0       0.89      0.90      0.90       842\n",
      "\n",
      "    accuracy                           0.90      1688\n",
      "   macro avg       0.90      0.90      0.90      1688\n",
      "weighted avg       0.90      0.90      0.90      1688\n",
      "\n",
      "\n",
      "Accuracy of Training data kernel linear  C  1  degree 4 :  0.9095219280916633\n",
      "Accuracy of Testing data kernel linear  C  1  degree 4 :  0.8957345971563981\n",
      "              precision    recall  f1-score   support\n",
      "\n",
      "         0.0       0.90      0.89      0.90       846\n",
      "         1.0       0.89      0.90      0.90       842\n",
      "\n",
      "    accuracy                           0.90      1688\n",
      "   macro avg       0.90      0.90      0.90      1688\n",
      "weighted avg       0.90      0.90      0.90      1688\n",
      "\n",
      "\n",
      "Accuracy of Training data kernel linear  C  1  degree 5 :  0.9095219280916633\n",
      "Accuracy of Testing data kernel linear  C  1  degree 5 :  0.8957345971563981\n",
      "              precision    recall  f1-score   support\n",
      "\n",
      "         0.0       0.90      0.89      0.90       846\n",
      "         1.0       0.89      0.90      0.90       842\n",
      "\n",
      "    accuracy                           0.90      1688\n",
      "   macro avg       0.90      0.90      0.90      1688\n",
      "weighted avg       0.90      0.90      0.90      1688\n",
      "\n",
      "\n",
      "Accuracy of Training data kernel linear  C  1  degree 6 :  0.9095219280916633\n",
      "Accuracy of Testing data kernel linear  C  1  degree 6 :  0.8957345971563981\n",
      "              precision    recall  f1-score   support\n",
      "\n",
      "         0.0       0.90      0.89      0.90       846\n",
      "         1.0       0.89      0.90      0.90       842\n",
      "\n",
      "    accuracy                           0.90      1688\n",
      "   macro avg       0.90      0.90      0.90      1688\n",
      "weighted avg       0.90      0.90      0.90      1688\n",
      "\n",
      "\n",
      "Accuracy of Training data kernel linear  C  100  degree 1 :  0.9093243777163177\n",
      "Accuracy of Testing data kernel linear  C  100  degree 1 :  0.8951421800947867\n",
      "              precision    recall  f1-score   support\n",
      "\n",
      "         0.0       0.90      0.89      0.89       846\n",
      "         1.0       0.89      0.90      0.90       842\n",
      "\n",
      "    accuracy                           0.90      1688\n",
      "   macro avg       0.90      0.90      0.90      1688\n",
      "weighted avg       0.90      0.90      0.90      1688\n",
      "\n",
      "\n",
      "Accuracy of Training data kernel linear  C  100  degree 2 :  0.9093243777163177\n",
      "Accuracy of Testing data kernel linear  C  100  degree 2 :  0.8951421800947867\n",
      "              precision    recall  f1-score   support\n",
      "\n",
      "         0.0       0.90      0.89      0.89       846\n",
      "         1.0       0.89      0.90      0.90       842\n",
      "\n",
      "    accuracy                           0.90      1688\n",
      "   macro avg       0.90      0.90      0.90      1688\n",
      "weighted avg       0.90      0.90      0.90      1688\n",
      "\n",
      "\n",
      "Accuracy of Training data kernel linear  C  100  degree 3 :  0.9093243777163177\n",
      "Accuracy of Testing data kernel linear  C  100  degree 3 :  0.8951421800947867\n",
      "              precision    recall  f1-score   support\n",
      "\n",
      "         0.0       0.90      0.89      0.89       846\n",
      "         1.0       0.89      0.90      0.90       842\n",
      "\n",
      "    accuracy                           0.90      1688\n",
      "   macro avg       0.90      0.90      0.90      1688\n",
      "weighted avg       0.90      0.90      0.90      1688\n",
      "\n",
      "\n",
      "Accuracy of Training data kernel linear  C  100  degree 4 :  0.9093243777163177\n",
      "Accuracy of Testing data kernel linear  C  100  degree 4 :  0.8951421800947867\n",
      "              precision    recall  f1-score   support\n",
      "\n",
      "         0.0       0.90      0.89      0.89       846\n",
      "         1.0       0.89      0.90      0.90       842\n",
      "\n",
      "    accuracy                           0.90      1688\n",
      "   macro avg       0.90      0.90      0.90      1688\n",
      "weighted avg       0.90      0.90      0.90      1688\n",
      "\n",
      "\n",
      "Accuracy of Training data kernel linear  C  100  degree 5 :  0.9093243777163177\n",
      "Accuracy of Testing data kernel linear  C  100  degree 5 :  0.8951421800947867\n",
      "              precision    recall  f1-score   support\n",
      "\n",
      "         0.0       0.90      0.89      0.89       846\n",
      "         1.0       0.89      0.90      0.90       842\n",
      "\n",
      "    accuracy                           0.90      1688\n",
      "   macro avg       0.90      0.90      0.90      1688\n",
      "weighted avg       0.90      0.90      0.90      1688\n",
      "\n",
      "\n",
      "Accuracy of Training data kernel linear  C  100  degree 6 :  0.9093243777163177\n",
      "Accuracy of Testing data kernel linear  C  100  degree 6 :  0.8951421800947867\n",
      "              precision    recall  f1-score   support\n",
      "\n",
      "         0.0       0.90      0.89      0.89       846\n",
      "         1.0       0.89      0.90      0.90       842\n",
      "\n",
      "    accuracy                           0.90      1688\n",
      "   macro avg       0.90      0.90      0.90      1688\n",
      "weighted avg       0.90      0.90      0.90      1688\n",
      "\n",
      "\n",
      "Accuracy of Training data kernel linear  C  1000  degree 1 :  0.9089292769656262\n",
      "Accuracy of Testing data kernel linear  C  1000  degree 1 :  0.8957345971563981\n",
      "              precision    recall  f1-score   support\n",
      "\n",
      "         0.0       0.90      0.89      0.90       846\n",
      "         1.0       0.89      0.90      0.90       842\n",
      "\n",
      "    accuracy                           0.90      1688\n",
      "   macro avg       0.90      0.90      0.90      1688\n",
      "weighted avg       0.90      0.90      0.90      1688\n",
      "\n",
      "\n",
      "Accuracy of Training data kernel linear  C  1000  degree 2 :  0.9089292769656262\n",
      "Accuracy of Testing data kernel linear  C  1000  degree 2 :  0.8957345971563981\n",
      "              precision    recall  f1-score   support\n",
      "\n",
      "         0.0       0.90      0.89      0.90       846\n",
      "         1.0       0.89      0.90      0.90       842\n",
      "\n",
      "    accuracy                           0.90      1688\n",
      "   macro avg       0.90      0.90      0.90      1688\n",
      "weighted avg       0.90      0.90      0.90      1688\n",
      "\n",
      "\n",
      "Accuracy of Training data kernel linear  C  1000  degree 3 :  0.9089292769656262\n",
      "Accuracy of Testing data kernel linear  C  1000  degree 3 :  0.8957345971563981\n",
      "              precision    recall  f1-score   support\n",
      "\n",
      "         0.0       0.90      0.89      0.90       846\n",
      "         1.0       0.89      0.90      0.90       842\n",
      "\n",
      "    accuracy                           0.90      1688\n",
      "   macro avg       0.90      0.90      0.90      1688\n",
      "weighted avg       0.90      0.90      0.90      1688\n",
      "\n",
      "\n",
      "Accuracy of Training data kernel linear  C  1000  degree 4 :  0.9089292769656262\n",
      "Accuracy of Testing data kernel linear  C  1000  degree 4 :  0.8957345971563981\n",
      "              precision    recall  f1-score   support\n",
      "\n",
      "         0.0       0.90      0.89      0.90       846\n",
      "         1.0       0.89      0.90      0.90       842\n",
      "\n",
      "    accuracy                           0.90      1688\n",
      "   macro avg       0.90      0.90      0.90      1688\n",
      "weighted avg       0.90      0.90      0.90      1688\n",
      "\n",
      "\n",
      "Accuracy of Training data kernel linear  C  1000  degree 5 :  0.9089292769656262\n",
      "Accuracy of Testing data kernel linear  C  1000  degree 5 :  0.8957345971563981\n",
      "              precision    recall  f1-score   support\n",
      "\n",
      "         0.0       0.90      0.89      0.90       846\n",
      "         1.0       0.89      0.90      0.90       842\n",
      "\n",
      "    accuracy                           0.90      1688\n",
      "   macro avg       0.90      0.90      0.90      1688\n",
      "weighted avg       0.90      0.90      0.90      1688\n",
      "\n",
      "\n",
      "Accuracy of Training data kernel linear  C  1000  degree 6 :  0.9089292769656262\n",
      "Accuracy of Testing data kernel linear  C  1000  degree 6 :  0.8957345971563981\n",
      "              precision    recall  f1-score   support\n",
      "\n",
      "         0.0       0.90      0.89      0.90       846\n",
      "         1.0       0.89      0.90      0.90       842\n",
      "\n",
      "    accuracy                           0.90      1688\n",
      "   macro avg       0.90      0.90      0.90      1688\n",
      "weighted avg       0.90      0.90      0.90      1688\n",
      "\n",
      "\n"
     ]
    }
   ],
   "source": [
    "c=[0.1,1,100,1000]\n",
    "kernel=['rbf', 'poly', 'sigmoid', 'linear']\n",
    "degree=[1, 2, 3, 4, 5, 6]\n",
    "\n",
    "for  i in kernel:\n",
    "    for j in c:\n",
    "        for k in degree:\n",
    "            from sklearn import svm\n",
    "            X_train, X_test, y_train, y_test = train_test_split(X_res, y_res, test_size=0.25, random_state=9)\n",
    "            clf = svm.SVC(gamma=0.025, C=j, kernel=i,degree=k)   \n",
    "            clf.fit(X_train , y_train)\n",
    "            y_pred = clf.predict(X_test)\n",
    "            print('Accuracy of Training data kernel', i ,' C ',j,' degree',k,': ',clf.score(X_train, y_train))\n",
    "            print('Accuracy of Testing data kernel', i ,' C ',j,' degree',k,': ',clf.score(X_test, y_test))  \n",
    "            print(classification_report(y_test, y_pred))\n",
    "            print(\"\")  \n",
    "            \n",
    "# manual tuning"
   ]
  },
  {
   "cell_type": "code",
   "execution_count": 108,
   "metadata": {},
   "outputs": [
    {
     "name": "stdout",
     "output_type": "stream",
     "text": [
      "Accuracy of Training data for k16 and metric manhattan is: 0.973133148952983\n",
      "Accuracy of Testing data for k16 and metric manhattan is: 0.9609004739336493\n",
      "              precision    recall  f1-score   support\n",
      "\n",
      "         0.0       0.98      0.94      0.96       846\n",
      "         1.0       0.94      0.98      0.96       842\n",
      "\n",
      "    accuracy                           0.96      1688\n",
      "   macro avg       0.96      0.96      0.96      1688\n",
      "weighted avg       0.96      0.96      0.96      1688\n",
      "\n"
     ]
    },
    {
     "data": {
      "image/png": "[encoded data removed]",
      "text/plain": [
       "<Figure size 576x360 with 2 Axes>"
      ]
     },
     "metadata": {
      "needs_background": "light"
     },
     "output_type": "display_data"
    }
   ],
   "source": [
    "#Final model\n",
    "X_train, X_test, y_train, y_test = train_test_split(X_res, y_res, test_size=0.25, random_state=9)\n",
    "KNN = KNeighborsClassifier(n_neighbors= 16,metric='manhattan')\n",
    "KNN.fit(X_train, y_train)\n",
    "predicted_labels = KNN.predict(X_test)\n",
    "print('Accuracy of Training data for k16 and metric manhattan is:',KNN.score(X_train, y_train))\n",
    "print('Accuracy of Testing data for k16 and metric manhattan is:',KNN.score(X_test, y_test))\n",
    "print(classification_report(y_test, predicted_labels))\n",
    "#confusion matrix\n",
    "conf_mat = confusion_matrix(y_test, y_pred)\n",
    "df_conf_mat = pd.DataFrame(conf_mat)\n",
    "plt.figure(figsize = (8,5))\n",
    "sns.heatmap(df_conf_mat, annot=True,fmt='g');"
   ]
  },
  {
   "cell_type": "markdown",
   "metadata": {},
   "source": [
    "## Conclusion\n",
    "\n",
    "1. The fisrt logistic regression model has a very good accuracy of 0.90, but its poor in other parameters. it is unnable to predict 1 properly because of the imbalace in the data set.\n",
    "2. The next logistic regression model has improvement in all paramters such as precision, recall f1 score etc. but accuracy has reduced, still its a very good level of accuracy.\n",
    "3. Threashold for the linear regression is 0.39. that is found from the RoC curve. the model has AuC of 0.93\n",
    "4. The final model is a KNN model with a good test accuracy of 0.91 and shows better result in other parameters.\n",
    "5. The total accuracy and other parameters such as recall, precision and f1 score have improved from base model to final model"
   ]
  },
  {
   "cell_type": "markdown",
   "metadata": {},
   "source": [
    "# End of project"
   ]
  }
 ],
 "metadata": {
  "kernelspec": {
   "display_name": "Python 3",
   "language": "python",
   "name": "python3"
  },
  "language_info": {
   "codemirror_mode": {
    "name": "ipython",
    "version": 3
   },
   "file_extension": ".py",
   "mimetype": "text/x-python",
   "name": "python",
   "nbconvert_exporter": "python",
   "pygments_lexer": "ipython3",
   "version": "3.7.6"
  }
 },
 "nbformat": 4,
 "nbformat_minor": 5
}
